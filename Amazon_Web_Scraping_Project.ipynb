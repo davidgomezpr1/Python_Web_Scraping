{
 "cells": [
  {
   "cell_type": "code",
   "execution_count": 95,
   "id": "ebc2dc58",
   "metadata": {
    "scrolled": true
   },
   "outputs": [],
   "source": [
    "# Import libraries\n",
    "\n",
    "import pandas as pd\n",
    "from bs4 import BeautifulSoup\n",
    "import requests\n",
    "import time\n",
    "import datetime\n",
    "import smtplib\n",
    "import warnings\n",
    "warnings.filterwarnings(\"ignore\")\n"
   ]
  },
  {
   "cell_type": "code",
   "execution_count": 96,
   "id": "7fc074c4",
   "metadata": {
    "scrolled": true
   },
   "outputs": [
    {
     "name": "stdout",
     "output_type": "stream",
     "text": [
      "\n",
      "            Jabra Elite 45h – Auriculares inalámbricos On-Ear compactos y Plegables – hasta 50 Horas de batería – tecnología de Llamadas a Dos micrófonos – Color Negro Titanio, Ajustable\n",
      "           \n",
      "\n",
      "\n",
      "\n",
      "\n",
      "                          49.90€\n",
      "                         \n",
      "\n",
      "                          49.90€\n",
      "                         \n",
      "\n",
      "\n",
      "\n",
      "\n",
      "           Visita la Store de Jabra\n",
      "          \n",
      "\n",
      "\n",
      "\n",
      "\n",
      "\n",
      "\n",
      "\n",
      "                4.3 de 5 estrellas\n",
      "               \n",
      "\n",
      "\n",
      "\n",
      "\n",
      "\n",
      "\n",
      "\n",
      "\n",
      "\n",
      "\n",
      "\n",
      "\n",
      "\n",
      "\n",
      "             547 valoraciones\n",
      "            \n",
      "\n",
      "\n",
      "\n",
      "\n",
      "\n"
     ]
    }
   ],
   "source": [
    "# Connecting to website 1 and pulling in the data\n",
    "\n",
    "URL = 'https://www.amazon.es/Jabra-Elite-45h-inal%C3%A1mbricos-Ear/dp/B084DPGBTC/ref=sr_1_4?__mk_es_ES=%C3%85M%C3%85%C5%BD%C3%95%C3%91&crid=84SHVCQLAXFX&keywords=auriculares+jabra&qid=1642185828&sprefix=auriculares+jabr%2Caps%2C117&sr=8-4'\n",
    "headers = {\"User-Agent\": \"Mozilla/5.0 (Macintosh; Intel Mac OS X 10_15_7) AppleWebKit/537.36 (KHTML, like Gecko) Chrome/97.0.4692.71 Safari/537.36\", \"Accept-Encoding\":\"gzip, deflate\", \"Accept\":\"text/html,application/xhtml+xml,application/xml;q=0.9,*/*;q=0.8\", \"DNT\":\"1\",\"Connection\":\"close\", \"Upgrade-Insecure-Requests\":\"1\"}\n",
    "# Obtaining my user agent by using https://httpbin.org/get.\n",
    "\n",
    "page = requests.get(URL, headers=headers)\n",
    "\n",
    "Soup1 = BeautifulSoup(page.content, 'html.parser')\n",
    "\n",
    "Soup2 = BeautifulSoup(Soup1.prettify(),'html.parser') # Using pretiffy to apply format to Soup1.\n",
    "\n",
    "\n",
    "# Let's now try get the item's title, price, the seller information, and average customer rating in Soup2. For this, I will use the id that \n",
    "# I found by looking through the page html code.\n",
    "\n",
    "title = Soup2.find(id='productTitle').get_text()\n",
    "\n",
    "price = Soup2.find(id ='corePrice_feature_div').get_text().replace(',','.')\n",
    "\n",
    "seller = Soup2.find(id ='bylineInfo').get_text()\n",
    "\n",
    "rating = Soup2.find(id ='averageCustomerReviews').get_text().replace(',','.')\n",
    "\n",
    "\n",
    "\n",
    "\n",
    "print(title)\n",
    "print(price)\n",
    "print(seller)\n",
    "print(rating)\n"
   ]
  },
  {
   "cell_type": "code",
   "execution_count": 97,
   "id": "c643af8f",
   "metadata": {
    "scrolled": true
   },
   "outputs": [
    {
     "name": "stdout",
     "output_type": "stream",
     "text": [
      "\n",
      "            JBL Tune500BT – Auriculares supraaurales inalámbricos con conexiones multipunto y asistente de voz Google now o Siri – Batería de 16h – Negro\n",
      "           \n",
      "\n",
      "\n",
      "\n",
      "\n",
      "\n",
      "                          39.90€\n",
      "                         \n",
      "\n",
      "\n",
      "                           39\n",
      "                           \n",
      "                            .\n",
      "                           \n",
      "\n",
      "\n",
      "                           90\n",
      "                          \n",
      "\n",
      "                           €\n",
      "                          \n",
      "\n",
      "\n",
      "\n",
      "\n",
      "\n",
      "\n",
      "\n",
      "           Visita la Store de JBL\n",
      "          \n",
      "\n",
      "\n",
      "\n",
      "\n",
      "\n",
      "\n",
      "\n",
      "                4.5 de 5 estrellas\n",
      "               \n",
      "\n",
      "\n",
      "\n",
      "\n",
      "\n",
      "\n",
      "\n",
      "\n",
      "\n",
      "\n",
      "\n",
      "\n",
      "\n",
      "\n",
      "             38.415 valoraciones\n",
      "            \n",
      "\n",
      "\n",
      "\n",
      "\n",
      "\n"
     ]
    }
   ],
   "source": [
    "# Connecting to website 2 and pulling in the data. Same process as above.\n",
    "\n",
    "URL2 = 'https://www.amazon.es/JBL-Tune500BT-Auriculares-supraaurales-inal%C3%A1mbricos/dp/B07HGG85HL/ref=sr_1_1_sspa?__mk_es_ES=%C3%85M%C3%85%C5%BD%C3%95%C3%91&crid=2J5WKDGTXN2WR&keywords=jbl+tune&qid=1642233983&sprefix=jbl+tune%2Caps%2C108&sr=8-1-spons&psc=1&spLa=ZW5jcnlwdGVkUXVhbGlmaWVyPUEzQUpXTzFQMVNXWDgxJmVuY3J5cHRlZElkPUEwNDg3MDI0MktUOEtXN0dIV0JLRSZlbmNyeXB0ZWRBZElkPUEwMDE5OTU1M0JXQU5BWlBLQVZMTSZ3aWRnZXROYW1lPXNwX2F0ZiZhY3Rpb249Y2xpY2tSZWRpcmVjdCZkb05vdExvZ0NsaWNrPXRydWU='\n",
    "\n",
    "page2 = requests.get(URL2, headers=headers)\n",
    "\n",
    "Soup3 = BeautifulSoup(page2.content, 'html.parser')\n",
    "\n",
    "Soup4= BeautifulSoup(Soup3.prettify(),'html.parser')\n",
    "\n",
    "\n",
    "title2 = Soup4.find(id='productTitle').get_text()\n",
    "\n",
    "price2 = Soup4.find(id ='corePrice_feature_div').get_text().replace(',','.')\n",
    "\n",
    "seller2 = Soup4.find(id ='bylineInfo').get_text()\n",
    "\n",
    "rating2 = Soup4.find(id ='averageCustomerReviews').get_text().replace(',','.')\n",
    "\n",
    "\n",
    "\n",
    "print(title2)\n",
    "print(price2)\n",
    "print(seller2)\n",
    "print(rating2)"
   ]
  },
  {
   "cell_type": "code",
   "execution_count": 98,
   "id": "3f289664",
   "metadata": {
    "scrolled": true
   },
   "outputs": [
    {
     "name": "stdout",
     "output_type": "stream",
     "text": [
      "\n",
      "            Sony Wh-CH510, 35 horas de duración de la batería con carga rápida, estilo en el oído, llamadas manos libres, asistente de voz, color negro, talla única (Reacondicionado)\n",
      "           \n",
      "\n",
      "\n",
      "\n",
      "\n",
      "                         49.00€\n",
      "                        \n",
      "\n",
      "                         49.00€\n",
      "                        \n",
      "\n",
      "\n",
      "\n",
      "\n",
      "           Visita la Store de Amazon Renewed\n",
      "          \n",
      "\n",
      "\n",
      "\n",
      "\n",
      "\n",
      "\n",
      "\n",
      "                4.4 de 5 estrellas\n",
      "               \n",
      "\n",
      "\n",
      "\n",
      "\n",
      "\n",
      "\n",
      "\n",
      "\n",
      "\n",
      "\n",
      "\n",
      "\n",
      "\n",
      "\n",
      "             115 valoraciones\n",
      "            \n",
      "\n",
      "\n",
      "\n",
      "\n",
      "\n"
     ]
    }
   ],
   "source": [
    "# Connecting to website 3 and pulling in the data\n",
    "\n",
    "URL3 = 'https://www.amazon.es/Sony-Wh-CH510-Auriculares-inal%C3%A1mbricos-reacondicionados/dp/B084YC1ZNM/ref=sr_1_31?__mk_es_ES=%C3%85M%C3%85%C5%BD%C3%95%C3%91&crid=2MK35ERO8V5W9&keywords=sony+on+ear&qid=1642234632&sprefix=sony+on+ear%2Caps%2C126&sr=8-31'\n",
    "\n",
    "\n",
    "page3 = requests.get(URL3, headers=headers)\n",
    "\n",
    "Soup5 = BeautifulSoup(page3.content, 'html.parser')\n",
    "\n",
    "Soup6= BeautifulSoup(Soup5.prettify(),'html.parser')\n",
    "\n",
    "\n",
    "title3 = Soup6.find(id='productTitle').get_text()\n",
    "\n",
    "price3 = Soup6.find(id ='corePrice_feature_div').get_text().replace(',','.')\n",
    "\n",
    "seller3 = Soup6.find(id ='bylineInfo').get_text()\n",
    "\n",
    "rating3 = Soup6.find(id ='averageCustomerReviews').get_text().replace(',','.')\n",
    "\n",
    "title3 = title3.replace('Auriculares inalámbricos ','')\n",
    "\n",
    "print(title3)\n",
    "print(price3)\n",
    "print(seller3)\n",
    "print(rating3)"
   ]
  },
  {
   "cell_type": "code",
   "execution_count": 99,
   "id": "02ae98e7",
   "metadata": {
    "scrolled": true
   },
   "outputs": [
    {
     "name": "stdout",
     "output_type": "stream",
     "text": [
      "['Jabra Elite 45h', 'JBL Tune500BT', 'Sony Wh-CH510']\n",
      "['49.90', '39.90', '49.00']\n",
      "['Jabra', 'JBL', 'Amazon Renewed']\n",
      "['4.3', '4.5', '4.4']\n"
     ]
    }
   ],
   "source": [
    "# Let's clean the results for just the desired characters and add them to a list.\n",
    "\n",
    "price = [price.strip()[0:5], price2.strip()[0:5], price3.strip()[0:5]]\n",
    "title = [title.strip()[0:15], title2.strip()[0:13], title3.strip()[0:13]]\n",
    "seller = [seller.strip()[-5:], seller2.strip()[-3:], seller3.strip()[-14:]]\n",
    "rating = [rating.strip()[:3], rating2.strip()[:3], rating3.strip()[:3]]\n",
    "\n",
    "print(title)\n",
    "print(price)\n",
    "print(seller)\n",
    "print(rating)\n"
   ]
  },
  {
   "cell_type": "code",
   "execution_count": 100,
   "id": "6f2862f6",
   "metadata": {
    "scrolled": true
   },
   "outputs": [],
   "source": [
    "#Leveraging zip() to obtain an iterator of tuples to then append the results to the csv.\n",
    "\n",
    "rows = zip(title, price, seller, rating)"
   ]
  },
  {
   "cell_type": "code",
   "execution_count": 101,
   "id": "ae5d073e",
   "metadata": {
    "scrolled": true
   },
   "outputs": [],
   "source": [
    "# Let's now create a CSV and write the headers and scraped data into it.\n",
    "\n",
    "import csv\n",
    "\n",
    "header = ['Title','Price', 'Seller', 'Rating']\n",
    "\n",
    "with open('AmazonScrapedData.csv', 'w', newline='', encoding='UTF8') as f:\n",
    "    writer = csv.writer(f)\n",
    "    writer.writerow(header)\n",
    "    for row in rows:\n",
    "        writer.writerow(row)\n",
    "    \n",
    "      \n",
    "# The CSV was succesfully created.\n"
   ]
  },
  {
   "cell_type": "code",
   "execution_count": 102,
   "id": "717e430d",
   "metadata": {
    "scrolled": true
   },
   "outputs": [
    {
     "name": "stdout",
     "output_type": "stream",
     "text": [
      "             Title  Price          Seller  Rating\n",
      "0  Jabra Elite 45h   49.9           Jabra     4.3\n",
      "1    JBL Tune500BT   39.9             JBL     4.5\n",
      "2    Sony Wh-CH510   49.0  Amazon Renewed     4.4\n"
     ]
    }
   ],
   "source": [
    "df = pd.read_csv('/Users/davidgomez/PycharmProjects/pythonProject/AmazonScrapedData.csv')\n",
    "\n",
    "print(df)"
   ]
  },
  {
   "cell_type": "code",
   "execution_count": 103,
   "id": "dabfe9f5",
   "metadata": {
    "scrolled": true
   },
   "outputs": [],
   "source": [
    "# Now we are appending data to the csv\n",
    "\n",
    "with open('AmazonScrapedData.csv', 'a+', newline='', encoding='UTF8') as f:\n",
    "    writer = csv.writer(f)\n",
    "    writer.writerow(row)"
   ]
  },
  {
   "cell_type": "code",
   "execution_count": 104,
   "id": "0ba15ecd",
   "metadata": {
    "scrolled": true
   },
   "outputs": [],
   "source": [
    "# Let's now combine all of the above code into one function.\n",
    "\n",
    "\n",
    "def checkprice():\n",
    "    URL = 'https://www.amazon.es/Jabra-Elite-45h-inal%C3%A1mbricos-Ear/dp/B084DPGBTC/ref=sr_1_4?__mk_es_ES=%C3%85M%C3%85%C5%BD%C3%95%C3%91&crid=84SHVCQLAXFX&keywords=auriculares+jabra&qid=1642185828&sprefix=auriculares+jabr%2Caps%2C117&sr=8-4'\n",
    "\n",
    "    URL2 = 'https://www.amazon.es/JBL-Tune500BT-Auriculares-supraaurales-inal%C3%A1mbricos/dp/B07HGG85HL/ref=sr_1_1_sspa?__mk_es_ES=%C3%85M%C3%85%C5%BD%C3%95%C3%91&crid=2J5WKDGTXN2WR&keywords=jbl+tune&qid=1642233983&sprefix=jbl+tune%2Caps%2C108&sr=8-1-spons&psc=1&spLa=ZW5jcnlwdGVkUXVhbGlmaWVyPUEzQUpXTzFQMVNXWDgxJmVuY3J5cHRlZElkPUEwNDg3MDI0MktUOEtXN0dIV0JLRSZlbmNyeXB0ZWRBZElkPUEwMDE5OTU1M0JXQU5BWlBLQVZMTSZ3aWRnZXROYW1lPXNwX2F0ZiZhY3Rpb249Y2xpY2tSZWRpcmVjdCZkb05vdExvZ0NsaWNrPXRydWU='\n",
    "\n",
    "    URL3 = 'https://www.amazon.es/Sony-Wh-CH510-Auriculares-inal%C3%A1mbricos-reacondicionados/dp/B084YC1ZNM/ref=sr_1_31?__mk_es_ES=%C3%85M%C3%85%C5%BD%C3%95%C3%91&crid=2MK35ERO8V5W9&keywords=sony+on+ear&qid=1642234632&sprefix=sony+on+ear%2Caps%2C126&sr=8-31'\n",
    "\n",
    "    headers = {\"User-Agent\": \"Mozilla/5.0 (Macintosh; Intel Mac OS X 10_15_7) AppleWebKit/537.36 (KHTML, like Gecko) Chrome/97.0.4692.71 Safari/537.36\", \"Accept-Encoding\":\"gzip, deflate\", \"Accept\":\"text/html,application/xhtml+xml,application/xml;q=0.9,*/*;q=0.8\", \"DNT\":\"1\",\"Connection\":\"close\", \"Upgrade-Insecure-Requests\":\"1\"}\n",
    "\n",
    "    page = requests.get(URL, headers=headers)\n",
    "    \n",
    "    page2 = requests.get(URL2, headers=headers)\n",
    "\n",
    "    page3 = requests.get(URL3, headers=headers)\n",
    "\n",
    "    Soup1 = BeautifulSoup(page.content, 'html.parser')\n",
    "\n",
    "    Soup2 = BeautifulSoup(Soup1.prettify(),'html.parser')\n",
    "    \n",
    "    Soup3 = BeautifulSoup(page2.content, 'html.parser')\n",
    "\n",
    "    Soup4= BeautifulSoup(Soup3.prettify(),'html.parser')\n",
    "\n",
    "    Soup5 = BeautifulSoup(page3.content, 'html.parser')\n",
    "\n",
    "    Soup6= BeautifulSoup(Soup5.prettify(),'html.parser')\n",
    "    \n",
    "    title = Soup2.find(id='productTitle').get_text()\n",
    "    \n",
    "    title2 = Soup4.find(id='productTitle').get_text()\n",
    "\n",
    "    title3 = Soup6.find(id='productTitle').get_text().replace('Auriculares inalámbricos','')\n",
    "    \n",
    "    price = Soup2.find(id ='corePrice_feature_div').get_text().replace(',','.')\n",
    "    \n",
    "    price2 = Soup4.find(id ='corePrice_feature_div').get_text().replace(',','.')\n",
    "\n",
    "    price3 = Soup6.find(id ='corePrice_feature_div').get_text().replace(',','.')\n",
    " \n",
    "    seller = Soup2.find(id ='bylineInfo').get_text()\n",
    "    \n",
    "    seller2 = Soup4.find(id ='bylineInfo').get_text()\n",
    "\n",
    "    seller3 = Soup6.find(id ='bylineInfo').get_text()\n",
    "\n",
    "    rating = Soup2.find(id ='averageCustomerReviews').get_text().replace(',','.')\n",
    "    \n",
    "    rating2 = Soup4.find(id ='averageCustomerReviews').get_text().replace(',','.')\n",
    "\n",
    "    rating3 = Soup6.find(id ='averageCustomerReviews').get_text().replace(',','.')\n",
    "    \n",
    "    price = [price.strip()[0:5], price2.strip()[0:5], price3.strip()[0:4]]\n",
    "    \n",
    "    price = [float(x) for x in price]\n",
    "    \n",
    "    title = [title.strip()[0:15], title2.strip()[0:13], title3.strip()[0:13]]\n",
    "    \n",
    "    seller = [seller.strip()[-5:], seller2.strip()[-3:], seller3.strip()[-14:]]\n",
    "    \n",
    "    rating = [rating.strip()[:3], rating2.strip()[:3], rating3.strip()[:3]]\n",
    "\n",
    "    rows = zip(title, price, seller, rating)\n",
    "    \n",
    "    import csv\n",
    "\n",
    "    with open('AmazonScrapedData.csv', 'a+', newline='', encoding='UTF8') as f:\n",
    "        writer = csv.writer(f)\n",
    "        for row in rows:\n",
    "            writer.writerow(row)\n",
    "\n",
    "# When price of any of the items hits below a certain level, then an email will be sent\n",
    "# so I do not miss out on the deal!\n",
    "\n",
    "    def send_mail():\n",
    "        server = smtplib.SMTP_SSL('smtp.gmail.com',465)\n",
    "        server.ehlo()\n",
    "        # server.starttls()\n",
    "        server.ehlo()\n",
    "        server.login('davidgomezpr1@gmail.com','xxxxxxxxxxxxxx')\n",
    "            \n",
    "        # My password has been hidden for security purposes. \n",
    "        # However, the code works and emails get automatically sent to address (see evidence of this in cell below).\n",
    "        \n",
    "         "    \n",
    "        subject = \"The headphones you want are now on offer! Go get them!\"\n",
    "        \n",
    "        body = \"David, now is your chance to pick up those headphones to listen to that blues music you dig so much. Don't mess it up!\"\n",
    "   \n",
    "        msg = f\"Subject: {subject}\\n\\n{body}\"\n",
    "    \n",
    "        server.sendmail('davidgomezpr1@gmail.com', \n",
    "                        'davidgomezpr1@gmail.com', \n",
    "                        msg\n",
    "    )\n",
    "    \n",
    "            \n",
    "# Setting an if statement to check the price against. If the price of the headphones\n",
    "# goes below 40 USD, the send_mail function send a notification to my email account.\n",
    "\n",
    "    if any(x<40 for x in price):\n",
    "        send_mail()\n",
    "\n"
   ]
  },
  {
   "cell_type": "code",
   "execution_count": 117,
   "id": "e165550e",
   "metadata": {
    "scrolled": true
   },
   "outputs": [
    {
     "ename": "KeyboardInterrupt",
     "evalue": "",
     "output_type": "error",
     "traceback": [
      "\u001b[0;31m---------------------------------------------------------------------------\u001b[0m",
      "\u001b[0;31mKeyboardInterrupt\u001b[0m                         Traceback (most recent call last)",
      "\u001b[0;32m/var/folders/7h/lm01qzpx51x_hj0lhn4zgdxr0000gn/T/ipykernel_756/2535157723.py\u001b[0m in \u001b[0;36m<module>\u001b[0;34m\u001b[0m\n\u001b[1;32m      3\u001b[0m \u001b[0;34m\u001b[0m\u001b[0m\n\u001b[1;32m      4\u001b[0m \u001b[0;32mwhile\u001b[0m\u001b[0;34m(\u001b[0m\u001b[0;32mTrue\u001b[0m\u001b[0;34m)\u001b[0m\u001b[0;34m:\u001b[0m\u001b[0;34m\u001b[0m\u001b[0;34m\u001b[0m\u001b[0m\n\u001b[0;32m----> 5\u001b[0;31m     \u001b[0mcheckprice\u001b[0m\u001b[0;34m(\u001b[0m\u001b[0;34m)\u001b[0m\u001b[0;34m\u001b[0m\u001b[0;34m\u001b[0m\u001b[0m\n\u001b[0m\u001b[1;32m      6\u001b[0m     \u001b[0mtime\u001b[0m\u001b[0;34m.\u001b[0m\u001b[0msleep\u001b[0m\u001b[0;34m(\u001b[0m\u001b[0;36m5\u001b[0m\u001b[0;34m)\u001b[0m\u001b[0;34m\u001b[0m\u001b[0;34m\u001b[0m\u001b[0m\n",
      "\u001b[0;32m/var/folders/7h/lm01qzpx51x_hj0lhn4zgdxr0000gn/T/ipykernel_756/2802228962.py\u001b[0m in \u001b[0;36mcheckprice\u001b[0;34m()\u001b[0m\n\u001b[1;32m     15\u001b[0m     \u001b[0mpage2\u001b[0m \u001b[0;34m=\u001b[0m \u001b[0mrequests\u001b[0m\u001b[0;34m.\u001b[0m\u001b[0mget\u001b[0m\u001b[0;34m(\u001b[0m\u001b[0mURL2\u001b[0m\u001b[0;34m,\u001b[0m \u001b[0mheaders\u001b[0m\u001b[0;34m=\u001b[0m\u001b[0mheaders\u001b[0m\u001b[0;34m)\u001b[0m\u001b[0;34m\u001b[0m\u001b[0;34m\u001b[0m\u001b[0m\n\u001b[1;32m     16\u001b[0m \u001b[0;34m\u001b[0m\u001b[0m\n\u001b[0;32m---> 17\u001b[0;31m     \u001b[0mpage3\u001b[0m \u001b[0;34m=\u001b[0m \u001b[0mrequests\u001b[0m\u001b[0;34m.\u001b[0m\u001b[0mget\u001b[0m\u001b[0;34m(\u001b[0m\u001b[0mURL3\u001b[0m\u001b[0;34m,\u001b[0m \u001b[0mheaders\u001b[0m\u001b[0;34m=\u001b[0m\u001b[0mheaders\u001b[0m\u001b[0;34m)\u001b[0m\u001b[0;34m\u001b[0m\u001b[0;34m\u001b[0m\u001b[0m\n\u001b[0m\u001b[1;32m     18\u001b[0m \u001b[0;34m\u001b[0m\u001b[0m\n\u001b[1;32m     19\u001b[0m     \u001b[0mSoup1\u001b[0m \u001b[0;34m=\u001b[0m \u001b[0mBeautifulSoup\u001b[0m\u001b[0;34m(\u001b[0m\u001b[0mpage\u001b[0m\u001b[0;34m.\u001b[0m\u001b[0mcontent\u001b[0m\u001b[0;34m,\u001b[0m \u001b[0;34m'html.parser'\u001b[0m\u001b[0;34m)\u001b[0m\u001b[0;34m\u001b[0m\u001b[0;34m\u001b[0m\u001b[0m\n",
      "\u001b[0;32m~/opt/anaconda3/lib/python3.9/site-packages/requests/api.py\u001b[0m in \u001b[0;36mget\u001b[0;34m(url, params, **kwargs)\u001b[0m\n\u001b[1;32m     73\u001b[0m     \"\"\"\n\u001b[1;32m     74\u001b[0m \u001b[0;34m\u001b[0m\u001b[0m\n\u001b[0;32m---> 75\u001b[0;31m     \u001b[0;32mreturn\u001b[0m \u001b[0mrequest\u001b[0m\u001b[0;34m(\u001b[0m\u001b[0;34m'get'\u001b[0m\u001b[0;34m,\u001b[0m \u001b[0murl\u001b[0m\u001b[0;34m,\u001b[0m \u001b[0mparams\u001b[0m\u001b[0;34m=\u001b[0m\u001b[0mparams\u001b[0m\u001b[0;34m,\u001b[0m \u001b[0;34m**\u001b[0m\u001b[0mkwargs\u001b[0m\u001b[0;34m)\u001b[0m\u001b[0;34m\u001b[0m\u001b[0;34m\u001b[0m\u001b[0m\n\u001b[0m\u001b[1;32m     76\u001b[0m \u001b[0;34m\u001b[0m\u001b[0m\n\u001b[1;32m     77\u001b[0m \u001b[0;34m\u001b[0m\u001b[0m\n",
      "\u001b[0;32m~/opt/anaconda3/lib/python3.9/site-packages/requests/api.py\u001b[0m in \u001b[0;36mrequest\u001b[0;34m(method, url, **kwargs)\u001b[0m\n\u001b[1;32m     59\u001b[0m     \u001b[0;31m# cases, and look like a memory leak in others.\u001b[0m\u001b[0;34m\u001b[0m\u001b[0;34m\u001b[0m\u001b[0m\n\u001b[1;32m     60\u001b[0m     \u001b[0;32mwith\u001b[0m \u001b[0msessions\u001b[0m\u001b[0;34m.\u001b[0m\u001b[0mSession\u001b[0m\u001b[0;34m(\u001b[0m\u001b[0;34m)\u001b[0m \u001b[0;32mas\u001b[0m \u001b[0msession\u001b[0m\u001b[0;34m:\u001b[0m\u001b[0;34m\u001b[0m\u001b[0;34m\u001b[0m\u001b[0m\n\u001b[0;32m---> 61\u001b[0;31m         \u001b[0;32mreturn\u001b[0m \u001b[0msession\u001b[0m\u001b[0;34m.\u001b[0m\u001b[0mrequest\u001b[0m\u001b[0;34m(\u001b[0m\u001b[0mmethod\u001b[0m\u001b[0;34m=\u001b[0m\u001b[0mmethod\u001b[0m\u001b[0;34m,\u001b[0m \u001b[0murl\u001b[0m\u001b[0;34m=\u001b[0m\u001b[0murl\u001b[0m\u001b[0;34m,\u001b[0m \u001b[0;34m**\u001b[0m\u001b[0mkwargs\u001b[0m\u001b[0;34m)\u001b[0m\u001b[0;34m\u001b[0m\u001b[0;34m\u001b[0m\u001b[0m\n\u001b[0m\u001b[1;32m     62\u001b[0m \u001b[0;34m\u001b[0m\u001b[0m\n\u001b[1;32m     63\u001b[0m \u001b[0;34m\u001b[0m\u001b[0m\n",
      "\u001b[0;32m~/opt/anaconda3/lib/python3.9/site-packages/requests/sessions.py\u001b[0m in \u001b[0;36mrequest\u001b[0;34m(self, method, url, params, data, headers, cookies, files, auth, timeout, allow_redirects, proxies, hooks, stream, verify, cert, json)\u001b[0m\n\u001b[1;32m    540\u001b[0m         }\n\u001b[1;32m    541\u001b[0m         \u001b[0msend_kwargs\u001b[0m\u001b[0;34m.\u001b[0m\u001b[0mupdate\u001b[0m\u001b[0;34m(\u001b[0m\u001b[0msettings\u001b[0m\u001b[0;34m)\u001b[0m\u001b[0;34m\u001b[0m\u001b[0;34m\u001b[0m\u001b[0m\n\u001b[0;32m--> 542\u001b[0;31m         \u001b[0mresp\u001b[0m \u001b[0;34m=\u001b[0m \u001b[0mself\u001b[0m\u001b[0;34m.\u001b[0m\u001b[0msend\u001b[0m\u001b[0;34m(\u001b[0m\u001b[0mprep\u001b[0m\u001b[0;34m,\u001b[0m \u001b[0;34m**\u001b[0m\u001b[0msend_kwargs\u001b[0m\u001b[0;34m)\u001b[0m\u001b[0;34m\u001b[0m\u001b[0;34m\u001b[0m\u001b[0m\n\u001b[0m\u001b[1;32m    543\u001b[0m \u001b[0;34m\u001b[0m\u001b[0m\n\u001b[1;32m    544\u001b[0m         \u001b[0;32mreturn\u001b[0m \u001b[0mresp\u001b[0m\u001b[0;34m\u001b[0m\u001b[0;34m\u001b[0m\u001b[0m\n",
      "\u001b[0;32m~/opt/anaconda3/lib/python3.9/site-packages/requests/sessions.py\u001b[0m in \u001b[0;36msend\u001b[0;34m(self, request, **kwargs)\u001b[0m\n\u001b[1;32m    695\u001b[0m \u001b[0;34m\u001b[0m\u001b[0m\n\u001b[1;32m    696\u001b[0m         \u001b[0;32mif\u001b[0m \u001b[0;32mnot\u001b[0m \u001b[0mstream\u001b[0m\u001b[0;34m:\u001b[0m\u001b[0;34m\u001b[0m\u001b[0;34m\u001b[0m\u001b[0m\n\u001b[0;32m--> 697\u001b[0;31m             \u001b[0mr\u001b[0m\u001b[0;34m.\u001b[0m\u001b[0mcontent\u001b[0m\u001b[0;34m\u001b[0m\u001b[0;34m\u001b[0m\u001b[0m\n\u001b[0m\u001b[1;32m    698\u001b[0m \u001b[0;34m\u001b[0m\u001b[0m\n\u001b[1;32m    699\u001b[0m         \u001b[0;32mreturn\u001b[0m \u001b[0mr\u001b[0m\u001b[0;34m\u001b[0m\u001b[0;34m\u001b[0m\u001b[0m\n",
      "\u001b[0;32m~/opt/anaconda3/lib/python3.9/site-packages/requests/models.py\u001b[0m in \u001b[0;36mcontent\u001b[0;34m(self)\u001b[0m\n\u001b[1;32m    834\u001b[0m                 \u001b[0mself\u001b[0m\u001b[0;34m.\u001b[0m\u001b[0m_content\u001b[0m \u001b[0;34m=\u001b[0m \u001b[0;32mNone\u001b[0m\u001b[0;34m\u001b[0m\u001b[0;34m\u001b[0m\u001b[0m\n\u001b[1;32m    835\u001b[0m             \u001b[0;32melse\u001b[0m\u001b[0;34m:\u001b[0m\u001b[0;34m\u001b[0m\u001b[0;34m\u001b[0m\u001b[0m\n\u001b[0;32m--> 836\u001b[0;31m                 \u001b[0mself\u001b[0m\u001b[0;34m.\u001b[0m\u001b[0m_content\u001b[0m \u001b[0;34m=\u001b[0m \u001b[0;34mb''\u001b[0m\u001b[0;34m.\u001b[0m\u001b[0mjoin\u001b[0m\u001b[0;34m(\u001b[0m\u001b[0mself\u001b[0m\u001b[0;34m.\u001b[0m\u001b[0miter_content\u001b[0m\u001b[0;34m(\u001b[0m\u001b[0mCONTENT_CHUNK_SIZE\u001b[0m\u001b[0;34m)\u001b[0m\u001b[0;34m)\u001b[0m \u001b[0;32mor\u001b[0m \u001b[0;34mb''\u001b[0m\u001b[0;34m\u001b[0m\u001b[0;34m\u001b[0m\u001b[0m\n\u001b[0m\u001b[1;32m    837\u001b[0m \u001b[0;34m\u001b[0m\u001b[0m\n\u001b[1;32m    838\u001b[0m         \u001b[0mself\u001b[0m\u001b[0;34m.\u001b[0m\u001b[0m_content_consumed\u001b[0m \u001b[0;34m=\u001b[0m \u001b[0;32mTrue\u001b[0m\u001b[0;34m\u001b[0m\u001b[0;34m\u001b[0m\u001b[0m\n",
      "\u001b[0;32m~/opt/anaconda3/lib/python3.9/site-packages/requests/models.py\u001b[0m in \u001b[0;36mgenerate\u001b[0;34m()\u001b[0m\n\u001b[1;32m    756\u001b[0m             \u001b[0;32mif\u001b[0m \u001b[0mhasattr\u001b[0m\u001b[0;34m(\u001b[0m\u001b[0mself\u001b[0m\u001b[0;34m.\u001b[0m\u001b[0mraw\u001b[0m\u001b[0;34m,\u001b[0m \u001b[0;34m'stream'\u001b[0m\u001b[0;34m)\u001b[0m\u001b[0;34m:\u001b[0m\u001b[0;34m\u001b[0m\u001b[0;34m\u001b[0m\u001b[0m\n\u001b[1;32m    757\u001b[0m                 \u001b[0;32mtry\u001b[0m\u001b[0;34m:\u001b[0m\u001b[0;34m\u001b[0m\u001b[0;34m\u001b[0m\u001b[0m\n\u001b[0;32m--> 758\u001b[0;31m                     \u001b[0;32mfor\u001b[0m \u001b[0mchunk\u001b[0m \u001b[0;32min\u001b[0m \u001b[0mself\u001b[0m\u001b[0;34m.\u001b[0m\u001b[0mraw\u001b[0m\u001b[0;34m.\u001b[0m\u001b[0mstream\u001b[0m\u001b[0;34m(\u001b[0m\u001b[0mchunk_size\u001b[0m\u001b[0;34m,\u001b[0m \u001b[0mdecode_content\u001b[0m\u001b[0;34m=\u001b[0m\u001b[0;32mTrue\u001b[0m\u001b[0;34m)\u001b[0m\u001b[0;34m:\u001b[0m\u001b[0;34m\u001b[0m\u001b[0;34m\u001b[0m\u001b[0m\n\u001b[0m\u001b[1;32m    759\u001b[0m                         \u001b[0;32myield\u001b[0m \u001b[0mchunk\u001b[0m\u001b[0;34m\u001b[0m\u001b[0;34m\u001b[0m\u001b[0m\n\u001b[1;32m    760\u001b[0m                 \u001b[0;32mexcept\u001b[0m \u001b[0mProtocolError\u001b[0m \u001b[0;32mas\u001b[0m \u001b[0me\u001b[0m\u001b[0;34m:\u001b[0m\u001b[0;34m\u001b[0m\u001b[0;34m\u001b[0m\u001b[0m\n",
      "\u001b[0;32m~/opt/anaconda3/lib/python3.9/site-packages/urllib3/response.py\u001b[0m in \u001b[0;36mstream\u001b[0;34m(self, amt, decode_content)\u001b[0m\n\u001b[1;32m    570\u001b[0m         \"\"\"\n\u001b[1;32m    571\u001b[0m         \u001b[0;32mif\u001b[0m \u001b[0mself\u001b[0m\u001b[0;34m.\u001b[0m\u001b[0mchunked\u001b[0m \u001b[0;32mand\u001b[0m \u001b[0mself\u001b[0m\u001b[0;34m.\u001b[0m\u001b[0msupports_chunked_reads\u001b[0m\u001b[0;34m(\u001b[0m\u001b[0;34m)\u001b[0m\u001b[0;34m:\u001b[0m\u001b[0;34m\u001b[0m\u001b[0;34m\u001b[0m\u001b[0m\n\u001b[0;32m--> 572\u001b[0;31m             \u001b[0;32mfor\u001b[0m \u001b[0mline\u001b[0m \u001b[0;32min\u001b[0m \u001b[0mself\u001b[0m\u001b[0;34m.\u001b[0m\u001b[0mread_chunked\u001b[0m\u001b[0;34m(\u001b[0m\u001b[0mamt\u001b[0m\u001b[0;34m,\u001b[0m \u001b[0mdecode_content\u001b[0m\u001b[0;34m=\u001b[0m\u001b[0mdecode_content\u001b[0m\u001b[0;34m)\u001b[0m\u001b[0;34m:\u001b[0m\u001b[0;34m\u001b[0m\u001b[0;34m\u001b[0m\u001b[0m\n\u001b[0m\u001b[1;32m    573\u001b[0m                 \u001b[0;32myield\u001b[0m \u001b[0mline\u001b[0m\u001b[0;34m\u001b[0m\u001b[0;34m\u001b[0m\u001b[0m\n\u001b[1;32m    574\u001b[0m         \u001b[0;32melse\u001b[0m\u001b[0;34m:\u001b[0m\u001b[0;34m\u001b[0m\u001b[0;34m\u001b[0m\u001b[0m\n",
      "\u001b[0;32m~/opt/anaconda3/lib/python3.9/site-packages/urllib3/response.py\u001b[0m in \u001b[0;36mread_chunked\u001b[0;34m(self, amt, decode_content)\u001b[0m\n\u001b[1;32m    762\u001b[0m \u001b[0;34m\u001b[0m\u001b[0m\n\u001b[1;32m    763\u001b[0m             \u001b[0;32mwhile\u001b[0m \u001b[0;32mTrue\u001b[0m\u001b[0;34m:\u001b[0m\u001b[0;34m\u001b[0m\u001b[0;34m\u001b[0m\u001b[0m\n\u001b[0;32m--> 764\u001b[0;31m                 \u001b[0mself\u001b[0m\u001b[0;34m.\u001b[0m\u001b[0m_update_chunk_length\u001b[0m\u001b[0;34m(\u001b[0m\u001b[0;34m)\u001b[0m\u001b[0;34m\u001b[0m\u001b[0;34m\u001b[0m\u001b[0m\n\u001b[0m\u001b[1;32m    765\u001b[0m                 \u001b[0;32mif\u001b[0m \u001b[0mself\u001b[0m\u001b[0;34m.\u001b[0m\u001b[0mchunk_left\u001b[0m \u001b[0;34m==\u001b[0m \u001b[0;36m0\u001b[0m\u001b[0;34m:\u001b[0m\u001b[0;34m\u001b[0m\u001b[0;34m\u001b[0m\u001b[0m\n\u001b[1;32m    766\u001b[0m                     \u001b[0;32mbreak\u001b[0m\u001b[0;34m\u001b[0m\u001b[0;34m\u001b[0m\u001b[0m\n",
      "\u001b[0;32m~/opt/anaconda3/lib/python3.9/site-packages/urllib3/response.py\u001b[0m in \u001b[0;36m_update_chunk_length\u001b[0;34m(self)\u001b[0m\n\u001b[1;32m    692\u001b[0m         \u001b[0;32mif\u001b[0m \u001b[0mself\u001b[0m\u001b[0;34m.\u001b[0m\u001b[0mchunk_left\u001b[0m \u001b[0;32mis\u001b[0m \u001b[0;32mnot\u001b[0m \u001b[0;32mNone\u001b[0m\u001b[0;34m:\u001b[0m\u001b[0;34m\u001b[0m\u001b[0;34m\u001b[0m\u001b[0m\n\u001b[1;32m    693\u001b[0m             \u001b[0;32mreturn\u001b[0m\u001b[0;34m\u001b[0m\u001b[0;34m\u001b[0m\u001b[0m\n\u001b[0;32m--> 694\u001b[0;31m         \u001b[0mline\u001b[0m \u001b[0;34m=\u001b[0m \u001b[0mself\u001b[0m\u001b[0;34m.\u001b[0m\u001b[0m_fp\u001b[0m\u001b[0;34m.\u001b[0m\u001b[0mfp\u001b[0m\u001b[0;34m.\u001b[0m\u001b[0mreadline\u001b[0m\u001b[0;34m(\u001b[0m\u001b[0;34m)\u001b[0m\u001b[0;34m\u001b[0m\u001b[0;34m\u001b[0m\u001b[0m\n\u001b[0m\u001b[1;32m    695\u001b[0m         \u001b[0mline\u001b[0m \u001b[0;34m=\u001b[0m \u001b[0mline\u001b[0m\u001b[0;34m.\u001b[0m\u001b[0msplit\u001b[0m\u001b[0;34m(\u001b[0m\u001b[0;34mb\";\"\u001b[0m\u001b[0;34m,\u001b[0m \u001b[0;36m1\u001b[0m\u001b[0;34m)\u001b[0m\u001b[0;34m[\u001b[0m\u001b[0;36m0\u001b[0m\u001b[0;34m]\u001b[0m\u001b[0;34m\u001b[0m\u001b[0;34m\u001b[0m\u001b[0m\n\u001b[1;32m    696\u001b[0m         \u001b[0;32mtry\u001b[0m\u001b[0;34m:\u001b[0m\u001b[0;34m\u001b[0m\u001b[0;34m\u001b[0m\u001b[0m\n",
      "\u001b[0;32m~/opt/anaconda3/lib/python3.9/socket.py\u001b[0m in \u001b[0;36mreadinto\u001b[0;34m(self, b)\u001b[0m\n\u001b[1;32m    702\u001b[0m         \u001b[0;32mwhile\u001b[0m \u001b[0;32mTrue\u001b[0m\u001b[0;34m:\u001b[0m\u001b[0;34m\u001b[0m\u001b[0;34m\u001b[0m\u001b[0m\n\u001b[1;32m    703\u001b[0m             \u001b[0;32mtry\u001b[0m\u001b[0;34m:\u001b[0m\u001b[0;34m\u001b[0m\u001b[0;34m\u001b[0m\u001b[0m\n\u001b[0;32m--> 704\u001b[0;31m                 \u001b[0;32mreturn\u001b[0m \u001b[0mself\u001b[0m\u001b[0;34m.\u001b[0m\u001b[0m_sock\u001b[0m\u001b[0;34m.\u001b[0m\u001b[0mrecv_into\u001b[0m\u001b[0;34m(\u001b[0m\u001b[0mb\u001b[0m\u001b[0;34m)\u001b[0m\u001b[0;34m\u001b[0m\u001b[0;34m\u001b[0m\u001b[0m\n\u001b[0m\u001b[1;32m    705\u001b[0m             \u001b[0;32mexcept\u001b[0m \u001b[0mtimeout\u001b[0m\u001b[0;34m:\u001b[0m\u001b[0;34m\u001b[0m\u001b[0;34m\u001b[0m\u001b[0m\n\u001b[1;32m    706\u001b[0m                 \u001b[0mself\u001b[0m\u001b[0;34m.\u001b[0m\u001b[0m_timeout_occurred\u001b[0m \u001b[0;34m=\u001b[0m \u001b[0;32mTrue\u001b[0m\u001b[0;34m\u001b[0m\u001b[0;34m\u001b[0m\u001b[0m\n",
      "\u001b[0;32m~/opt/anaconda3/lib/python3.9/ssl.py\u001b[0m in \u001b[0;36mrecv_into\u001b[0;34m(self, buffer, nbytes, flags)\u001b[0m\n\u001b[1;32m   1239\u001b[0m                   \u001b[0;34m\"non-zero flags not allowed in calls to recv_into() on %s\"\u001b[0m \u001b[0;34m%\u001b[0m\u001b[0;34m\u001b[0m\u001b[0;34m\u001b[0m\u001b[0m\n\u001b[1;32m   1240\u001b[0m                   self.__class__)\n\u001b[0;32m-> 1241\u001b[0;31m             \u001b[0;32mreturn\u001b[0m \u001b[0mself\u001b[0m\u001b[0;34m.\u001b[0m\u001b[0mread\u001b[0m\u001b[0;34m(\u001b[0m\u001b[0mnbytes\u001b[0m\u001b[0;34m,\u001b[0m \u001b[0mbuffer\u001b[0m\u001b[0;34m)\u001b[0m\u001b[0;34m\u001b[0m\u001b[0;34m\u001b[0m\u001b[0m\n\u001b[0m\u001b[1;32m   1242\u001b[0m         \u001b[0;32melse\u001b[0m\u001b[0;34m:\u001b[0m\u001b[0;34m\u001b[0m\u001b[0;34m\u001b[0m\u001b[0m\n\u001b[1;32m   1243\u001b[0m             \u001b[0;32mreturn\u001b[0m \u001b[0msuper\u001b[0m\u001b[0;34m(\u001b[0m\u001b[0;34m)\u001b[0m\u001b[0;34m.\u001b[0m\u001b[0mrecv_into\u001b[0m\u001b[0;34m(\u001b[0m\u001b[0mbuffer\u001b[0m\u001b[0;34m,\u001b[0m \u001b[0mnbytes\u001b[0m\u001b[0;34m,\u001b[0m \u001b[0mflags\u001b[0m\u001b[0;34m)\u001b[0m\u001b[0;34m\u001b[0m\u001b[0;34m\u001b[0m\u001b[0m\n",
      "\u001b[0;32m~/opt/anaconda3/lib/python3.9/ssl.py\u001b[0m in \u001b[0;36mread\u001b[0;34m(self, len, buffer)\u001b[0m\n\u001b[1;32m   1097\u001b[0m         \u001b[0;32mtry\u001b[0m\u001b[0;34m:\u001b[0m\u001b[0;34m\u001b[0m\u001b[0;34m\u001b[0m\u001b[0m\n\u001b[1;32m   1098\u001b[0m             \u001b[0;32mif\u001b[0m \u001b[0mbuffer\u001b[0m \u001b[0;32mis\u001b[0m \u001b[0;32mnot\u001b[0m \u001b[0;32mNone\u001b[0m\u001b[0;34m:\u001b[0m\u001b[0;34m\u001b[0m\u001b[0;34m\u001b[0m\u001b[0m\n\u001b[0;32m-> 1099\u001b[0;31m                 \u001b[0;32mreturn\u001b[0m \u001b[0mself\u001b[0m\u001b[0;34m.\u001b[0m\u001b[0m_sslobj\u001b[0m\u001b[0;34m.\u001b[0m\u001b[0mread\u001b[0m\u001b[0;34m(\u001b[0m\u001b[0mlen\u001b[0m\u001b[0;34m,\u001b[0m \u001b[0mbuffer\u001b[0m\u001b[0;34m)\u001b[0m\u001b[0;34m\u001b[0m\u001b[0;34m\u001b[0m\u001b[0m\n\u001b[0m\u001b[1;32m   1100\u001b[0m             \u001b[0;32melse\u001b[0m\u001b[0;34m:\u001b[0m\u001b[0;34m\u001b[0m\u001b[0;34m\u001b[0m\u001b[0m\n\u001b[1;32m   1101\u001b[0m                 \u001b[0;32mreturn\u001b[0m \u001b[0mself\u001b[0m\u001b[0;34m.\u001b[0m\u001b[0m_sslobj\u001b[0m\u001b[0;34m.\u001b[0m\u001b[0mread\u001b[0m\u001b[0;34m(\u001b[0m\u001b[0mlen\u001b[0m\u001b[0;34m)\u001b[0m\u001b[0;34m\u001b[0m\u001b[0;34m\u001b[0m\u001b[0m\n",
      "\u001b[0;31mKeyboardInterrupt\u001b[0m: "
     ]
    }
   ],
   "source": [
    "# Leveraging a while loop to check the price, every 5 seconds (normally I would consider setting the time to \n",
    "# 12h-24h, 43,200 - 86,400sec) to then input the data into the CSV.\n",
    "\n",
    "while(True):\n",
    "    checkprice()\n",
    "    time.sleep(5)"
   ]
  },
  {
   "cell_type": "code",
   "execution_count": 116,
   "id": "e64802de",
   "metadata": {
    "scrolled": true
   },
   "outputs": [
    {
     "data": {
      "image/png": "iVBORw0KGgoAAAANSUhEUgAABvAAAAErCAYAAAAIbsSJAAABRWlDQ1BJQ0MgUHJvZmlsZQAAKJFjYGASSSwoyGFhYGDIzSspCnJ3UoiIjFJgf8bAyCDAwMUgyaCYmFxc4BgQ4ANUwgCjUcG3a0DVQHBZF2TWnWnJCfP2MyuJVi/4/0VDD4t6FMCVklqcDKT/AHFGckFRCQMDYwqQrVxeUgBidwDZIkVARwHZc0DsdAh7A4idBGEfAasJCXIGsm8A2QLJGYlAMxhfANk6SUji6UhsqL0gwOcR6hju6qng6GJh4BFOwMGkgpLUihIQ7ZxfUFmUmZ5RouAIDKVUBc+8ZD0dBSMDIyMGBlCYQ1R/vgEOS0YxDoRY9kYGBnMuoKA8QizZjoFhO5DNdwQhpg70r+A1BobDXgWJRYlwBzB+YylOMzaCsLm3MzCwTvv//zPQm+yaDAx/r////3v7//9/lzEwMN9iYDjwDQD1F1+VUs9EsQAAAFZlWElmTU0AKgAAAAgAAYdpAAQAAAABAAAAGgAAAAAAA5KGAAcAAAASAAAARKACAAQAAAABAAAG8KADAAQAAAABAAABKwAAAABBU0NJSQAAAFNjcmVlbnNob3RjCoWVAAAB12lUWHRYTUw6Y29tLmFkb2JlLnhtcAAAAAAAPHg6eG1wbWV0YSB4bWxuczp4PSJhZG9iZTpuczptZXRhLyIgeDp4bXB0az0iWE1QIENvcmUgNi4wLjAiPgogICA8cmRmOlJERiB4bWxuczpyZGY9Imh0dHA6Ly93d3cudzMub3JnLzE5OTkvMDIvMjItcmRmLXN5bnRheC1ucyMiPgogICAgICA8cmRmOkRlc2NyaXB0aW9uIHJkZjphYm91dD0iIgogICAgICAgICAgICB4bWxuczpleGlmPSJodHRwOi8vbnMuYWRvYmUuY29tL2V4aWYvMS4wLyI+CiAgICAgICAgIDxleGlmOlBpeGVsWURpbWVuc2lvbj4yOTk8L2V4aWY6UGl4ZWxZRGltZW5zaW9uPgogICAgICAgICA8ZXhpZjpQaXhlbFhEaW1lbnNpb24+MTc3NjwvZXhpZjpQaXhlbFhEaW1lbnNpb24+CiAgICAgICAgIDxleGlmOlVzZXJDb21tZW50PlNjcmVlbnNob3Q8L2V4aWY6VXNlckNvbW1lbnQ+CiAgICAgIDwvcmRmOkRlc2NyaXB0aW9uPgogICA8L3JkZjpSREY+CjwveDp4bXBtZXRhPgrx6bBTAABAAElEQVR4AeydBWCWVfvG773rsdGtxGhBWpFSBAlRVBQVAxUQsLHRz/r87MJARVEsFFsxEARR6QYxEFC6O8d6e//XdcYz3iUbDJh/r6PjqVPP7+R77ue+T1DlSuX8VSpXsXS/3wx/6f408/lCLD3db74g3DKzIBzxv3NBOEvHXXcfd3y+YARDuLRUd3RP8NDn8yGQz4JDgi0tjXEGWWpqCs5TLTg4BCEREyINCQnDebqLm2kyLj/ywJSDED4jHj4OMn86UsazdBwZN+7AT6iLOzQ0zFJSkg/Ew3hDXHh4s+SU/RYVEW1BwT5LSkpy+WF89J+ejrzBE5JG3GbBzDfyE2TMfxCug80XzLcmBKR44F2ZhzTkhe+bmuq3iLBQl690P8IivlS8M8OGID6/wR/uh4dFgkco0k9HmGQXNi091YL8BwA7qOSCd2OekLeU1FT3rj7mDe9E3qlpyS4OH/JDrryXhvjJh7lnPh03poBwPGd+vXss3+SkBJQDyg7eQ4JDkVfcS0lAObKsMtJ3ZQEWZJOSkm6hoXgflFd6WgqYhSBvyAcSCEUZk6HhPYIQluWdkoyyQLiw8DDEm4xw4AC/aWnMEN+R6QYjbLh7T0Cw0OAwiykZbVGRUZaYnGR7du9xHPxg5AczvBjiD0I4lC3fG+XJ8opPSIQ/1q8D5QkeoOU4AQu4pFmJqBjkP6OusEySk5ItFHkLx7398QmWjPT43qw3oSwj5DUlJcWVe6UKFdw7JyQmWmREuEVGRlhYWJjFxe1D2gkoY/AH32T4JyzXPpBuMPJIvixv5pPFXDI6xnHHbYSNt7RU1nVXZMCCtoV04S2jPiLOEOSPN8g0FLxYjvv5vviPdS8M7FmvyTIYiUXiGII4qlWpYl26draqNU6wjRvXIb5UK10mhuht377dtnv3Ltu6dTvO95svNBztIgXxJtmOnXttB7jzmu+RiKMvCHGDuR91ke3ZlYGrh2muHHHDUpEv5t2H9HftBZf4/bxtPtbZoLCMusdC57uhPFjP2C74HvwvBHlgewlGW2M/wPZD36yjrON05MMo0CsgbLqVLVXSypQpCb8pKM8k17YzfLLMzVKTkQ7CJSah/uCYinRZRhHhEXgP9gXJqDOpB/KDsoNvphHiC3N1gHWZdc3PRPGXjPrFvISFh7s6Hx4WjvdMRPrs+9hGUjLqBtoJ+5ZktIEk/CEFpMG+Lw3xIW6EY1tgpsJQvjxnG3J9LsqSkfExw/J9WM5Ml3kh//QDbSHJ1Xd4hC+23dSUVNTxCMeDZRSMvpFhmSb7XZILQz+VUWgZZZOKPGf0iWCIc5cP1EkiD0E7YJ/lejmXX/ZjiMfPckI8qNDsn1jP2RbZ95Er85mKMgz2hVoI3tUxRjZZh9IRhmXLMqTfNIwJwQgbhDrG90hnfKgDrh6gXBknKxL7PtYPlqcbJ/BeGWRwhB/X3yOPLCoXP/LE/jANZZ6akoS/BFem0TEl7IQqFWz7zl0WHh5qe3btQzmlurJhHxgZFeV4kAlfme/Cvot1g+/KviQxkX0F6yLHGCR/YMx0bYQMyIJ1nOMDjuzLo0ug/wnjeBaEtDi+IEY0/UqVylmFiuVs6dK/0AaCrESJcIsqEeHqDvu0pETUmSCUaTLqCPqc3Xv2WSjySSYlS8W4vO7dtw/xwV8I+49UK1ky0sqWj4EXMvKhjSfZ1i27LDEhow5EREZaciL6SscLbN0Yyj4RdRTMwiNCrUy5khYTHWYJifvQfuKsatVyLt/sC+L3J6JP2WZly5RG3stbQlyCY1K+fBlLSUq0ePSTMTGRrl8MDUM/jDhDUG/3oq/ZvHmHKytUGBwRf3wy/pLcc7Z11vkw8D7xhEp4xzTbuGkHGLIvJ2e/nXBCZVu3biOrimNPBhHok/fu2Wtx6HNYJzLGOnPlGxe3H+UR6cYUjpPxCRiL0B52w7+LBIhSUAdZXuHhke4e+/5U1AkyTkG9yZhLZPTNrK/Mh6uvrJfs1xE2LCwCZct+GvUZ7Z/jfTnwiURZpqEv4HvFYZxJxZH1NwLtyo1heA/2tewDUziuomxZD3lNjrz2wz8uXZw8cf0j2j79hSJd1nO+Nx37RY5zrDv8KwU+8QlxGI9TUL/4/vGIBzCR59JlylrJmChco+1j/HNzlHCmz34C/TbSKo3+lW2bdWPnzn22Z288ssD2H2z796NdoU2wLFkYlSpVRN2JtN07dtu6DevBOaOPCAZv9lkMw3rPfpC8+V58P7YtthU6H9pbcnIi+g2ExduEgVMk5gNp6NsSMGdhS2Q+M+aQaBN4V84vOAamY25BCmxvKCKXJ/zr2hnbHeMLRT/CTDAPfvzR8R7LlXngWM7xpEypMm4u4ke/WQoMOL4mYrzYty/Odu/bCz/o39BPpaSkofw4/2C/jbJBfEyJ/3LewvfjOMI/1hvWJfZJzCDLh3MO1plQtAX2hyl4T/bJjM/NnVn2iJR55NhKjm4ejLDe3IHzavaNLlWWHZhERIa7MYjzKDd2IHwqGpFLm3HCXzrSCsG8mVxY1kTG9u/iP1Aero7imeOGo+OGvLMOso66gQLXLFv+cXxh++M5j4noR5lnzqERMepjSfQpiValSiXbi3nCrl17XNvk2MX8ufjcm4AgCxvlxvqTgjGcvCPQN1WrXtmVxZYte9Ffl0DegtAXlkAdibetm7egrqYiH+EIzLJMR/lkjPEcn32hPjePKlWqlO3D/C0Rcx5yZT/PsuDYTl6JyCPTj0J9TkG5c47JsZH1gGUZjXGCvOrVrWV1a9d2Y8z6tett+/ZtVq9OLdyvY7t37UL7Yv7AhnNKlFM80kuIj7edmH/t3LXDta/okjFuvrxn717btGkLxqaM+Rf7IdalVk1PsgZ1YjGG4B3BNBxlxrbDsmC7ZHlxvs38hvI9UDcYjunuQ1/ti4iyPzC+/L5kqZvXVgT7E048wSpWrIDxHX3w/nj06XEYB3x4X8zHGS/aVMmYkrZh00Y3Pma0KcyJ0R4iMG+OiYlmq3V5YDlzDGI7jY6Oti1bt2Luvg9zszJWu3ZNzJPRL2N+n+j6nnTbh3LnHJr1Lhz1hXFxXp2Winjgd+asedaxQ3tcM62MfjUMxxIlojA/wHjOesxyRZ9GDuwPIvGOiYkJrn6XL18O42aSrVy5CvPZnVapciWrHUt+0WDjc2mXjImxBJTpfry3a/doe3Fx8a5sq1apin6OdQP9tmtbGX0G2yt7mC2oYytWrbbqNatb9Wo13FjNvC5Z9rfVrF7DNm3ZZtNnzsZ4Em5ndexg9evGIs8JtnbNCoRbgTqNmoO+IiQ0EnlcDzbBFrcP5YQm3LZ1SytbuqRFhqPOoP9gnwC8rn/j/GwX5ubbtu1AG0qxPfvi8Q7II9pYAvqgE6pUtAb1a1uN6lVtx46dbkxm2ezBnIH1vWK5ihnNy821/Kj/+10bLFu6lC1fvsIan9zQhdmL3wd81x07dlm92nVcucbFYQxBG42K5hhptm3HDvd+fEeOAZwr8vcw57wcZ6NQVvsRP/ufEqgX9FcaYxH7vxTUL9axEPTZ27fvcH0V+yX+vmRdWbV6DfjvdunEYYxJSsSYhnGJdZzzibO7dnR9yV70xSuWr0Y6CQiXaOXKlbe6deraqrVrbeu2ba4ur9uwEZxDUXcirUK5slazZjXEi/E6NON3XpnSpdFWMJZhbDY/6j/adQjGPtYvMmW5sk2xnbBRJaPORWH+RH9bt2yx9Zs2gXtl19+xj0tHfUlHPY5Gevy9kYp6yN+u/J0ZyjEVbXI32gZ/Fyel+G0r+ojtu3bb1u3bbfGSZRaNuVuF8qUw/ykP7sgH0ovH+0WhvSTinPlkuVfEnJH9VgLqfBjmsRUqlENfkIR8hFpJzDW3og5uxVyLdScc/CtjnhaDsgtBHtF94V3Rh6MOcgxft34L8hWKOCu6d2Q/nZSE329o36VLRYNOkCtP9vkczzhnW7NqnZVCOhH43ca57X7kYxPqHOfIpcGZvFi/SpaOsTCMRSWiS6DM/SiTKJQ35gj4ncn32bVnj23cstl24liCc2/Ec8IJVax82VKYB4bgmr+5I8CkjCtP9nXsnzmWMrN4BTe+sE5x3AtCP4MbrmyS8NucbSaB81oMLavXbEA/l4Q6UgfjRWmwwTwM/c429Nl7MabXq1/LYlBvXR+KuhkOJqvXrcd7xIEHyh3PwpEXjhnhKL8yaDccN5hHtkGO1+zPVq9Za5u3bLWaNU7EvTAwTgDH0qjfOEeeypev4OafS5f95fqgSPAojTEAxenSTEqMR7vE73C0sW5nnWFhaIulkLabTqFsyA3LMfidvs/VoZLlK6IvTLfFf/4NnrvRQ3GcS7XomGAwDbXUhIzxwc2BwIvrTXH797syqVK5PPKO36po27t37HP1JQJjHtdh0tKTXBvejz4mFOXM+QZHlnC0xVD0T+wPOH2IjPThveLgPwV9AfKXwLk06kUMfscgbvbTyBTqMH7jo4ziUJ/37Il340g0fifEcfxBGiWi8LsY5cT1NB4j0eeXr1gW/UUyfm9sQZ4iUBfC3HyB9XrP7kSklQrmkW485txzz27MCSJLoK1XRD+5C2PRdswV4tFPn+jmOmvXrkP6cQfmWJinoI43x/haAfWtauXKtgPzkVWrN2IM3oc6uQ9h8B5oA6zfEfh9EI+xm+MGx84NGze5foq/udkfxKCOh6Bf4ZqQ+/2Pd3fzY5Qf77PuMi+cG7lJHX7fREVFu2du/Qb1fc/uONdfusEczDhvD0WD5biTArZuDoi6z3HPrS+i/pEx+3CO+2gA6Jt3ujks5ykcK9lU3NrMgXxwvYJtkf0V0+ccgmtnHKM5L49E+ZbCO0ejv2DZcO6VgHnE/sQ9Lu9heN+SqB+sx/wtxd/obl0W8YbiPfn7Yd/eONSJZDf/C8LvWo4JnD/Hoy0wPxlrYlzbwcwT6cagv2SbioyKxPtHuvdlf5AIlpyXkPkJ1aoif2SYEceunbtdf8j1QvIia86FMStx8wn2EftRXuw/ue7ofjehI2D/w9/wZMr6zLGHYxPzvhvrAhk/Fdj34R76AVR8i615IuJKxO+aLbYPx0qVK1hF/MWjLm1ct8Ea1q1ptTDPSOU4grJhh8M+bzvq0/qNO6xGrdq2FfOL+X8sxm/CSPQdJdG/cT3SZ2XLlnPzl5VrV1s06y7q1ubN2xB2L9bSdqGPS0Efb+hn0X4wH9iLOsL+ORJlVwblxHWDBLDN6Lf4GxrlgH56H9p48yYNrVvHLvbXkhU2Y+585GWLBaOP4vjO8S0dc4xI9BEcG8IwN96PMKwXHJ/cWi0YpaZgboI5dgnMP5OxHrE/nuttXFcBZ87jAIzzMvbFKAjEaagbZV2/snUr1h0wXnCOw/6Z9ZdzAv42isHcmOE5ZsRhLE9NRb+KNlz1hApIG30c1m1KYV6fiPJL2M/+IQr5Dkb9xDwwPQh55nwizLagr2X9jkT/Ego+nFv7MMc69dSmVr3KCZaI9Y8FC3637eC2C7/73VolMrlj3047qX5Dq1urli3D3G1/4n78Ro9DWYAH6vf27btdn87+PS4Ov1PAm/17uXJlMM+qg3vxtnr1WvQZu5F3rPfj3ZL4GwNlGoV6zDbPMWH79i1oJ1gLw/tz3Zhzac6TuO5BXrzn7pMj6iJ/L5WIxm9e5DEB4xXnE2yHjDcCFaEE+1bUE449uzFPjWf/6voUrkGiHqCsglEnOM9kGWX8ukPeUEf4G4idccbvZ/5+ZR7wWwH9XEZbdFMD1ybZZvkbgu/P8g/D3ItdjOvM8W8y4uaYwvE5DONBRETG72iul3F+xfrD33X7MTfDayEtjh/8XZuxDs91l2AsWgfhj3PfYKThxhi8C/sQ/u5jnECOa5BC4hxz9iE+PEXe8JsZftj/sS1zPY9tNxj5dL+PkF4q+iaOLezzK6DcWC779mLsQ10JQjtlGcahPbMeZvyWwhgMPwkYzxMxx2aanNvyyDqWiH6I8gP2jywnOjdvQRpsd6wD7Dfd2uK+XXZS7RrWqFYdKwv5wwbMFZcuXWGVKlayRPQpv/653HZhjgT4GE+xFok5SGRkmDVsUBvturStX7fRVq5ebSXKRjm+0aXwmzMIYxZfEvlJRh8WVKVSWf9GTPTkREAEREAEREAEREAEREAEREAEREAEREAEREAEREAEREAEREAEREAEjj8BX4ZE9vhnRDkQAREQAREQAREQAREQAREQAREQAREQAREQAREQAREQAREQAREQARGAkmUa1NPlREAEREAEREAEREAEREAEREAEREAEREAEREAEREAEREAEREAEREAEigcBbAlAg+hyIiACIiACIiACIiACIiACIiACIiACIiACIiACIiACIiACIiACIiACxYEA9pTEBt1yIiACIiACIiACIiACIiACIiACIiACIiACIiACIiACIiACIiACIiACxYKALzQkrFhkRJkQAREQAREQAREQAREQAREQAREQAREQAREQAREQAREQAREQAREQARHAHnjp6eniIAIiIAIiIAIiIAIiIAIiIAIiIAIiIAIiIAIiIAIiIAIiIAIiIAIiUEwI+FJS0opJVpQNERABERABERABERABERABERABERABERABERABERABERABERABERABX2pakiiIgAiIgAiIgAiIgAiIgAiIgAiIgAiIgAiIgAiIgAiIgAiIgAiIgAgUEwI+f5o08IpJWSgbIiACIiACIiACIiACIiACIiACIiACIiACIiACIiACIiACIiACImC+tHS/MIiACIiACIiACIiACIiACIiACIiACIiACIiACIiACIiACIiACIiACBQTAr7goOBikhVlQwREQAREQAREQAREQAREQAREQAREQAREQAREQAREQAREQAREQAREwBcUFCQKIiACIiACIiACIiACIiACIiACIiACIiACIiACIiACIiACIiACIiACxYSAzxcSVkyyomyIgAiIgAiIgAiIgAiIgAiIgAiIgAiIgAiIgAiIgAiIgAiIgAiIgAj4gn0+URABERABERABERABERABERABERABERABERABERABERABERABERABESgmBHy+YO2BV0zKQtkQAREQAREQAREQAREQAREQAREQAREQAREQAREQAREQAREQAREQAfOlp6ULgwiIgAiIgAiIgAiIgAiIgAiIgAiIgAiIgAiIgAiIgAiIgAiIgAiIQDEh4EtP9xeTrCgbIiACIiACIiACIiACIiACIiACIiACIiACIiACIiACIiACIiACIiAC0MBLEgUREAEREAEREAEREAEREAEREAEREAEREAEREAEREAEREAEREAEREIFiQgACvNRikhVlQwREQAREQAREQAREQAREQAREQAREQAREQAREQAREQAREQAREQAREwJeWJhOaqgYiIAIiIAIiIAIiIAIiIAIiIAIiIAIiIAIiIAIiIAIiIAIiIAIiUFwI+HzFJSfKhwiIgAiIgAiIgAiIgAiIgAiIgAiIgAiIgAiIgAiIgAiIgAiIgAiIgPlCI0VBBERABERABERABERABERABERABERABERABERABERABERABERABESguBDwlS1TurjkRfkQAREQAREQAREQAREQAREQAREQAREQAREQAREQAREQAREQAREQgX89AV94RMi/HoIAiIAIiIAIiIAIHCSwe/du8/u1R+5BIjoTAREQAREQAREQAREQAREQAREQAREQAREQgWNLICQlNfnYpvgPTG3MV1/bO++8W6CcP/zfh6xFi+Y2YMAg27ptm3391ZcWFBRUoLBF4el4pXskeb97yL22bNkye/utN618+fKHFdU2sL4WzBs0qG/PPP3UYcWhQCIgAiJwpAQmTJho738w2vVpFSpUsBGvD7dq1aq5aL/7bpyN/vAj+/vvv61ihYr21ltvWOXKlY80yRzhbxl8m61Zs8Y+/eQji4iIyPE8txv79u2zjz7+xD777HMXNjEx0UqUKGF16tSxhg1PsusGDbJatWJzC/qvv/dPG3dfH/GGjRs33u77z73WuvVphSq/uLg44x/rS3p6eqHCHm/PPuz6HBMTY9HR0e7veOdH6YuACIiACIiACIiACIiACIiACIiACIjAoQiEBAXpC/tDQdq8aZMtWrToUN7c8127d7nj73/8YZsQ7li745Xukbznn38usd9//80SEw9fmMzFZpaRNEaOpCQUNpDAjz/9ZGvXrrPzepwHwXLZwEc6F4FcCXz55Ri76667LTUtzX2MsGrVKtsLQQfdRx99bP+5734n9KhYsaKtXLXS9sftzzWeI73555+LISRcXmABy4yZM+2WW2617du3G4Uc1avXsEqVKmIM24i++Xf79ddf7asxX9s999xt/fv3O9LsHffwFFSmp6XblVdeXuC85Bfmnzburlm9xo2X3nyloBAouOO85p8muPPej/nes2ePEz5WqVJFQjwPjI4iIAIiIAIiIAIiIAIiIAIiIAIiUAwJdOnSpUC5+uGHHwrk75/qKSQiUiY0D1V4gwYNzLJoyUWg+g0aOs2JaVMnZwkeGhqa5VoXIiAC/0wC7707yiZPmWLNmjaVAO+fWYTHPNfUbKLw7rFHH7Wrr+5jKTiHtMPlY8QbI53gY+hzz9oll1yc5dkxz2hAgmO//c4G33qry3fPnj3trjtvhwCveqYPCm2oNfjss8/ZU08/Y23atLGTTmqQ+fyfePLYY49bGsqmMAK8wwnzT2STX55ZF/6pwrvA9+I78F2oiScnAiIgAiIgAiIgAiIgAiIgAiIgAiIgAvkRmDVrlg0dOtR9FBzozxMc5iVo9J4Hhjmc85BgX/DhhPtXhQkODjb+ec7T8qJpzPDwcO+2jiIgAiIgAv9SAgkJCc40ZtmyZa1PnyschVCOG/jbu3evrVq10qh5d/HFvbI8O564Vq5cZUPuudcJ7/r362cPP/xQjuxQyHEdPmJp366tcV+8f7rwLscL6kaBCdBs5uE6tgF+4BQZGXm4URRpOL7L0TBfW6SZVGQiIAIiIAIiIAIiIAIiIAIiIAIiIALHnUBuwrtjmamQoGDfsUzvX5kWF3Znzpxls2bPtrJlyro9Z7hPXl5uyZKlNmnSj7Zz505r2aKFtT+9nZUuXTov73neP5rpUoi5dOkymzN3rq1etRp7PJ1op53Wyk4++eQ888MFvJ9/nmx/LF5szZs3dwvCJUuWxB6BWYPExcXbH3/87hbXatasAQ67bOrUqS5cy5YtrMMZZ1hUVFTWQNmuaApuyhSE+WMxtEmqWefOZ2XuQ5XNq7vcvHmz/Tx5inuXtm3buDLKTTi7aNGvlpae5solKSnJps+YYbNmzbZyWLSnZkqzZk1zi97d+2nyZFswf4GlpaZZOyyGk1dYWFiu/tev34g6M8OWLvvLataoYe3btzvk/lOL//zT9u3dZ40aNXT7/OQW8cKFv1hycjL4N8sifCbzadOn2oIFCxG+kXU8s0OudW4Z8rNr1y5r2rRJrguxCxYuND+0G0455ZTckndhGUf5ihWsTq1aOfwsWLDAUlJS7dRTT8kiNKdHMlm/fp3jQEEIHc2hzZ07z+U7OCTYateubed0PzvHvl8UVGzdutXlm3uC/fLLIpuM8k73p1uTxo2ta9eDKtnLV6607Vu32R7UV7o/YA6XZR2C+PN6L+fxwD/M59y5c2B68A+jMKdR40bW6cwzA724MmBZlCtX1urWrWusf+PHf+/q+iWX9MqiAXUk/cGR1NeC1AmyiYMZSPZn2evyli1bILRabVWqVLYaqMPZ3Zw587CgH+LCZn+W/bogeWGYwpRz9jTyumY/NxltNxF1oCPKsUmTxln2NWXdYH2iRg+1ukqUiHJ1MjA+mipknxkVVcLmzJnrHnll7/lju/zmm29tydKlVrZ0Wetw5umuLWbfQ5V92/LlKyw2tibMXFYymiCeOHGia880b5lbv+Wlkf1Ijbq4/XF2bf/+9t//Ppj9cZZr9guHcnx/tsdp06cb9/87q1PHLHX5UOG959u377SffvrR/l6+3PW1bdq0tlKlStlijB379sXlum8buXz99Te2bt169AO17Ez0Yd7eg168LCeWF/NJLazZs+e4R2XKlLH69et53rIcCxvmaIy7rBuB/QX7sh9/zDDxe/oZ7e20Vq0y+0sKpqZNn2HzMdZUwf6KHPtiY2tmeafDvchN++6DDz5AGp0PKQz76KOPXF/XqVOnw02+SMPl9i5FmoAiEwEREAEREAEREAEREAEREAEREAEROCICRaXBdkSZQGCuP9PllR/e53rTAw88UOBt2FyEBfwnqGnTSv5FizYX0Lu8kQAXYmvUrIWF6So2Z/bMXKGc1rqt209o/LixdtnlV7pzzyMXZK+6qg/MrD3i3co83nPvf+xj7M/DNDxH7b8ePXrYsJdeyLJw7D0PPB6LdKmFcU3f/li0/iUwaZe385DP559/LsdiPrU8Pv/sC2h6pGaGoSDlteGv2vDXXrN58+bbTAjDTjyxqlEIdOGFvezSSy5xQq577vlPlnD8in/QwIFuPyYvsnXr1lm79mdYKyxkXtXnSrv9jjstNfVgWvzq/4nHH7NevS7ygrgjF0KvvqYfFsH/zHI/IjzC+qCMHnrw/iz3yTc+Pt6++vILu/Syy23btm2Zz7l31LXX9rcHH8gahsKH3vDLff4CHdP4z3/usX79+gbetg8+GG2PPvq4JSQmZLnfrl07G/X+e+a0erI8ybh47PEn7I033jSafH3g/vty+Pj777+tc5duVrVqVbCe5sqLC9m3DL7Vvh8/IQtj1rnWrVvb22+9mUVQx7o8E/tlfT9+nDVseFKONJo0bY69DBPtr2VLcjzjjbVr10Ig3QELuXXsx0lZ7ROvWbPGTj/jTBdu1HvvugV4d3HgH9a5n3/+2cZ8+bm1bNnSPvvsc7v3P/dB4JcS6M0JNZ5+5ikLFJrdfPNg++bbb+3LLz6zJ554yuZDUBjo+K7vvfu2e9frrr8RwrTxgY/dOYXGS5csznHfu8EF4QceeMg+GD3au5V5bNy4iQ1/dVimIMurr1zMPvec7nbX3UMy2/wLzw/NrKdF0R8Utr4Wpk54XIe/8or1OO/czPflyU033WLfjh0LoWlT+/abr7I8o7C5e/dzrS2E3h9//GGWZ4EXhckLw3n5KUg5B6aT2/lMqMczPgqGAh0FSY8/9qidf/557jaFhmd2LLxQgkIPti86CuGu7HOV7dixw117//CDj7ffHplFyDl69EfYS+8+ux9t/C8Iwz/7/HPPOz4QmOsEZ527dLW//vrbli39M0v7zfSIE/Zdrdu0g8CxhM2fNydHnx3otyDnNB/64osvuf4x0D+Ft+++/ZbVrlM78Hau5xz3Bt96u32LthooYImOjrGRI0fY//73qC1ZssTWrlmVJfwnn36GtvegmywFPmjQoIF9gvpFAR1dy1NaZemzPb/t27e3D0e/711mORYkzNEedwP7iwsuON/uvOOuLP1145Mb25gxnzvhaf9rB7g+2HuJyIhImD99OrO+8v599z3g+qk3RrxuZ5/dzfN6yOOyZcty+HkU5mIv632Z1a1XN8ezwBsjRow46gI87s9Xvnx5p+nnpc1xJbcPCPi8fv36njcdRUAEREAEREAEREAEREAEREAEREAEigGBvMxVHiprXK+78847nYLNofwW9rlnIjMvAV6g8K4FlLEWQrZBl5f/wqYfEh+fXNgw8l8IApdeerlVqlzJ7r77Lqt24on25ZdjbOx339moUe9DA61dlsWzZ58bah999LE1qN/ABt9ys9WMrQFBw0IIKr6AZsHXFo2F1ieffLxAqR/NdD3hHStvr4sudAKhcePGO+0RCkm4gBZoiu3xJ550QsmqVaraFVde7t6bmnGffvaZDbru+lw1vfiS06FF8PkXXzih3EVIpy4WgKklRwHXq8OHW5myZSDIG5CFx0poT91++x1GwUjv3pe6xeQvvvjS7WV2PxZ4qclGrRU6apJd2vsKaO2sML5LdyxkxtaKtRkzZtonn3yCBeORFgJB1n333ZslDQqoel1yqdWBtheFddSO/Pqbb+y778bZm2+OtDM7dLDTT2/vwlAAcS0WVCm869a1qxPcUkNnOtJ4//0P7JFHH3OLyz17XuD8U/vrvvsfMC66PoC420EbcC2Ek+++Mwr5muEWbinIzc0NHHAtFvvfcYLSe4bcnWURk/7fxZ5uXCC/GoJJCpF5fhMEFOPGURjX0C7u1QsaZi3tt99+t6++/sqld9XVfd3CdnbtqtzSL8g97q3F+r102VJo062HwPbEzGDffDM283zs2O+yCPCogTIbGqzUvKPwjtpzFHqxc77xxhusDQRwK8COGkxTsW/d4FtutR8mTnDaX5mR4oTvS026h//7kNOk+n7CRCx8f+XifvHFYU6gegEEM3VQ175FflavWW2XXnop6kzFQwo4nnzqabcozkVhakJRU4t16euvvnHlf+NNgxHnGKOg13PLl/+N8p7hhFzdIHTZuXsnmFRzj4uqPyhMfS1snTi3xzlOMDoBX5oECvBY76dAa5bu999/d9qPntYk71HbkO5saEvm5Qqbl8B4ClLOgf6zn1Pb6dprBzpNyauuuspppFKzjXsijh79oftAgB8FdOnSGVqWZewW9NfkzPZfrlw5u+KKy7NEGb8/3t56+20nXLvsst7uWT1oXtJR+/Kavv2cmU0K39kPUcts6tRp9t6oUda3X38b88XnOQRgn376qa2C8LAr+q7TTjvNlq9Ynql9Fxoa5uLOTxtvzuy5Tvh91lmdDlm3XWT5/PPOu+9hbHrKvfsA9EPUkt6yeYtNnDTJvvrqK+t9+RVOeB64t15u0VEAzrGuVq3aYHiZtTr1VFd/PoWwvu81/S0sPOO9AsOS038gyKc2933/uddp7y5fvsLGfz/BCeL79LnGPv/8EyfIHIjxghpqb2I/QmpSX3/9dS6q2rVqBUaZ5bwwYY7muMtMsS1RG53jaI9zz7XfcE2B7u/QWO9z1TX2KzTEGzc+2fpd09dCw0Ixxn7uJosPPfSw08TzNNe9/pwf0RSlW716teNL4SuFjhSg1qlTJzMJthFqs+7fvx/5bJxFO3PDhg1Ow5KeqaFPDU76mzNnDjTbmzltZmr1UguTH7Nkr9uM+220MY7vffv2RT8f4rQQx+Njk64Ye9lG5ERABERABERABERABERABERABERABIo3gcM1V0ktOYb9POBD92PxptmFd/zQ+Vys2RSpO+GEcKyTyhWGABan/NWq1/S3Oq1NnsH4jH7O6NDJD9ORWfzde+997lnfftdm3oe5R3/1GrH+ps1a+LFolXmfJ9Cg8Xc7+xwXhv7yc8ciXXzl7n/zzbdyZGPbth3+pk1b+GvXqeeH9pt7DpOZLt/NW5zix5fwWcJgwc1//gUXuudktW7dBvcc2lGZ966+uq8fwoAs4WCC039Sw8Z+aEH6YcLPPYNmV2aYG268KYt/XnQ6q7N7PuKNNzOf9b7sCnfvwYf+m3nPO8Giur9N2/bu+Vdffe3ddmXOvJ7b43w/GmjmfZ4MH/6a8w8Nksz70PZy9y6/ok/mPe9k+d/L/Y1ObuKvU7e+H2bX3O0XXxrm/EPTxPPmjkzrlZeH+5mv/Bzfnfn7+JNPs3gja6ZVv0HDzPr4wosvOb8sA9axQMfyI3vGBe3JzEces8WL/8y8F3jSuEkzf916DQJv5TiHYMrF+8YbI7M8I1PW3/btz/CzvrCdee6HHya5MNBI8275P/zwIz8ZZndPP/Os88uj56AN5u4xf1hk9m67IxbF3TOWd6C76qpr3H0IcwJv53nuldG+fVnbL9+jV69LXFwzZs504QPr68BB1+eIs6j7g4LW18LWCb4z6xT7rcDy+vHnn9379u59uTuOHJm1v+h+Tg9/bGxtP/uMvFxh88J4Dqecs6fPtsi2Ehtbxw8hbvbHfpjNdXW8bt0G/g0bNmY+xwcB7l3P6twl8553wnbLtsR+PLu7oGdGH/jSsJezP/JDuOzCsY167oMPPnT3GB8E9t7tLMeePS/y16pdN8u97BevvprRXz3//IvZH7lr1tF33xuV55/XX8NkpuuLmzVv6f97xYoccQ0b9orL75kdz8rxLPDGhAkTnb927U/PUS9YJj3OuyDzvb1wmJz5TzrpZDd2ctzI7u4eco8L8/jjT2Z51LBRY1dvs9w8xEV+YY72uBvYX3BMCXQcj1nWrA9dupydOZZ4fqA17Z5NnPiDd8v/5JNPu3sw/5x5ryAnS5cu9Wf/u/LKK9FOvnX3hw0b5uf1HXfc4X/sscfcuffs9ttvd9eYyPpvvfVWdz59+nQXDkJbd33ffff5b7vtNncOTW/3bMiQIf67777bD81L/4033uh/+OGHc+TByxM+7nFhGWbUqFHu/K677nLzBM9P4LEg7yw/IiACIiACIiACIiACIiACIiACIiACx44ALFb5C/NH2QD/vDBHI6d5xc31dq478DnXIjxZQV7+DzdvvqSkrObnilQ6qMjsjttvzbEfGbXJ6CDQyiTE/WxQiHbzTTfl2N+Nmh7UrqKbja/RC+KOZrqVsa/OgAH9XTa4V9FKaIGggkLzrqyd1vo0p7WyYsUK9xyCCHe8/77/ZPnanjf5Bf0rL7/knuf2T0hwiL366qtZNJborxG0xW6A5gQEBk5LJTAsNcseg6Q7uzv3nAzJNzX06Jjf+fPnI0/V7JH/PezuBf7Dr/hpcpNuEsomu6OGpKfF4D3r2LGjO10DrS3PUQuJ5ihzM2lJk3LUymNeFh4wR1q+XHkXdMrUKU6DwYuHad108w2Z2oPe/ezH6wYNcrfee29UlkfU/OQehNT0i4mJcc+oCUE34vXhOczsMc8jRrzmtPimTJnm/BXVP+ef18NFxX0ePUdTptxPDR2cdQETmi309gqjnwkTM8xtntfj4BcMl19+mdNKognNVdhrzTN1SE1COpoXzO4u7Nkzhzk17ttIE3ubYX6NmmOH67wyio6Own5o8bYCWkDU9mGd7HHgnZfAVGKgozbeM08/GXjLnRd1f1DQ+lrYOsF3piYx9+vk/oWeGzd2HLRXQ5zpPvqhNpTnaLqRJmupVcM+Iy9X2LwExnMk5Uxzvmwr519wXhatQi/+dm3b2tVXX4U98RIztQy9Z4U9sp789utvVhn9zXXQvsvu2F5rwAQleaVkq5v1YLKwX7++2YO4a/at4TDRm59jv0MXERGeqzdq4j744EN5/s2aNdOFYztmX/yfe+/JdV/LW265yWmYckzg/pB5Oe6bRwchTo56QU2xxx97JEdQ7mHHPfzYb3C/2OzurjvvcO1vwcKDdTO7n6K8PprjLvNJjfDbbhucJcscj6vCnDddv/59c+z/eQo0lulWrz443/DKPCoq0j0ryn+oCTkQJq4vvvhip2FNbWvP0ZzuJTCNfcMNN7g+l+ZQ6WhSghp5V199NbQir3fmyRctWuSeMR5qqb733ntOI++CCzK01d3DbP9Qg7xbt25Gbb4JEya48fKaa65x2njZvOpSBERABERABERABERABERABERABERABA6bANfVvD3vaC2OmndcA6XjOkdRmc9kfCHpaQf3WuMNuaIl0K5dhinFwFhbtsxYaKRZNc/9cmCxavSHHzrzjd5975iUlGHq9JdfMha1vPt5HY9mulx0xpf29tHHH2du4kghBfc1CwryuSzt3LnLHbmfHV27dm3dMfs/1apVc2YRKcDJ7rinDoUhubm2bVu72/PmL7AbAjzUqFHTmbQLuOVOm7Vo5o774/a7IxfpaZaxZctTsnvNvD7ttFYHzHDNz7znnfBZdle+fAV3a/+BcmVD/uuvv5wA79Zbb8vu3V3vwn6CdMwP9wO79NKLnWlR7i/YoUNHmINrhb392hr3FoyNrQmf+bumTZu4hWxyZ11p3jzjvaG14wShA2BCjo7vDi06t8DKBeDcHBfNGzQ4yZl/3LhxE0ylZiwS5+a3MPfq1atnNVFOXFTn/mw06/btt2OdEKDHuec4YSLNl9LUbGsIhOmmQNjI/cDagJHnoM1mzz071Bb9+mum4I1xnY79rOh2H9hg1PPPo9f2Au/xvFSp0s6kakJCUp51LnuY3K5p3vV17PW0du26zMc0HVm7Vm137ZW397BmzdhcTcgWdX9QkPp6uHXiHOzhNxEDE82RnnLKKe5DhJ+wV2GLFs2N7Zum62bNnGXcO5PmZr+HMI8Cn/zMZx5uXjyuR1LONHtKF1jXvHi9Y5s2rd1+k9BgsssPmMT0nhXmuGDBfOxllob9LhOxz+n5uQbdsWOnE/L/DkEfmXqONrXzchTgeUKavPxUq5Zhvnb9+g25emnatJk9/fRTOZ59NeZrmzV7luu3+XDu3LnOD/eRy8udClOYv6KdTp8xHfulXZqrt4ULfnH3W6HPy801atTImRYO3Bt0Hj7CoKPwv0uXbrkFs2AIybnHID+Q4Th1NN3RHHeZ75qxsTk+tuD9kiVL8YC+/2D9cDfwT5kypd3p/viMsY8XnunMElEl3LOi/Id7KnqcKcxjH++56Oho79T1DRTqst7QnPWZZ56Z+awuzMvSXChNYTOOM844wyjQpwkKftCUnwt8zokzP0aREwEREAEREAEREAEREAEREAEREAER+P9JAJZ8jvmLZRfePfLII5nCu6ORmZAgCzka8SrOAwTKlStTIBbcL4YLTaWxp1dujute5cqVtfLYX6kg7milSw2l/tde6/YM415PPaARRc2HHdDAmTtnrs2dNy9L9vheXFDLS0hEz9WxyJ+bAI+aJ3m52th/jm7t2oNaBbwuVaokD4d0f//9t/MTG1vTHXP7h/muWKGi+/qfWl6hoaGZ3rioeCgHs2cGU5RuATJw4TIwHO9zb8TwAxJ6pvH1V1/a2G+/s2GvvAKNy9lusfw57I/YFpo/Lzw/NMe+boHx8XwghHQLbrjR3nrrbXvllWFuzyDukcSF0joH9npaBwETO5tD7UlVK7amE+BREFlUAjzmsWu3Lk4A8tOPPzstJ2posT5RYMfF3yrQKJn0w4/QpnzE5X8z9j6iZp23fxz3verbtz9i8mP/vkZ2BvYc5J6IXBD29ldjOtldQcote5iCXnPPupdffsXVd7KmZlpqWqoTlE7CXmC5uZiYgwvagc+Luj8oyHsfbp3o2rWb06b9GUI7appSc5LakDfdmCFaP6d7d5s2bZorF2pNUmOL5UihdF7ucPPixVeQ9/X8Zj96WrrcBzEvVx9CaLpVq1bl5aVA9z1N5RIloiE4zr0u1MeHDHSBghBe5/eO4RC+U4iXn2vatIl7PBVlk5s78cSquQonP/v0M+e9QYP67rgG/Rz37Myvf6h7gOXy5ctzS8rd27R5k2s7eWllcnwsX6EcNJPXZ8axGpq3dGTBPWJzc9T6oouLi8vUPs7NX1HcO1rjrpc3Csfyc9HRGdrV+fnhM9YPukh88HC8HLVcuYcp+3tqhbN8PEeN3sDxlhqodBTU5ie4pj/uuch9eE866STX73yIj6Jg1jNTqOiloaMIiIAIiIAIiIAIiIAIiIAIiIAIiIAIFJZAoPCOigz/+9//cgjvunTp4qItKi28kHQ7ul+kFxbCv9V//fr1DXu+2PMQ0MTG1jxmGAqb7uTJU5zwjpo0M2dMy/E1/FVX97UpU6Zk5p8L3TNnzTIKzPhVfXZHrYi/DgjTsj/zzGtlv8/rRYt+dbdPOqlhbo8Pec9bBPz99z/y9EstQi4q10O+AxcT8wyQ7QGFjNQIoyBwzJgvsj3N/7LHeec6wRYFmzR/+dHHn7r6cfXV18A02PhMQVZusXTvfrbTrJswcSJMG+6yd955z3kbMPDaTO+1ateCwCDGli45aN4s82HACfYbdGl5mnzeo9TUnKZ3YffXLcKGhBz6owAKb954402bAM2t089obwsXLDSalvU0N7p06WyjRr1vv/32W6b5zHOhnee5p59+1gnH7oSJvFsH3+Lddscrr7gc7C7Icu9oX2CPLntt+GsumQ8//CCHOb/hw1+3p55+usDZKGy7LHDE+Xg83DpBLVlq2U2Fudj169c7zUkK6Cjcpzv33O7ODOO48d9br14XOTPAjSB0rVIld81PhjncvDDskbqmTZpCm3CC/bJwUY5y9OJegPpK1wRm/47ENW2WIVxi+3pt+CtHElWWsP379bWd0GrKz7E/pkYf9ni0L8d8ZRdd2DM/7+4ZNXF/hxCFAhKaGaZrCJPGLPtlMFlbv36GYNM9CPiHWrJ0LZrn1BDzvHnx5DVW0Bwt9hz0vLtjo5MboX+YaFf16QPzi32yPCvOF8ejfQfyOLNDB6ddyY+CjqWjVh21MWlGlx+4XHTRRS75Jk2aOE1OjpkUVPODEfYpdJwXUaA3YMAAe/vttzH2L3Lmd93DgH/YB48ZMwYa+GWtf//+ToBNoe9kaO7NwhyEH8DIiYAIiIAIiIAIiIAIiIAIiIAIiIAI/PMI5CUI8wRlx+ON8hLeHY28+MLC8v+i+2gkqjhzEjgVEls6Lkbm5vi1OvfUKmpX2HQXH/gS/oILzs8hvKNZPJp+DHQtsScNXeB+Z4HPF8LUI98tN8cFPmoi5eZ+/nmyu809bw7HNW58MjQ2ot2+XVz4y81Ra4oCRi44Ho6jEIP7+myB9pjHLXs83D+QpgU9x/SmTZvuXTozdddjv7/vx491C5PLsLC5dOmyzOe5nVAIds01VzsNu9def90JVGJja1mnABNl9NMMwoOdu3bCtN1vuUVjXKynhhE1kagpQVcBC/d0GzZmXUjnPWpeUeOwII7aP1WrVHUaEmOxXxo11c7pcVBAd16P81w03479zn766ecMM2pndsiMesXKFW4/qH59r8m8551Mnz7TOy2SY3JyTmFl9ohZJjSF2KBBg1yFPrNmz84eJN/rwrbLfCMr4MPDrROMvvvZZ7tUxo+fgLb+k5188smZAh4K+9kPzAaDcePGG9tbt7O75purI8lLvhEX4GHbdhlmWicHfIiQPdjPEArQtW170KSru1HIf5pAO4zaaxRSsP/MzVGInX3/u9z8Bd6jJus5EOQfyt0OMwPsp+6+e4h99924fL0zf0Puudf1K0OG3J3pt1WrjP6RGrO5OWptz5o526WTHy9vD7u8xooffpiUg1Gb1hn8f/wp5z6lXl4ooMzNpaelu/49t2d53TucMLnFdTzad2A+YmNrOu3KQ2lpBobJ7zzId/BDMLbdQBd4TZOWL774oo0ePRoam1UzP+qhsI4furyO8WrUqFFGQV4HCBlpWvPHH390exxSK/v0009HPf3O7YUXmAbPGb537952LSwEeO9F/72gud26devs3nUtAiIgAiIgAiIgAiIgAiIgAiIgAiIgAoUmwDWHxx57LFfNu0JHVsAAvhAs3skdfwLUmmIFGPbSy05jLTBHVM2kZltnmKqbMCF3AV+g/8KcFzbdkyH4ops+fUaWZCh4Gjz4thzCuO5nd3Paa0OffyFHGAqIrr/hpizxBF4wzj5X9c0i4OLzr7/+xka9/77RnNhZnToGBinwORetz4WGEL/sJ1syDnTzsbfSQ/992OX9wgJopgSGDTz3tJBuvPEWJ8gLfLZ69RrrdfEl1v70DrZp02b36MabbrEr+1xlQ4e+EOjVLTRTsy0EGgX5mSP1Al15xZVOw+7NN0c6jYa+11zlPco8XnxxL6fxNmDgIKcNkfkAJ9u377TLLr/SLZhfdGGGlgSf165dy3n75JPP3NH7h0LIBx540Lss0LFzl7Mc/5dfedUJ6DpgsdVzrVqd4rR8vv7qa6MmZgfsgRSKd/dcnTp1nMCMwr1Ax33/Xh0+PPDWYZ+XgSYH3YIFCw4ZB80JUkuTJhG9svQCvQdNQmooFcYVtl0WJu78/B5OnWB81LILCQ6xt95+B4LfDda9W1bhEYVJbGNPPpWhhXjB+RkC2qORl/ziLMgzCpdZv1hmTzzxVI4gI0e+7bRiqYF2Oky3Holjne6IPoyCiuuuuyGHoI5aiz17XmQ9L7goh/Aqv3TfRjk8/sST0Ig9uP9Ybv47dDjDrhs0yGgi+JZbboWm7ye5CrX4IUXPC3s5JhS0Be5j1wP7kvFjiOdffAEb9E7KkgyFfjegj1+9ZrUTvlCYm5djHaIQ5rmhz9tPBwSknl9+ZHB/Lv1LixbNIAg6wWlZvT7iDc975vHhhx9Bvi/CpOrRzHs84QcJiUmJbp+1LA/yuTicMHlFd7zat5cfatLfd98Dxg9IjtQ9+OCDrr0wnq5duzoBmhcnhWeXXnqpu7zuuutQF26w+++/3+666y7r16+f22OWDzmWDxw40IYMGYJ83WcXX3yxG5vKlCkD7d0HMz+i4V54DJ+XKVG2W29/Py8P1OzkeC8nAiIgAiIgAiIgAiIgAiIgAiIgAiJQ/AlQ2877K2huPf95aeoVNJ6C+qMMhx8pHysX4vMfq6SUTn4EGjY8yV4e9pLdeOPN1vea/nZmxzOtZcsWtgZCnqnTpkLAss4uvPBC69ata37RFPpZYdNtDzNU/BKegorzzu/ptDwSEhJtEr6Sp+mzBvUb2NJlB80yUhPnueeetdtvvwN75w2wdtgXjNohf/65xKZgEZEWXPm1vbcXVOALMC6a5OvcpZt17NjRasXWtOkzZjpzWDSNNeL115ypyMAwhTl/6snH3V5d/MK/Y6fOTkhUo2YNp0k2E+mkpCRDoPoSFg8ztCMLE7fn95qrr3JlOPKtt6z7OT2sU6dORrOiNAM2bfp027Nnjz311JOZ5gQffOB+aKvMspex/90CaCdSQLlnz15oIfzk9gnk3mplsdfboRzNGl588UX27rvvOeHYZZf1zhGEJvO2bN7shCrn9jjfCSOaN2sObcHFWKif5thQk+/GG6/PDNsHwsU33hgJrbifrE3b9hAuXODMZk6c+AMWY7FHFTT0AvcyygyYywkX/mkmkwKf8887z+0B6Xmj1kbnzmfZxxAo0FHYGuh6wdwmNZMeePAhl1eaIJwPs4YTocHKRdxfD5jsCwxT2HPuq0eTbNx/kGZgd+zYYePHjc01GgoezkLZ0vQihbLnnNPdqlSu7PI2BYIgmogrTJ4K2y5zzdRh3DycOsFkKJhpgf5q7ty5LtXzzs9aXhRkP/LoYxBuboKZxfqW3/6WXrYPNy9e+MM9crH/k48/tAsv6mWvjxhhM9AeT2/fzg3MM2bOsPnzFzht2I/gh3uvHal76cXnbSu0dKl9fTYEnx06nOn2OqXWJk3/RURG2TPPPFlgIQT71of/94jLVmUIGa+9tn++Wbz33iHu4xH2OfdAw+4lfETSvl1GP78RmrZLli51fTsFsF1hw/u5557JEl+tWrHYb/NN456U12PvTWo7tYVm3NZtWzF2TXN9e7NmzeyNEa9lCZf9oh76xeEwIzpw4HU2oP9Aa9iooXH/uiVL/nRawrViYy1u/36Y0dyQGZRC848/Gm0X9boYwtYnnbZu2zatISxOxlgxw7U59rd33JF1Q+M2yONnn3+OjxT6GP1zL7iXh72YGW9uJ4cTJrd4eO94tW8vP4Nvvc19GEMTzSNH5hR8ev6yH9k28tIUze43r2vGwf4yN+dpzuX2rKjvSahX1EQVnwiIgAiIgAiIgAiIgAiIgAiIgAj8/yTAj7q5hl8Yk52eNbuiIBISEnpQq6UoIlQch0/gbGirvfDCUBv+2utO0vz999+7yCjRpQDmySceP/zI8wlZmHSZl2++HmP9+g9wi6OeUKJixYr29lsj7btx47II8JjshRDyJMJs3hvQBqOwjH8U0NSvV99GYFH34Yf/l6sAr0aN6vbss0/bzbcMtk8+yRDkcNGNC7233TrYzjjjoMZWPq+X5yMKAbmo/OBDNQtEowAAQABJREFU/3ULv6M//ND5pZYb99YbNGiA24cuzwgK+OChhx6w8Ihwpzn46aefZoai0OPhh//rTJl5N6tWrQImr9tdd98NjcXp7o/P+N7cI+6pJ5/wvB7ySE0ZCvAuhhZEXgumN9xwPTTHwuzjTz525g3HwmQlHQUsrHND7r4rSzrly5eFmbPhdsedd7mF9FdfHe7KkqZC38Yi/sWXXFZgAd5pp7VyAr/t27fbOQH723kJcp88CvC4j2B2Tct+/fpaGkzgPfPMs/b5F1+4P2ooUgPk0UcehsnGVl40h33kfm1//LHY3oNJN2pjHWofxFdfe9XuuP1OGzt2rNvfjwlTU+TOO+4Az+quHhcmM4Vpl4WJ91B+C1snvPiobUsBHgV01atX9267Y4UKFSCMaeL2WyvMRwiHm5csiR/GBfP78UcfQ0D8oM2bNw+aWhlmZtmO2rRpYw89+IDVqVXrMGLOGYRCi1Gj3nXmKanZPHLkyExPNWvG2jNPP2mNoEVUUBcbW9Nppe3FxKJ5PnvOefGxL6aA6wzsRfkq9mrkhxWffnZQw5b95Iknnmg333yT9b70Ei9YlmMbCMEoCHrhhRfxAcQcZxqXHsqVK+eE80899USefVBgRBSCvzb8VafJSXPMFNLHxMTYWWedZc8PfRYfsfRyWsiBYWrio4sPR3/g+vFF0MClqVY6vhdNMw5/9WUXR2AY9smb8PEC+9iJ+LKrVatD9xeHEyYwzeznx6t9Mx+n4X05DrPcCuNYFpyw/n9wfBc5ERABERABERABERABERABERABERCB4k+gMIKzo/E2d955J6zlDS3wmgiFdwxTVC6oXp0T/cv+XldU8SmeIiJAk4TUwKBpspNPbmQ0JXUsXGHS3bZtm1uQpwZG3bp1C5Q9mhfkoiy1C6mtlZuj5hkXaqmt9u47bzkvBQmXW1yFubd85UpbtWKl0xA8Wot73Ndv0aJfnRZjkyaNM/fqyZ5Pmg/9/fffbe2adVa+QnnUgcYwiRmV3Vu+1xdddLHT9Js6dXKBNBVpNnPBgvlu3z4KEvNz1Mahpg8XwVtBQzGvsswvjqJ4xr3B/vjtd2eKk4vRFPYVteO7stxoMrEgGlc0W7hw4QInsGjRonkWzcLDzVth2uXhppFbuMLUidzCF+W945UXahxRmJSIetAKAqFAU65F+X6My2v369atNwqmGjVqdFhJMM/Jyck5zAkWJDLWNWpEr1+/wapVq+a0xbKbJcwvnsTERJuJsatyxUoubH5+83vGeNjuOLZQGEd3cuOmrg3OnDEt16B859mz5zhzrfXr18shSM4eiPuvco9SfrBQUNMHhxMme7rZr49H+46Pjy90f0ntamrRHqkWXvb3P9bX/CCGlgSio6OPddJKTwREQAREQAREQAREQAREQAREQAREoIAECiq4O1amMwuY7SL3BgFeVQjwDpqkKvIUFKEIFJJAbgK8Qkbxr/e+cOEvbu+nzp07O824fz0QARABESjWBCgYe3/UaAvyBWUx2+tlmoK5S3tfZjQj/OHo973bOh5jAhTi8W/fvn3/OEEeBXf8OIeCOwnvjnHFUXIiIAIiIAIiIAIiIAIiIAIiIAIiIAKHRSDEd+DL9sMKrUAiIALFksCrwzP2mxo44NpimT9lSgREQAQCCVDLeujzQy0d2seVq1R2ppc9zbsVy1fYkCH3Ou/X9u8XGEznx5iAJ/yqXLnyMU5ZyYmACIiACIiACIiACIiACIiACIiACIjAv4+ALzU1/d/31npjEfh/TGDVqtXY0+8na9CgQaH3OPp/jEWvJgIiUIwJ0OTlkHuGODOit912uzVvcYpdO2CQ0yQ++5xzbfWa1da7d2/sh9epGL+FsiYCIiACIiACIiACIiACIiACIiACIiACIiACRUcgJD4+oehiU0wiUAQEYmDeqlmzZtj7qE4RxPbvi2LylCluH7tBAwb8+15ebywCIvCPJXD9dYOsHgR5L7/0sv2xeLHRhnlkRKTVrl3bBt9ys51zTvd/7Lsp4yIgAiIgAiIgAiIgAiIgAiIgAiIgAiIgAiJQWAJBZUtF+HfslhCvsODkXwREQAREQARE4OgR2LVrl5UpU+boJaCYRUAEREAEREAEREAEREAEREAEREAEREAERKAYE/D5/UHFOHvKmgiIgAiIgAiIwL+RgIR3/8ZS1zuLgAiIgAiIgAiIgAiIgAiIgAiIgAiIgAh4BHz+NAnwPBg6ioAIiIAIiIAIiIAIiIAIiIAIiIAIiIAIiIAIiIAIiIAIiIAIiMDxJuCzIN/xzoPSFwEREAEREAEREAEREAEREAEREAEREAEREAEREAEREAEREAEREAEROEDA509PFwwREAEREAEREAEREAEREAEREAEREAEREAEREAEREAEREAEREAEREIFiQsAX5PMXk6woGyIgAiIgAiIgAiIgAiIgAiIgAiIgAiIgAiIgAiIgAiIgAiIgAiIgAj6/Xxp4qgYiIAIiIAIiIAIiIAIiIAIiIAIiIAIiIAIiIAIiIAIiIAIiIAIiUFwI+NL8qcUlL8qHCIiACIiACIiACIiACIiACIiACIiACIiACIiACIiACIiACIiACPzrCfj8af96BgIgAiIgAiIgAiIgAiIgAiIgAiIgAiIgAiIgAiIgAiIgAiIgAiIgAsWGgC/Y5ys2mVFGREAEREAEREAEREAEREAEREAEREAEREAEREAEREAEREAEREAERODfTsDnN/+/nYHeXwREQAREQAREQAREQAREQAREQAREQAREQAREQAREQAREQAREQASKDQGp3xWbolBGREAEREAEREAEREAEREAEREAEREAEREAEREAEREAEREAEREAERMDMl54mDTxVBBEQAREQAREQAREQAREQAREQAREQAREQAREQAREQAREQAREQAREoLgSkgVdcSkL5EAEREAEREAEREAEREAEREAEREAEREAEREAEREAEREAEREAEREAEQgAAvSCBEQAREQAREQAREQAREQAREQAREQAREQAREQAREQAREQAREQAREQASKCQFfSEhIMcmKsiECIiACIiACIiACIiACIiACIiACIiACIiACIiACIiACIiACIiACIgANvHRREAEREAEREAEREAEREAEREAEREAEREAEREAEREAEREAEREAEREAERKCYEfObXNnjFpCyUDREQAREQAREQAREQAREQAREQAREQAREQAREQAREQAREQAREQARHgHnhpwiACIiACIiACIiACIiACIiACIiACIiACIiACIiACIiACIiACIiACIlBMCEj9rpgUhLIhAiIgAiIgAiIgAiIgAiIgAiIgAiIgAiIgAiIgAiIgAiIgAiIgAiTgs3S/SIiACIiACIiACIiACIiACIiACIiACIiACIiACIiACIiACIiACIiACBQTAj7zBRWTrCgbIiACIiACIiACIiACIiACIiACIiACIiACIiACIiACIiACIiACIiACPn9auiiIgAiIgAiIgAiIgAiIgAiIgAiIgAiIgAiIgAiIgAiIgAiIgAiIgAgUEwK+oCBp4BWTslA2REAEREAEREAEREAEREAEREAEREAEREAEREAEREAEREAEREAERAB74PlEQQREQAREQAREQAREQAREQAREQAREQAREQAREQAREQAREQAREQAREoLgQ8PmCgotLXpQPERABERABERABERABERABERABERABERABERABERABERABERABEfjXE/D5/Wn/eggCIAIiIAIiIAIiIAIiIAIiIAIiIAIiIAIiIAIiIAIiIAIiIAIiIALFhYDPX1xyonyIgAiIgAiIgAiIgAiIgAiIgAiIgAiIgAiIgAiIgAiIgAiIgAiIgAhgB7w0ifBUD0RABERABERABERABERABERABERABERABERABERABERABERABESguBDwWVBxyYryIQIiIAIiIAIiIAIiIAIiIAIiIAIiIAIiIAIiIAIiIAIiIAIiIAIiEOI/jgp4CYkJFhQcYWnBkCKmplposN/CfD6Uit/SUlLMFxaBM4OaoOckbfRI6CgCIiACIiACIiACIiACIiACIiACIiACIiACIiACIiACIiACIvD/k0BI0DGWiSUmJFhC3G6ztGTbk5BskSXKWNmKpS0ozGfBBxgnxcVbeIkSZunpuAMRXmYmmVn8ZV7//ywUvZUIiIAIiIAIiIAIiIAIiIAIiIAIiIAIiIAIiIAIiIAIiIAIHA0CK1euhJglyGJjY49G9IqziAiEOBW3Ioosv2j8FMb5/LZ583orVSLMPv/kU3t26ItWsVIlK1Mx2s7veaH16XONhYVFQ3gXY/F791pUTLQFJaeahYcciJr6eH7zp/tRuaCXxz85ERABERABERABERABERABERABERABERABERABERABERABERCBAhGYPHmy8ycBXoFwHTdPUHs7+ip4iXG7bP26v+yvv5ZaxcoV7YvPvrSXhw2zk2KrW/XyZaxWuVI25btvrX+fPrZ1yyZLS/NbVKmSgIK8waym5/yw98k/Or8/HYK8VHf0nusoAiIgAiIgAiIgAiIgAiIgAiIgAiIgAiIgAiIgAiIgAiIgAiKQO4G9UJ769ddf3R/P5QpHYNu2bXbddde5v+3btxcucCF9+wzCsqPpEhN224a1S23fnj1Wv15927h6nX328SfWqV1ra1irutWvUdXK+YLt5GrVrErJ0vbZhx8ZLi0hJdlSDEK6kFAI6SiogyaepWX+eff86clOkHc03yG3uIcPf90ef+JJK4oK/ssvi2zjxk25JePuFWVaeSaiB0VOYO3atfbbb79lxjvs5VdcnYmLi8u8pxMREAEREAEREAEREAEREAEREAEREAEREAEREAER+CcQ+GLM17Zv375/QlaLbR5XLF9p06bPPK75mzplKpSo0tzftGnTjmtesif+1ltvZb9V7K5nzJhhNEHKv+nTpx/V/AWVigzx745POSqJbNq0wfbGb7caVSpbRFQpS8Sed8OeHWqJu7ZZ8q4dVrpUCUuGicxIKNrF4RgE05m//L3KPvzySwuLiHLiusTkRCsR4u2OR827nAJHZ1ITUj9fcNhReY/cIj2tdVvbtGmTzZg+1apB+Hi4bjkKuVPHs6x69Wo2fdrUXKMpqrRyjbwY30xMTLTvvhtnX3w5xk47rZXdOviWXHO7bNlf9sUXX9radeusSuXK1q5dW2vduo1FR0fl6v9Y3WzR8lTbsWOHzZ4106qgDfCaEvl5c2dbJZiOlRMBERABERABERABERABERABERABERABERABEfjnE0hJSbFZc+bakiXL7LqB/bO8EIVec+bOs8jIKDvv3LPtlJYtsjz3Lj746BNbsWKld2kVype3G68f6K7nzF+AddLxxvXS1lgnvajn+Zn+cjuZ9NNk+3PpMht843VZHr82YqTFJyTYnbdlXWflmvuzQ1+y0mVK26Br+2YJ4118+vkYGz9hgg1/+UWLjIiwwubJiyev47z5C+3nyVNtyF235eWlQPc9+QH3dyuObvfu3Tb4jiE2aEA/a9+2zTHPIgV3DzzwgEVFRTlZC+vUo48+asHBB2UwxzxTBxKk8O7jjz+2H3744XhloUDpUgOPDOkef/xxK4+2erTcUdPA275+gyv06jXrWHhUOUtISLOIiGjzoTNL3LPLSoRhX7vUVEtLTbHdSWm2NznNQtHwExP3W2pCHIxnplty/H6LDjsohPEanweDgjv+0fnT0yw9Ldl79I851oDw79JLLrH+/fr9Y/J8LDJ6330PWLPmLe32O+50Uuzk5NzL9sknn7ZuZ3e3HyZNsgoVykMgnGwvv/KqNW/RwigJP55u0MABdvnll0FYV/F4ZkNpi4AIiIAIiIAIiIAIiIAIiIAIiIAIiIAIiIAIHCUCEyZOsqv6DrSXXx1hc+fNz5LKt+O+t88g+GrSpLHFREfb08+9aOvXb8zix7uYOXO2+Xw+q1OnjvurUaO6e7R27Tp7jsK10qWt8cmN7FNsTzX++4lesFyPH338qU2bNsNWrV6T5flCWIKbPWee/b74zxz35y1YaIsW/ZrlvnexZ89e+xKCyLvvuM0J7w4nT15ceR1LYUutWrVq5vW4wPf7D7rBJv34c4H9H2uPLMdbbrze3hj5jqWlpx/r5G3u3LlOi/KMM86wDh06OAuD8+bNO+b5yJ6gJ7zLfr84XleoUMFGjBjh/o6m8I7vHnI09sDbvOJ3q3xiXbOwMEsNSrdEKPhFRJYwSNisVrUTbfPfiy0B8rt4yN7CIOn9a8Nm25+UYKElY+yEqlVsE0wP1okqaVERCJOEwKE5Ne88wV1gATohniUfFU08Sqap5bV6zRrrfNZZgcm683Q0th9+mGR//LHYGjSob2ed1QkCywgILhPso48+tuCQELvm6quc36X4+mHmzJnokGpZixbNrWHDk6xUqVKZcR4qLQoyv/nmW1u6bJm1aN7cokpE2TLEee6552Rqdm3evBlfLEzBgLDe+WF+PPfOO+9aiRIl7PTTT7evv/7aSdp79uxpMTElbcyYLy0BUvdLLu5lZcqU8YK495g6dZr9CpOQtWJj7YILe1oopPI0Ifr5519k+vNOWHHPP/88o3nQX375BVpx7Wwhjhs2bLAO6BxOPfUU59V73qZNG1uwYIFjdjHSnjFzFti0gEA3webjC5Pc3Ouvj7B3333Pvvj8U2vZsmUWL5999rnddNNgSOw/dOXBh4fidjhc1qA+kDM5dD+7m9Wti3p/wJUGv3poA0lJSfjCJtK7ne/xr7/+sp9++tnCUXcu7HmBG5i9AKwXc9DBzp41B/dL5SjvcePGu8G9ZMmSLo6KFSvYJZdcbFu2bHGajNT669HjXDTLY6ep6uVdRxEQAREQAREQAREQAREQAREQAREQAREQARH4/0igJNZ177t3iK1bv84JuQLfcQpMFbZqdYr1uby3u91v4PU2edp0XF9qM2fNxlpoJNZum7pnuyEku7bf1dYS68WB7mfEUTIm2u649WZ3e/OWrcZ73c/uGugt83zxn0ts7744q10r1gn6PC2+TA84+Q6CxcaNGmbeGovr/By1CGNja1rDkxo4bwXN09at22zq9BluPXkOhJsVypez83uc44SIS7Ce3aTxydbq1JaZ2l/eGirDTQEnpjcDgs1aeJcz2rd165qbsdY5FcLJSy++yOWFQsrffl+MeLvbaAguE+ITbebsOVauXDnHlmvdU6dOt5WrVjsBaPt2B7XeVuEe88e1+fZt20KTqqyLM/s/syD0/O233+3EE09wWnMUNtJxvfabseNs8+YtduopLSA7WGcdTm/nFE34/K+/l9sMlHMQ/uvUsYNVh2yE7pSWGWX8IwSNXbvklDU4T0f4z9SpU+3vv/82bufk/cXHx7s8k3Pr1q1dCmPHjrUPPvgAMoyPnFZeNATN3h/XuinoO9ouu/Dum2++scaNG1vNmjWtuGpSHm0mXvwhRb0H3uQfvrN2p6IChvrMUtItBIKrtJBENBwI6KJiLKRyVVu9c5/tS4qzVOxz17lOU/OlBpkflT1lxzY76YQq9tTtd9ujb71hVU6obumhkN6lBFlKSpqFQ1CVAg0rNoyw0AwhREp6KtIIckKS8PBwSK39FuRLR8Ei/SJ01w4YBKHITy7G118bgTQOquAyP70vu8JJr6lqyutIdL6jRr0H04+n2htvvoU97jZYm9anWb169ex1SGe/hFnIBx64306E6cyH//eIM6HZq1dGp5NfWszATTffYmPHfpf5dtEloi1uf5zVh+CQQpp56Ayv7HOVU6n2PHXt0sVGjnzDXf7vkUctFFzZUKmyS/f+B6OdUG8ZhIJ0zzzzrP380yRnHpR2jXteeBEa/HL3jP+89fY79s3XY2wbOlPmP7tr3LiJE+BNmDDRhr/2mlGo5O0X+Oqrw+2F54daTwiovOeUWlP19ExI/SnAm/TD9y6PTzzxVK4CPAoTmcdXXnnZCe/moBP9YPRo1JMUCFg7uThmoXN88KH/2meffuyydyhuheUyceIPdsstt0LgmeAGmeeeG2qdOnWyd9/JsNPL/NFkJgWr3uCTnVPgNevE3UPuce/A+48++pgNvuVmu+22W40C4gEDr7Mff/wxM8hzQ1+wt996E53tabZ8+QpXDhSc7t6121LTuGek2Vdffe0EvR77F158yaZNneye6R8REAEREAEREAEREAEREAEREAEREAEREAEREIEjI9AG6790FOBldzt27rSOZ3bIvF2zRg3bunWru57/y68WDeUWCvC49sd1zZ+nTLPvJ0yCAkR7a9vmNKeRt237DicA8yKpU7uWUUEkLzf++x+sebMmdibieOW1N51Jz0DziBQezV/wi9PCiomJsV1YS/xj8RInSKNAKze36NffrFnTJpmPCpqnDRs32SfQGKwMC2V169W1L7/61gm8KJCsXbu2vfTycLvyit4wLdrdlv31t42FmdBzu3ezTVBOocnOsjDp2ejkRvb2u+87xZoB/a5xGoxfjvkmU4DHNeuvIPChAC81JWNNNJ2W+/zpTsPtv/97zKhBWL9+PXtl+AijEItCMwr+htz3EARU7bF++rdL792Rr+VQfmD+v/72O6xbn26ToHjxLQR2r7/6kmPxIvJPjcbWqAMj337PduzcZfUg9KKlOJoYpeYkhZB79+2178ZPsGEvPOO2gKJQ6pRTWtpCaDweLQHeKaecgnX1+W6fNmaWvKn9R+EczylLobv88stt1apVTshHWQGFfnT0wziOtssuvGN6L7/8skuWa91du3a1iy66KIsC1NHO06Hip6IQFbTo2kLwezSFjD4If4vMJSclQkobYaGlIamGum9iWhKO6RYWFIz7MTCKmW6dTmtrpaFSVzEs0mIhrAuKCnXHBnVjLTqmhEWgAsWUKWtVToSKMIRMKdgDzxceBOFdsFlQCmz07oE2n8/8luT+Qnw0nZliUeFQJgyGoA/mNy01Ee+UYVqzKF5u165dNmXKFCtbtqyNfPMNu/nmm5w2lxc3pe/8KqBz58625M8/3HMKdVj56KiZRffjjxkCwJkzZjqBT88LctoqPlRa1FKj8C46OsaGvfQihFhPQ+Mwq7By0HXXO+Hdf+69xz768AOrgYFhIuzGUoPQczQ1edVVfSCE+wodYVmnqcdGOemHCU6IxueTJmUIix7678NOeHfBBRfY9+PHueeLFy+29957307EVwNjxnzh/kaMeM01fA4I9wy5y0vKHSmg++D9UXbddYOcgPPzgLzQA/eK6969u11xxeXOPwWM+blx48dbs2bN7JxzujvV7quuvhpCrOVOkHvHnXfZ/v37rU+fK2E3eoWLpiDc6LEwXMZif75K2HPvrZFvYl+7uY4jhbwrIEwrrKOmJgWhFP4Ofe5Z+3D0BxYaEmrDhr3itB+pHUjhXcOGDaFx+JkNGjQQneo+J/ALTIv5f/bZp+3lYRmDyNx58+ymG2+w8ePGWtWqJxg1Bg8nf4Fp6FwEREAEREAEREAEREAEREAEREAEREAEREAERODQBFKhlELTmZ6jwIzrd3Tcn65/36vc+X4IlSIjI7DjVKqVgtCKgqY333rXPUtKTILltINxlIQVtRT4y81R22w+TGF27dzJTmuVIVikBligo0CJArQJP2SsVY+b8IPTjKsVWzPQW5bz7Tt2QjGlTua9wuSJgZ55CooKeN9zIJxLSEi0Jx9/xG4ffJMTVM6EtbG83NNPPurC9Ty/B4RRC/Py5u5TiNL36istEvKJ9m1bO01GWn9btXqtS58ajD0v6GHTYfmNjlyio6NsALQeH3vkIetyVkes8W93zwL/qVqlst1/711ub8D/3n+vE9JR+EchzoKFi2zwTde7PQWfe/rJwGD2/vuj7XRo+/3vofvshWefstia1e3Hn6dk+qlcsQI09zZnXhf1Cfe4u/XWW7MI4Xr37g2LbZc4y3deerSC16tXL/fH+kd36qmn2uDBg51GnufvaBxzE94FpkPlmA8//ND6Yfux77//PvDRcT2n8O7hhx92f54g72hlCJKfrMKfI0koLDTcWrXriE4I6qPQjAsOD4YYDdpw/iAnwQ1GWlOwV1nNChXtZAjoqkJwtGrzWmgMbbE4SKHjYGowAVp7Z3bran4IpRIT42FKEFp1MK+ZDm09wx53pUrHQJDnt2QI6YKp5QcBYWgYtN6wlx7U+CwKjS4IgjwEOJJXyRKWgjcKVk5v3x4S3y52B2z9UiDluebNm9mUyT/aHbffahS0rFy5yj3acuBrCmqa0U2B1hgl2FTzbda0qVWsmHNvtEOlRU0zujZtWjsNtst6X+qk4e4m/lm+cqUThlET74YbrnemKz3NvslQrfZcMASsd991J4RgTe0kmPCko0CRGoJndc5Q2+WXFXTz5813xxNPOAGS5VlWEXHTLVq0yAnsWqKRN4cw7c03RjoBGtM944zTnR/vn7MhxOS9IfcMsYjwCCf9TwFTz117bX8b8fpwo7+CuDnYFLYlvlKgewQahTVr1HRCqtOwiSu/HuCXBFVhjpWNnF8OHIqbl2ZhuAx76QX79psxbtAd8cYIfJ2RIXTcsHGjF12Bj/xqhvmsXr2GM3vZvn07aC6+Yo8/8ZgbuLnRLd0V+CKC5kcpnKUZVArkAu1m18OXLCzvC1CWntZf377XWKNGjVxZM475C/Mf7OhHTgREQAREQAREQAREQAREQAREQAREQAREQARE4MgI0IpbIoRqnqOGWEgw9pbK5ijkG/X2G3bv3XfYzdcPtMsvu9QJmOgtOCTYkg4I/XhNy1vB2RQ6eJ+OpiK5rxqFhHMh8KpcuaLT6Mt4mvEvn9H85gRYF6MQahKUBnjtCW8C/fLc0w6sAG0ozxUmTwwTGRHhglaC0IqCSk+oWa5cWaeI4cWb/Vj6wLZT5aBYEw8FiMK6pdDqo7t58J1un8Kvvh5rf/213N3rhjXwEhByXd1vkD36+FMw59kIJjKrumeB/8TWrGnjvp9oV/cfZDciHjqW6YpVq53WZJMmJ7t7FAZ6jsy2QBjYAnIDz3ENfTZMe3qOZjv3YFumo+moaNO3b187u9vZTtHlueeec1bwsqdJrVA+W716NRRmzrFrrrnGKSBl93e8rmkhcOjQofb6668frywct3RDgnzQbCsiB+OVEKIFQZDBBpluwfijJlqELwTqwNjPDu7c/2PvPuCkqs4+jj8721hglyZFehHEgihiwd5LrNiwG2vsscVEjTHGXmLvihp7w4JiiRo1YI0Ne8WCgHSWpWyf9/zPcvYdxpnZ2d0BBvZ3dJh277nnfu+ZO/u5zzznuCyuD/7zspUtKrW5bijNWhfVVSBi+uIya9uu2ErdUJub77iTffHlNzavdI7luaBcrTuRaOhMpc5qvNbC1kXW131w1LEUrKkor/bpn/rglJaWWnuXnaZsuSHDhrsocd12/cab+I/mmlPp2bNnwhoUKd9zr5E2yw0Buc666/o2xS441KUX93KZah+6wMnzL9RFijUXWaLS0La0fyrKqktUfv75Z/+ygm2h9Ohed+IpXTJcZng93MemUOs1BbFUapcE2EJA6p577/Wv6x9F8Be4LLdQLr3MDXXpsgM1dq4Cg8mK5s1r5+Zv07xss1zWYiiNmZdtjktFnuQClZtucq7vDx9PnGjHHH20r0rDcHZwqcAqIQ143rxS3y/0WjI3vRdfGnK5yg2ZqeFAfV9zY/JWVjY9aDxn7hy/+a4unTyU7d1wnKFMXRIU1HjPKmpb+IKbN69u3bBsuM+N+2zHH9ewHPcIIIAAAggggAACCCCAAAIIIIAAAgggkHmBdiUlfqjGUPOP7sf48XPc6b1f3LU/JYVs5X7Ur9KrZw+fqaZhNXXt8ZNP6hIt9J7mclO9icqLL7/is8oeeWyMf7u2tsYmT55iup7asWMH/5q71G47uyEkNTTkvfc96OeM28Flnz0z9rlEVfphPDVa2ryYYFNj2pSw0ma8mONCEApSKvjY0NCFmoZLbb/s4gt/M4pdKxdIvOqKS30CyEsvv2qXX3Wt/f38c2ydJckuoYlXX3udn0/vxuuudpmLxXbAwUf4t7q6YTJVNARp/PGIuOvrGv5zbsz1eMUQClwsI5Rp0379zXrhvUzf777H7v6a/KOPPuoz2Q47rC7zM2znpZde8g4aTnPzzev6YHhvWd4fveSa/iOPPJLWZsaMGeOyUUvskEMOTmv5ZbWQhs1UBp6KHi/L4gJ47hObgRKNKrJf7n5B4PLs3K3WBTNyXYcsynUZdO6/XLedhfMXWJviIjv4rBPt/DPOsp7tO1iRW26xCxR1cUMR/uSCOr0iRXbRVVdaSacu9s4H79n8mTNsvaEbmAJTCvRpCMG27oNy5ZXXuYNV7AMy3/042WXgVfuATaGL5le5QF57V/fubkLM4//wh2bvXQiAadhIFZ04dQvlscef8OmuB7j006uvvtImuIkvDz7k0PC2v99ll13szjvvsnvuvtcbKUMqUWloWwoEqnz88Uf1q4exffXCGv37+9cVCFTWoAI9H35Yt2zffn39e439p4cLBirT66Ybb3DDhNZl5ylQFrIQNdTmXXeNdpN8rma33HxzwhNnRUWl36y+LBS8036s7tKPm1Ly8/P8CVpBv7IyN5eiO/aru2w7lRluEtf2Heq+jJSl19vNMdi3bx+/Pb2fzE3vNaboC+JuNw+gviSeH/es+zVLNxs5cl8LgbjG1KVl+/erO27ffPNN/ao33HiTTXPjRJ9zzp+tT+/e/ota4xYrO0/ZepMn/+K/QPu7Yx6Ocf3KPEAAAQQQQAABBBBAAAEEEEAAAQQQQACBFSowZMi6bmSw91wG1I4+QKK549YfOsS3SYE4Xefs5ZJGWrcqshtvvt1nhGmEreeef9HWXWctH3zawCWHvPzKf/ycaqu7kdHed3OrbTZi09/s11QXENJIXZddcqG7RlyXBKCFjj7uRHvRBagOHrVf/Tq6rr7hsPV9Zpnm2gsZcvULxD1YzWXK6bprKOm2KSyfyftBA+uG8nznvfe90Xg3XVVsKSwodNdo5/mXNN/f42Oesnfee8/Nkfc7++TTz9ztc9PQpbfedpdNnTbVLrrwb7b3Hnu4jMRXfdA0ti49VtKGRnvLdUlKTzz5tH9bWYwyXL1bV3vksSfshOOOsTCCWlh/yy03txdc5t7Q9Yb4+QY17+CubgjRUH5y8Q5dU15epcOSa+b9+tX1jTCUq66x67V3333XB4uXV3vCdhIF8UaOHOkCo3N9Us7kyZP9Zycsf999/zKNiKg40Yoqigksr0BnnttWRsr0aT9Zu+J2LmhX4qagc4G8vAKXjefmqnOjJOa2ynOTQy50wbtiW1y5yFZfay0bsslw+2rC//ykjcrCW1xZa/NcMGb1TlXWa82BNmXaTDdebRvrt/4wNwHor7bGwLX88IxlCyusJpprnbus7rPuFrjn+UWtrWbBQitwJ7pWRUXWxmXgdXDDc3436aeM7Ntuu/3OlGH23/Hj7aijj7VvXZBFQzOGstbgwf6hOrmCLmPdpJkqmhAzlH1G7u0DeArwaAhEBbsSlYa2pfcvufQyf6I+8KBD/Pxon372aX1VvV2gZ7MRI+ytt9+2nXfZ1dYctKY7UbzojkeeHebmhGtKOdxF5C+6+GI77fQz/Dx15S5d+UUXldd8gGu5MZNPP+NMn0q9erfVXdsu8ZvQWMwXXnhB/ebuvvtuP8/el1984V/bwg1H2tSik6P8FETccsst/ASWCiL2cYG6f7vU747uC+WXX36xO+6407ZbksXWkFtj26IPad++fU1BXc1Tl+N+VaFMQJXYzMRk9Wr40B132NkPu/niC+PcSbKv+9Ic5sZN/tD22Xc/F3DsbU8//bQbBrS7XXbZJaZhMJ8bN85uueU2/6udD122o4KIu++22zIfizjZPvA6AggggAACCCCAAAIIIIAAAggggAACCNQJRNz1QmVexZZR++9jSrQ468/n+Zc3d3OzhWEV7/nX/S4Dq52ddcapPjvu0ING2U233u5GHFtkg9318SOPqMuSUhBK6139z+t9Hb169bD99x0Zuxn/+MWX3HVRl/UVG7zTG9tsvaVp2iYF8NQ+10xf9thtVz+H2157JB4prm6pun/Xd0HEt995z7SOSrptCtuqqyXRv0sHJxrKqFMNujas+equv+Fml9FWYLEj0en97bbd2gXtnrYZ7vr9KScc5+fFu/+Bh33GobLxTnFz1qlovryLLr3Cjjr2RD8i3cYbbej3y78Z889hhx5st95+px157PGmZTTK2S9TpvrA3OHuvauvud6OOf5k97xuKM2w6h6/29Umuimqzjz7XP/SJhsPt4MO2De8bcrGPPjAUfXPl/WD7777zm9i4MCB9oG7tvzUU0/55wqWrbFGXVD022+/ddf766bbWtbtia0/Poh34oknxr5t33/3vY2fMN7HXTSc5s0uiUi3llDyajS3XDPLggXzrbyiylq3iVqRZr1zQ/fVuPvK8jJTmmqlC8zNKi2zktbVbm67qAsm5doeO+9mt11+vQ3beivLd//NnDvDavK1TrkbOnOu9enVy/q7Tv/qs89b/zX62YYu6DVhwgT75PNPrJXLsttq+2188KS4Yzub5YYQHLjmGlZTVW1Tp0yxES5tcbELMv3w4yT/QeibZLjJdHdbc9VdccXl9tfzzrdX3Bx+67phMtd0c8V9vSRbascdd7D93ESPCpRpDrw9XcT+m2++tZ/cZJYa71YnRs1BpuEblcm2++67J910Q9tSpPzGG663M8/6kxsz9x2XjbWFy2Rb3aZNm2aRnLoviBtvvN7OOPNP9qbzUju6uV9mXHTRP0wfzlQl6o5ZonLMMUe5MYYX2e3uRKU02yIXKNU+b+wmQtUvPsKwngokhmCiAmyxAbzhG25oP/zwg+mXBYPXHGynnHxKok2l/Vq/fn3dL09etX32GWmj3DyAym6c6AJoZ5x5ul1//Y22+RZbueM0xE4+qe7Dno5bso0ncznv3HPsQjf/3kMPP+yHDlXkXx5ffvGlm5B1l2TV+dejLoCnQKiGKVUgTuXmm2+yU/94mqvjfZ9Rp+Drrbfc5N9T0PeqK6+wSy+93J9cFZDdzQXvLr/8Uv9+qn9C/amW4T0EEEAAAQQQQAABBBBAAAEEEEAAAQQQaLqA5pHTLbZoaMVrrrzMB+UKC91VcBdACuXCv5231Ehme+25m+mm69pFLkklFAW1TjvlRDvJzY1X5a5/t3bTSyUqyirTLb4cdshBppvK7bfcUP+2hop8/OH76p8feMB+pluisu/IvewPJ57qM/w0T1y6bVLgL3YbCrzpFsoB+4003VQUHAwBQmWtxa63/XZbm26hHHfMkXb4oQf5Efnig34H7LeP/c6NhldUVDdc5W4u6+137riUlS2wkpLiUIV1cfPxaVhMeSsLLX46pbDgiE02Mt0Wu7hFfKZiBzeP3X333OFHwvvm2+9s4ief2UAXy1Bp167Errr8El+/ruXGHvt/u4zImppaH2wM21nW95qSSu3Q9X2NAqdAqMo999zj4wbafy2zokp8EC+2HQPWGGC6Kdh4++23+xiNgnp6bUUUJRb99a9/9Zu+5JJLkiZrZaJtOat1aBOdOWdBs+rScJIKEqgD6D7HTav32uuv2XsuPbhdO5ct1bbEfnRDYfbp0c+6uuyo4mIX1Pt5qp339wttSsSlm1YXWW5B1ApK8m3DPgOtXZ/eVphXbNVunrVXn3vBqnNc1p0brzfffZC0DQ2ZuGjhIrv6hmttk403tcsu+Id97X7JoIw3BZN23H4HnyGnOetOPvnkjGUoKRg3Z848d0A6JvSqqKiwiD6MrrM3t6Talj5gCvSFk9PwjTbxQ4hOnPhR/QdP21d7ysoWJm1vU9qoeQcVnIv/NUmyui6//Eq75dZb7SQXSPvz2X/yQz+2XzJHXbJ10nn90ccet3P+cq474TzsMxoVedcQq2qXstvKSufXj+sc6kvXLSyf7r3mZVQadWOLjrGOYTiOYX19aegzVeK+4BMVnSBkGHvST7QcryGAAAIIIIAAAggggAACCCCAAAIIIIAAApkQGPPUM34ozxuuvcoHvDJR58pexwX/uNRPraUpnCZO/NQ223yEnXpi6im9ZrrMwD+e8Wc7+YRjEw6FuixMNNXWWWed5a856/r5lltuaXu4JCTFcp577jkbP368T0RSIPPqq69O+9r/smjr6NGjLQTzktWvketmz57d4HLJ1m/u69p+yAA86aSTbO+9925ulUnXzysubnzgIb626uoqF4RwryrzrqbaZ9TVVEft3HPOt39ed4NFikosPzLb2roAS6tW7W32r7Ns3EvPWte+HaytmxevqKSN5Zfn2pz5c6z3sLVs0owKu/Om62zIgD5uYshO1qZVO6uoKneZfTmW77Lvil1qrLLZ5rr5wfKqKl2WX2uXfZbnhtaMWrULirRx0e2tt97WDenZ3vLMDeWZoaLOnSx4p00UxkxC2dxNJtuWPlTHHneCC1TO8+O8agJTBeo0x16Imodtqz2ZbJPqVeCwOSUTwTttf9QB+9uPP/5oow48yH1Qj3Jp5Ju5+e56u0zEqTbV9Yv991/61yKNcWvs/jUleKdt6BgnKvqFTeyvbOKXCXMPxr/OcwQQQAABBBBAAAEEEEAAAQQQQAABBBBAYFkIKAtPWVrl5RUE8JYAX/DXv9i7//vAprhRAQ9xQ6D27tWzQfrS+WXLNXinBmlUQCWMaK67UaNGmRKfQtl///1thJuSS5l5GkHvZzeCXt++fcPby/2+oeCdGqSAmYKOK6po/rsXXnjBb745U4Wl0/6cgf26R7+ZNCWdZZMus7h8kR8OsCZaZdUujVcpeKVuyMyhQ4fZKy4dtGOHdla6uNSKO3a2ygXVNvq2G616/q9WUzbbBeBqrapVvk3+cYbtsMs2NsCN6XvvA8/Zpx9/4ibvjLjAXKG1cgG74nZtfWAu1z1u3aaVdWrfwQ3huLEN6tvfRrthK3+dMcsWLlzgU2EPdXO2dWrXwTYYsp4tdq8NH7Fx0ravjG98/PFEu/a6632qqwJqm2++mZ115hlJA0Irch9vd/PQ3X///XbE4UfYsccenfGm3Puv+9yHdYJ99NFHPutSw6vuueeedvVVV/xmWyuT228azwsIIIAAAggggAACCCCAAAIIIIAAAggggAACCDRS4F03UmI0WuungUq1qqbsynHTdG2yyaoVT0m1z9n+Xk6Pbh2iv0yb06x23nfvaJv0wyQfpdVcY5VuiMvCglYuM6zKZRK1cXVHrbBtK/vq++9syo/TXYQ+YuecfKS9+fzztkH/gTbdza9W0GE1W2/TDazErX/X7Y/b9FkzNIueWzffZeAVWoXL8sstyLO8gnwrc0G56opKN//bZrb3Hnva6HvvcfPf1bphNl3Az2UBnv2ns63EDWm44bAhVlW+2FoXJx6KsFk7zcpZJzB//vykw05mXWNpEAIIIIAAAggggAACCCCAAAIIIIAAAggggAACCCCQRCCvvGJhkrfSf/m5Z5+x77+fZL3d3HXKwMutVOAtat26dXEpte6xG95y1iwXuMvLt7XXW9tmu5TSrt26Wl5RK1sciVqPzt2tz/CN7I1P3rKOrdu5LL2F5mYG8+9Hq6I2380xVuiCeK4iq3D15bkMv3w3zOAnH39mn038zIqKi9xcex1txrSZtt022/mxWzt2dMNn5ue6ySWr0t8RllypBZLNGbdS7xSNRwABBBBAAAEEEEAAAQQQQAABBBBAAAEEEEAAgRYnkOemVGt22Xqrrf1wlq1d1puyoObNm2fV1TX24UcTbfr0mZabV2hlC0p9dlTVwgrr3KG9veXSNgdtsI4P6tXMr7WyikW2evfu1qGVq6OszGp8/l215UXckJmtW1tFZYXP7MvPz7faJY1uU1RoXbp2tfLKhVbrJmIcNHCQLV682Lq5YSVbuYBf6fxSK/KBv2bvIhUggAACCCCAAAIIIIAAAggggAACCCCAAAIIIIAAAgggsFwE8nIikWZvaNJPP1t+fp5FXOCurQvi/TT5F1u0cLGb8PAXN1xmKzdBYrUVFbay8oWLLM8NiVlYVGAbuLnuWpfk2a+/zrCuvdvZtHmzrUPbNj57blbpXFvNBeEiblxWc/9XuSE5lZEXyY24MVjdo2jEct1QmQvdNqZOnWY9e/e0XPf6V59/ausNWdemTf3JOnVc228zL6/5+9dsICpAAAEEEEAAAQQQQAABBBBAAAEEEEAAAQQQQAABBBBAIE2BvJqa5g8x+cmnn9lPLohXUJhnlW74zC5dulmfvv1cDl2OC77VmIJoFVVu6Mu8PFtY7jLwuq/m5sZzgb2y+dazU1dbGK2wjrUlbpjMiM0oW2jVbljNcjfnXb6LvUXcpImVWjc31w2dmeMCfO5W6+p0gcFyl5VX4ebC69Gttx168IHWq2c369evl1UuXmj5uQWWU1DoMvIq3LbS1GAxBBBAAAEEEEAAAQQQQAABBBBAAAEEEEAAAQQQQAABBFawQKS2pvljaK611touy67Sal22XF5+oS1YuNC+/eYbq3FDXebk5fqgnr93gbkKq7bVundzQbVCK2lVZHkLXaDOzWHXebX21sYtu3BRmUVdwC/XPdY8ehoaM9dl90XdfzU1ysirtRrdXFae3ou4DMLRd99nI0aMsH59e1uNG4qzoCDfqmoqrXqxC/xF8lYwMZtHAAEEEEAAAQQQQAABBBBAAAEEEEAAAQQQQAABBBBAIH2BiBuYMv2lkyw5YMAAy3UZctXVlS7mVmNVFRU2Z/YcK3Cv5VTXuqEw862mqtZyq3Osen7UBnRvZzk11VblNl1enGsdIq1tUcVcy3EZfIvnVllhbcRcZNGNnumGy3TL5Li4XcQF4qIuWFflXo+44TN1X5hfoBifmxPP7I233rIqd1/tVvBr5uZZrQsYRtwersgya9YcN//fghXZBLaNAAIIIIAAAggggAACCCCAAAIIIIAAAggggAACCCCwEgm4ESqV6da8svnmW1i3bt2stRurct1117WePXu6YF61u9X47DsfZctx2XQuuFftMuMKCwvdHHZ189kVFLggnIoPtOW4ee0W+ay6GuXcuQy+uv9cDe6x+8cvWqtUP/dY91F369unpz079hmXbZfr5+KrcAHEGhcgLHDbyVEEMAPFt2XJ9htT3aVXXmXPPPt8Y1ZhWQQQQAABBBBAAAEEEEAAAQQQQAABBBBAAAEEEEAAgRYs4HLUapq9+8OHD18SbDObNGmSzZ071w2RWeSz35SZpxS6HAXwaqutwg1r2bp1K/da3XPNi5fjgnfKBKx1AbLZs2f7ufJqo7U+QFffOPeegmhaRmE8Be/0WLdct/6D999vpfNLXcCw2j13898tCdxF3HCcmShHHXeCvfLqa5moijoQQAABBBBAAAEEEEAAAQQQQAABBBBAAAEEEEAAAQQQSCqQVxcOS/p+2m9st/0O9uhjj7r56aJ12XduvrpFi8tdRlyB5edqGEsF4GqtvFIZePm+3uqqaiv0j+qy8RSgmzVrth+OM+rqcTE+t1rEZ+Hl5MQMhemWcxE6H9DT6rm5+TZ75lybMX229e7VzQpb5VtlRaW7VfksPL+JZvzzwMOP2uJF5fbWO+9ap06dbNgGQ21xebn9d/yb9v33k2zAgP620w7buSbFtDFme4sWLbJHHnvCSkvn21Zbbm5rDV6z/t3Pv/jS3n3vfevatYttveWW1rZta/+eLMa/+ZZ9+eXXtt6QdW3jjTb0Lj/8+JN98eVXttuuO9fXER6oneutO8Te/+ADn8X4u112stlz5tiEN9+2nj2625ZbbFFfv2//fyfYpB9+tCHrrmNbbD4iVMM9AggggAACCCCAAAIIIIAAAggggAACCCCAAAIIIIDAChTIq2l+Ap5v/tFHHW1jxjzhH8+fX2YbDtvY3n//Ax/U0tCZIVDocuYs32Xd1RUXnHOxODcQpn+q+7nz3Fx4ucrGU8ivLkindaM+YOcW0wrudRUFzHTTMJyduqxmn3/+mQ3o31Mrugw9N0deqyK/XHP/UaBRpdY1SkHIqqoqO/+Cf9j06TNtAxfMu+fe+02BuDP+eHLCTb38yn98AG7KlCn2yn9et2uvutwNM9rd3hg/wW665Q5bf70h9tXXX9sjjz5h946+zQfqbrz1DnvLBd5GbLqx3X3vfW691+z8c/9s30/6wV5/47+/CeAp4PfM2HH275dftU033sg++niiveq2pezG4cM3tMfGPGnvf/iRr6PGZS9ecOHFPqC45pqDXBtuNwUZd9px+4Tt14tjx461f//73wnf32mnnWzPPfdM+B4vIoAAAggggAACCCCAAAIIIIAAAggggAACCCCAAAIINE4gL1nWWOOqMevbt6/tf8AB9uCDD7iAWqF1797dBbved5lri62olRsyM6JhNF22nOW7efAUmotYrg/kuWCdC4wpjphbm2MLFi60vMISF53TMjn1wb1U7amorLB27drZa6+9biP33tMqyhe5IFjm5r/7/eGHuGDbeNtis01dYHIDe/vd/9lPP/9id952o7V321Xw7qJLrvCBvfz8uuzC2PZuvfWWdvLxx/qXTv7jGfbOe/+z/XruZQ8/8rjtvNP2dsyRRzirqJ3553Nt4ief2cCBA2y8y+7781mn2/ANN7Bpv/5qf//HpVZWVmY7bLeNv8XWH/v41JOOd+sM8236+0WX1dfx1tvv2A033ea389FHH9sPP/5sd91+k7UrKfHZgRPeejtlAC8E6OKDeATvYvV5jAACCCCAAAIIIIAAAggggAACCCCAAAIIIIAAAgg0XyBPQ1Vmqpx4/An2+BNPuOBZjQumveaHcSxoVWi1SvNz24lEcn3G3OLFFVZdohS7iFVX1fjXFMTTYJmVlVWWW+iCdy7al3hASiXhKROu7qa257qMvfyCVvbmm29aTXXUCvJcwNAP25mpPVu6nm+//c46dezgg3d6Z+21BvsF3v/wYxuxyUZLL+yeKcgXypqDB7sg3Se2z957uOEt57rsu/X8W9rfa668zD+e+Mnn/n7Iumv7+9W7dbPbb7nBP27onzZt2vhFunTp7O9793IZia5o6E9l3mnuwK+++da/dvKpZ/p7ZRSmU+KDeATv0lFjGQQQQAABBBBAAAEEEEAAAQQQQAABBBBAAAEEEECgcQJ5tS4QlqnStWs3O+fPf7Ebb7rJFpQtsrzcXJ+VluuCU7GbKV9c6ebJcwNmuhcVPMp1y4VS4+bO07I+M3DJSomyBNXqqAtGuQWtJqfaairNvnVzw02ZOsXNg+eCVsmif2FDzbjv17ePvfjvV3z71bbS0lIfHGtd5AKHDZTZs2b5YFokEnGBvRKbNXt2/RqzZs2x1q2LXPt7+Nfmzptn3bp29Y+Vhdelc+elrOpXbOSDAs1L6DIFL7v4Qou44GdjSgjiaZ3Yx42pg2URQAABBBBAAAEEEEAAAQQQQAABBBBAAAEEEEAAAQSSC7jxK5O/2ZR3Djv0MNt7r72tlRs2U0NkRt38dzXuFskptIoKs9YlbljMaK5p9MzKmsXWoVNrN1ddrrVp295q8wutQ+eOLqhXaVUVbp1Inlu3yi1XY250TR+UUwbZAjeUpJ/ozsWeNF9eTY0LAubnWUn79qYA2bII3hW6YUHnzJ3nSTbZeLjPKhzz1FjTfH/3PfSo5bqA3KBBAxOSTZjwplt3rsu8+9S++uob22Sj4X65EZtuYi+9/IqbS2+GTfrhRzvhlNPsCxeE7NChvZ8j79HHxtiCBYvshZdetlNPP9v5Vfp6Pvm0LkMv4cbSeFHDcipw+s5779lqnTra1KlT7UW3jXSLAncE79LVYjkEEEAAAbOvwg8AAEAASURBVAQQQAABBBBAAAEEEEAAAQQQQAABBBBAoHECebn5/5/91rhVky997jnnmIaZ/LfLUsvJqQuw1VbkWH5hKxe4y3WBqAqfvdajZy8rLSu1woIiP7SjgnPt27ezefN+teLiIquqrrICF5ircdG7GhfE0xCc5eXltt8B+9ujjzxiq622mqur3Nq2KfHBrb1H7mEbDFs/ecOa8c52225tj4952ma4AOEpJxxnR/7+MLvn3vvt0cfHWElxWzv/vD/XzfWXYBut3DCifzjxj/6dgWsMcPPo1bVxz913s48nfmInn3aWf0/z4YX3jjz8cLvqn9fahLfe8dlyp5z0B5+d9/yLL9m4F160e+68LcGWkr8Um8XYv19f07x+9z/wsGv/k0vqPz75yryDAAIIIIAAAggggAACCCCAAAIIIIAAAggggAACCCCw3ARy2rbJj5YtcONPLoNywKgD7S0XgFJGXWGr1lZd67LxKsvtqMMPsG6rtbUOXTpYkRsysm3bdjZlyhT7Zep0e/vNj1ym2ldWUNjaZdXlukBftcuyK/DDZSqI98tPk+2Z58fZSSee4LPelOlX7bLJttl2O7vrtpuXwV78f5XKhisqKqwfxlJDgJaVLbCSkuL/XyjJI80/t2jRIitu2/Y3S8TXG7tA6fz51q6kJPYlH8yMHXZ0qTcb8aQx7W9EtSyKAAIIIIAAAggggAACCCCAAAIIIIAAAggggAACCCDQDIFIZBnOFffYo4/YPvvs7bLu8qyystIFnqqtsDDfZdu5oJybO67SDQmpae6UVVddXW3FrdtY7z4uK2/OHB+kqnYBu3yXvaZhOCO5OS4IWOCGx6xxw1B+bmecdYb99POPVllVYfvtu88yD97JuG1bF1SMma9P+5BO8E7raojNRMG7RPXqtVDig3d6PbYNYbmm3Dem/U2pn3UQQAABBBBAAAEEEEAAAQQQQAABBBBAAAEEEEAAAQQaLxCpdQG0ZVluuP46u+CCv7k57lq7rLpCmz5zhrVp08Y6duxgBW5euepql5mmyfFc6da1q/Xt1cOqayqtjcvMU2adRV3gLr/AP65yAb/Ve/Sw558bZ0OHrGed2newv59/vl1+6SXLcheoGwEEEEAAAQQQQAABBBBAAAEEEEAAAQQQQAABBBBAAIHlJpDTtq0bQrNs2QyhGbsX03791S69/Ep7duwYGz50bRu17+6W67LxamrNitsX28zpv1pNVY3NnbPQHnzwKfvh56nWup0bmjLHRRhdml5xcYkbirPK5pfOsxkzZ9l0t3yey4Dr2KFD7GZ4jAACCCCAAAIIIIAAAggggAACCCCAAAIIIIAAAggggMBKLZDTrqQwOq+0fLntxPfffW8ff/yuzZs12Ural1hxSXuL5EesrHSulc6db+VlVfbN95Ptltvusa69e1puXsQK8vN98K5L5y6280472UEHjrK1Bg9ebm1mQwgggAACCCCAAAIIIIAAAggggAACCCCAAAIIIIAAAggsL4Gc9u2LonPnLlpe21tqO9N/nWLz5s22eWWzbNaMqTbHZdaVzp7v5sgrtKefe8nKFi+2gYMH2gZDh9rmm21mm40YsdT6PEEAAQQQQAABBBBAAAEEEEAAAQQQQAABBBBAAAEEEEBgVRPIadfOZeDNW34ZeKsaIPuDAAIIIIAAAggggAACCCCAAAIIIIAAAggggAACCCCAQCYFItFodSbroy4EEEAAAQQQQAABBBBAAAEEEEAAAQQQQAABBBBAAAEEEGiGQKS2JtqM1VkVAQQQQAABBBBAAAEEEEAAAQQQQAABBBBAAAEEEEAAAQQyKRDJy8/PZH3UhQACCCCAAAIIIIAAAggggAACCCCAAAIIIIAAAggggAACzRCI5OUSwGuGH6sigAACCCCAAAIIIIAAAggggAACCCCAAAIIIIAAAgggkFGBiFlORiukMgQQQAABBBBAAAEEEEAAAQQQQAABBBBAAAEEEEAAAQQQaLpApKa2qulrsyYCCCCAAAIIIIAAAggggAACCCCAAAIIIIAAAggggAACCGRUINKrZ++MVkhlCCCAAAIIIIAAAggggAACCCCAAAIIIIAAAggggAACCCDQdIGcdm3zovPKyMJrOiFrIoAAAggggAACCCCAAAIIIIAAAggggAACCCCAAAIIIJA5gQgz4GUOk5oQQAABBBBAAAEEEEAAAQQQQAABBBBAAAEEEEAAAQQQaK5AJCc3v7l1sD4CCCCAAAIIIIAAAggggAACCCCAAAIIIIAAAggggAACCGRIIJJDCl6GKKkGAQQQQAABBBBAAAEEEEAAAQQQQAABBBBAAAEEEEAAgeYLRKK10ebXsorXUFlZabfffnv97e6777annnrK5syZ0+w9nzlzpq+3oqIiYV333XefffvttwnfW1EvNtTmFdWuxmx39OjR9sMPPzRmleW6bCb6VmyD0z1mL7zwgr355puxqy7zx7H7uiKPS7pGzQWZO3eu/8wvWrSowapWpEeDjXMLxB67dJbXMh9++KE9+eSTfvF0+1tVVZUtWLAg3U2kvVxT2q/KY9vz8ccf2xNPPJH2NuMXTNaGu+66y3788cf4xf3z5559zt55552E762ML6bbD1b0vr388sv23//+1zdjZWlzU8yacy5866236v9W0t9N+hsmU98pU6dO9XWHz4zOpdFodv8NO3HiRHv88cfrD0Noe/0LGXigvvjII49koCaqQAABBBBAAAEEEEAAAQQQQACBbBOIWE4k29qUde3RhfbLLrvM7r//fnv22WftgQcesNNPP92GDRtmY8aMaVZ7dUFKdSe7mH/NNdfYJ5980qxtZHrlhtqc6e0ti/ouuugi++qrr5ZF1c2u85xzzrE77rij2fXEVpDuMXv44YftxRdfjF11mT7W5+eYY46p38aKPC5TpkxJ+Vmsb2QzH8yYMcNvZ968eQ3WtCI9GmpcU/upAiAKTqmk0990gX777bf3gb+G2tSY9+P7XrrrxrdHgTQFKppSUhlefPHF9vXXXyes9v4H7rdXXnkl4Xsr44vp9INs2C8Fnp977jnflJWlzU1xa8658KWXXvLnN/2t9Mwzz5j+hjnkkENszz33TPp3Trpt/Omnn3zd+j7TD5s222wzH0xPd/0VsZzOD7feeqvfdFPPOQ21W33xpptuamgx3kcAAQQQQAABBBBAAAEEEEAAgZVQIM9NgrcSNnvFNPlvf/ub7bTTTn7j5eXldtxxx9mZZ55pG220kfXu3btJjRo6dKhNmjTJIpGVJ5C6Mra5SQdnBa2kC5PDhw/P6Naz9ZgpC7K6ujqj+0ply0cgE/30X//6V4ONVcDs559/bnC5xi7Q1L6XyfZkwrCx+52Ny6fTD7Kt3Stjm5eX4Zprrlkf6NQ233jjDTviiCPskksu8bemtqN169Z+1TZt2ti0adNs8eLFTa1qua2nvxN1U2nqOaehxq5Mfz82tC+8jwACCCCAAAIIIIAAAggggAACSwu4OfBWnsDR0k1fsc9atWplt9xyi29EGA5Ovwo/4YQTbP3117e+ffvajjvuaO+//74f6myrrbZaari5m2++2WceKQtsm222sdLSUl+Xhujafffdba211rJTTz3V0snS0Ypnn322XXrppbb33nv7be+8885LZe6pjQcddJB/T7+E/+CDD/zQU9qWfiWvojaonQ8++JB/rotj22233W8yX2LbrItoBxxwgK9X+612JMomPO200+yCCy7w9eofDUuqNr766qt+eVnKS/utjCzVq6Lht8LFLz3XkHJqo7KYPv/8c1/HGWec4deLHaZKy6o89thjfhnVq2OjYGkoGnZqiy228OseffTR9UP0JTuOWk+/dD/llFPspJNO8uttuummSw2fp+EB5aHtjRo1yv7zn//4zWmI1AsvvND3Db2nfdIwZfHln//8p+8zujgcvNSH1Be0ntqrNiQqel12hx9+uD8e++yzT/0we7HHTOsma2dsvW+//bY//omG5pL5bbfdVr/4008/7fuXXkjVjvoV3APZaIhIZZiqT4aS7LioXyXrJ6n6od7T8ZWf+qg+JxoCMVnRMdByuik7NpRU9aTqM1pfn3cdO9Wpx6F8+eWX3lh9Q+3T502ZvrGlKR4N9VO9r/b0decp2WsYSJWamhr/GVZbdFPmTKLgWaJ+mugcE7sfiR7/5S9/seuvv96/Ffqb2qS2hSxU9WcV9TltI9VnqaH99hW5fxL1vV9++cX+8Y9/+OC5jpOyHxMNbRzfHtWpofxOPPHE+s9oOKfqPbVJ5zbtl0zPO+8875zIUMvHFmXsKJiv9ZStlyhgkeqzqLqae6zVR3WuvvLKK33/1TlPn/fwOdG+KetKRZ9lnZ9j26n+pfdT9a3YflBbW+vttR3tu7z0g5nYov6q7cQOMarvikMPPdQvluqcqfXU10LRefaKK64IT5e6V8BFderY6XyqDLBQYtus5dQvdJx+97vf+b56/vnnh0WXutcQ3Nov1SnX8ePH17+f7mdI37Pqn7JVPdp2OI+qDfq+Dd/Dqfa3IetwjOPPhfUNTvPB1ltv7b/zHnzwQd8PtFqyYxT627XXXuv7m/bn73//u/97ZcCAAX6Lbdu29d+JeqJzpvxjS6gjnT6r9dQW/S0kS5179LlTSdVnk52v/Iox/zz66KP++yfROSdmsZR/6zT0PaGApm4UBBBAAAEEEEAAAQQQQAABBBBY9QTcHHg1q95eLac90kWkgQMH1s9RpwtqGvLszjvv9POR5Ofn+wtPG264oQ/W6KKnii6a3XPPPf4ini5M6gK5XlNw6dhjj7V11lnHdJGvMXOlKICgC9677rpr/XwruuilokCXLvJuvPHGvl2rrbaavyg5ffp069WrV/2QiZqnRm156aW6IRQnTJjgA2lqT2yJbfNVV13lLxRqWLHrrrvOB8wUNIsvMlBQKlxU1PBvstpkk03soYce8m1XkEV1BAeZyEAX1kPRBXW1UVlbukisOnQR909/+pO/2BeW072Cg7rQqYukuoitYKgugoeiofx08VZDfGnZMKxfsuOo9RTk1NBgulh2773/Ml1kPuuss3zwT8dAAY9OnTq5IOiD/jgq0Kd1dIFY8ybqoq6GutKFYL0XX7S+shd22203+8Mf/uADCArK6UKitqeLw9oHBXrji7Yj1/bt2/ugbM+ePe3II4/0fS/2mKVqZ6hTw34p4LvLLrvYgQceGF6uv9cQa7Nmzap/rm2Hi6ip2lG/gnugzFVdgNZnSBeKQ0l2XFL1k2T9UH1I/UrBNw1z+Kc/ne376I033hg295v7zz77zAcnf//73/t1ZNFQPan6jC4Gq32qTxeUQ7BMG1Z/Vn//3//+588JCv6qj8gglKZ46Bgk66fqO+pD2paC3t27d/fHWp8PBRC0ngKrCtwqUK6AZ3yJ76fJzjG//vpr/KpLPddxmT17tn9NwxIrsKFgz2GHHea3q8/3hX+/0L//xz/+0bbddtuUn6VU+x274UR9T+eC9957zx8jtUX9LVFgJ749qlefheLiYh98HTJkiKmt+syq/bJWcED7pdd1blDQJt4wtn3hsdqj9dW/9P2hoEZ8SfVZzMSxVh/VfqgtCtpvsMEGPkCkAIaC0drf4KTzu87PylIMRc/LyspS9q3YfnD55Zf7AIqCUDpXyi32xwKqV9vUtkKgRa/de++9/jtA7U11zlR7wveQ1lMf1y2+KMivc4fOneoLCmJ98cUX9YuFNuvHKMou03L63ChYpc+R3o8vIUisH2Rov3Su1w9C1Fca8xnSOVzbGjXqQP/dqXOEzqUjR470Vqr79ddf95tPtb8NWSc6F8bvU7rP1W9Ufvzhx5Tfa6G/6e+RG264wY9yoGOr5/qb6/vvv7eOHTv611Wf+mCPHj30sL6EOtLps/o7SOebfv36+f4kR42soP6d6nyY7HxV34glD3Re1d8oic45scum+ltH+5Pqe0Lf+bpREEAAAQQQQAABBBBAAAEEEEBg1RPIi1rOqrdXy3GPVl999fpAhi7iKXijX3Hrgqd+La6LQArk6WK5LgYdddRR/jVd8NUv+nUhLhQFkVR0sbagoMC6du3qf10e3m/oXvNEKeijou2FeVcUuNB8fbrgpKJ26WLS888/7zNDQkaIhrlSMEUXA3VBUb8YV3ZgYWGhXy/RP3l5eaaL9J9++qlvq/a3Q4cOv1l0r7328oEJZRPtu+++PmtN2YJFRUU+cHbwwQfXB4qqKqvs5FNO9oa/qSjBCxraVBdX44v2T/uj4KWKgkTvvvuu3zc9V0aeskdUtJ+6QKaS7Dj6N90/arMufGrYquLitv7CurLplNWooKICHjLQsJWDBw/2FysVQFRQTsdB5fDDj3CZJef6468ASijdunXzgQAFWfV6CDwqAKThwzbZZGMfpFPgJbQ9rBvu1X/atWtnchk7dqy/8Kk+Gcpbb72VtJ1aRvuhLDBdvFYAtKklUTt0zENRwKNz587eU8cplETHRf1RAdZk/SRZP9QFd90uueRSH6xWwFrD4CrIHPpF2G64VxbWeuut5z8j+uwoMKkLx6nqSdVnxo0b54PnCiqozJw5yx/7sD3dK7CjYLBuapvWUeaMSlM8tF6yfqo+1b9/f9tjjz20mJ188sk+iK/gr/q0+rACigreKnskNzfXLxf7T3w/1ech2TlG57x0io7hd9995y92K7ilYLU+Azk5dd9Rffr08Z+rVJ8lbSfZfusYhhLf93SMdf7V/KbKwFH55ptv/OdPn6PY0q9/P/80tEdPwjbVVp27dZ6bPHmyDzTohxX6rOocEfq5AkY656gd4bMeu43weP/99/fnSz3XMdF3yLnnnhvebvA+E8c6bOSvf/2rP8/qs6j9U4Bt8803931G7VqwYEFYNOF9un1L5yx9X4QfDugzuHDhwqXqVJ/cb7/9/I8iFGxR9pnO3/JSWxQ0acw5c6nKlzzRd7jq1Plcn0vNt6a644vOCwqSKZNUQSotp89vohKGOpw4caINGjTIDyepYKL2J9X3dKLPkM4PhxxysN9M+F7RDzZU9KMbZZXpM5SqNGSd6Fwoi6aU8D03ywXs3/vfe0mPkTJZVZSVrP3Qfuq7W58nlXA+0udPRRl6+swlKun0WRnonKcfT+nzqD6keWCfeOIJfyyTnQ+Tna8StUOvxZ9zki2X6vVk3xP6vteNggACCCCAAAIIIIAAAggggAACq55AnssHW/X2ajnukX5Rr6wRFWUd6AKLLujpgq6CeaHoYqQy0L7/7nv/K29dvO3SpctSATxdRF533XXrL0bpIntjflWtYGIoulgU5hbTr9B1QTQUBU00Z58CbwqmKZChC4oK4P31vL/64JmGWFT2hoJ7qYqGEVMGjbJEVNR+XWxTZkFsKSkp8RkCugCqLBoFB3VxWb9+VzuUHRjKxi5IpZIogyE2syMsHy7khefhPn5+KV1AVIZCKMpQC0UX0cMF6FTHUcvLOVyIDUGB2ppaH3yQawhg6kKjAqm6mKyLgLogGHthV31EAdxwYTO0JfZeF2FlGub+0XvKWlTANFFRgCBcyNM+KdCifhUbwFOQJFE7Q33qv+p3H330kc88C/sa3k90rwy12JKsHbHLJHuc6Lg01E+S9cNw0ffiiy/6zeZ0nENwKPbNsH0dP1kq+6GhelL1GXkrGBbK8OEbhof197EXxRWM1jELJbRHz0M/bchDyybrp9oXBSZiL+6rL+pHBbqIreOvjCdle6n/KIAVu6zqji+pzjHxyyZ7rmwrXXAPP0JQNrEyu8JnTOs19FnSMsn2W+8lKwpaq4RzuR7rnKRsOX125ZOqaJuhL+kYqajfKDNI51V9L6gendNVFARLp+iHFqEoOKSAaqJzYFhG97GfxUwe69APw1B9a6+9tt+shpOO365/Yck/clBR8L6hvqUsNn0fhICU1lP2dqKiIYrVT3XsFITRsdN3gbK2GnPOTHYswg86Yn8cEvs5DW0Ky2mboagt8+fPD0/r73WuV2BRGcDKHlS/UnBOWdyN/QyF46HK9RmJnYdXxyS2H9Q3wD0I+5vKOmQJh23Engtj62rM45BJ36tXT/cjhUcbPEb6TIWiPhf+ngmvpXMf2p+qz4Z2qT/FFn1npuqzyc5X+lsnEyXR5zy2/8V+TygjsTF/K2aifdSBAAIIIIAAAggggAACCCCAAALLR8DNgVeX3bB8NrdqbUUXDnXxTgEVXRTThTgNw/Taa6/5C5UKmoWLTvqVuC54PuouXCl7If5ikWR08VHDQ4X5uTSkki5Yp1uSBVp00VBDYYWiYeaUMaC2KkCh9muIKl043WbbbfyFa2Xv6YK+svpSFV380pB/ujCrddReZV4lKgpmaRgszVWkwIAuRoWL3Ro+LBQFE1V0sVv7pAuNoSQa6ky/hE9UVLfmjglFwTK1LZgm8mroOKqukAEQ6g33uogWO1yZLqAqe0Ovqegivtqjmy7WapjU+OFJQ13hXlmYsX1Cr8snBALCcuFeQcvQfzQvl46pjnNsSdbO0Ec0hJiCqwriqo2JiuwUkAhFAaXYkk47YpePfZzouDTUT5L1QwWrVTRkbbDX8HIKzCQ79yV6PVU9Os6pPvu6EBzbv3U844uyfUJRcDb2mDXFQ3Ul66eyVHAqeOhe2Y0K5ms4RmXmqS88+uhjPltXGU7hon9oY/x9qnNM/LKJnqvPKhNJQxUqaK3Pqc6Teh5bwsXxVJ+lZPsdW0/8Y52PVHQeC0VZXbJqKHin5ZNtU/1OfU0X+1W3+p5Kbe3/DzHpX0jyT2yGto6J2hPfP1N9FjN5rOP3Mb4dCjiEc3E4Z+s+nCfS6VsKPMlbc3aGouFGEw15q8+IAn2ab1C38J2azjlz8aL/P3fpHJmohB+GxH52lZUZX0JQRf0llBAAC8/Dvc7Jap+y3F995VXfZg0BqXN6Yz9DwTrUneh4hPcS7W861vF1hvqacq/PsgJqCsylc4wyse10+qx+aKU+p7/nwjlRgXL9mCBZn1W/Tud81RgnfY7D50brJfpbJ9n3hDL9Y3980JjtsiwCCCCAAAIIIIAAAggggAACCGS3QCRmqprsbmkWtE4XdzQflrLHNM/d0W6IQWUa6VfaIWiiX8Hrpot+unAbsg/UfF1g1HBqGpJSw/jFFw0VpYudGopLF280H1xs0RBvulDZ2KI54BQ40xxKqlcZACoK3KnofWUw6GKofsmvIeS0jxoeLVww9wsm+EcOGoJPQTFli+iCcWy2WOwqqk8XyrVfGqZKF+g09JX2WwGjd999z2coqk4tpwuoutinIKmG5lRGni6Ep1u2334HP9/Yc88+Z7pwqmH+NAxdql+qp3Mck21fmYUqygDR9nTxXkNRathGZROpP2j4Sr2nOft0S3SRUn7aZwXF1E/UJ5TVqICqnBQI2HLLLZM1wxvpOGtuP12YDBeYwwrJ2hnmEVJQVwFnHdeLL77YtyWsG+51XJRZpACDLlxrvrT4omOVqh1aXpmiWiY24yy+Hj1vqJ8k64fKilGfVDaZsl8VTNUwnApYN6akqqehPqPhE/X5U0BKcx8m2rYyiWSpoVEV/Nxhhx1SNq8hj1QrKxtQAWRtS1mn2raGrNRnePz4CX4+PJ2/hgxZ1wfwdL5qqJ82dI5J1R69p+CPMoEvu+wyf35UgFF9V9sOAUz1e7W3MZ+lVNuN7XvKZtF5QZ9dHSMFjXSu1bkpvsS2J1GWVezy6hvaD83ZpqL9U6msrMtKi/2s+zfi/tHnXUNv6vyneUY1l158SfVZzNSxjt9msufKKlfRMLA6z+m8FUq6fWu77bbz8zDqBwTKINTchPFDaIY6ldmuH4So72qIYpWGzpn6bhn77FjfPh3j2MBbqFf3Ogfq3HHLLbf4z6YyqEO2XexyCrzpxznKFtXnXPucaDmtM2f2HDd88uH+fNmjZw8/zLJeVzCtuZ8h1ZOopNrfxljH1v36668nHE40LKPjpb+V1G9lrPleZRO+8xo6RqGeVPchq06Bt3AOTrV8svd0ftZ3rI6ffjSldupHLBpuO1mfVV3JzlfJtqPXY8858cul87dOsu8J/Z0ZH9CNr5/nCCCAAAIIIIAAAggggAACCCCwcgpEGEKz4QMXLl4rCKALhsq20Xw1usge5ojSBThdnNIFV80xd+ihh/rhGnVhKGRRhPm/NIxj+GV4qFut0AVDXfzTPEy6gK2LX7HBJl1wHz16dNIGx9YV+1hzbylooTmLVK/mulLAI2RxhbnUwtxP4aJ17LB/sRuNrVtzpOmCtub90S/Atb9hOM3YdfRY6ylwpxLu9fjKK6/02QejRh1g2++wvb9IL1ctr4v1avNBBx1kI0aMWCozKbYdqie+HHjgKDvssMP8kKAafk5ZWgpIJSuqL53jGLt+bBsUzFVwVEOlanu61/Y0pKYyivQreR2H0BYFarW9+LL11lvbv//9bz+coQILWld1yVdzEin7KNYvdn0FC2QnMw2Bqn6qC7jptjO2Lm1HfSTRXHHHHXeczy7VcVdgehs3JGxsSdaO2GX0WO1UBoyCiuo7iUpoe6p+kqwfylfZZQr+qm+pb2ufNL9SshK2F97X81T1NNRn1Ac1R57mstOxDZ/9UL/udY6QpYar1L6Ez2TsMuFxaF8qj7BsuA/r6LnOTb///e/9+UqBSZ1vFFhS/9VnRsdSF7AVlFBgX+ekELQK9ek+tp82dI6JXS/RYwUkL7nkEh84U7BLwQwFqUM/1wV/BeAVTGnMZyl2v+O3G9v3dEx0TlTml/ZLx0yfN2XQJiqx7Un0fnhN5y0NJ6xtyVMBZJmHrK5Yw7BO7L3O//phhOrRUJIaajG+pPosZupYa5vBMtyHdoTnutePV9S3dKx0nlPWoLKu9F66fUufTf3oQXPEqg+sscYadvzxx4fNLXUfAppaNvxwpKFzpr6fdH5V+9Tv9b0X9iG2cvVJ/QBDAXV9NpVpHj80dFhefxtUVlb6QLgy8PVZ0vrxZcAaA0wZrdpHfR9oXtpTTjnFP27sZyi+zcmep9rfhqyT1amhsHVeTVb0Xau/ldRvNbyxguL6vgtDeTd0jFRv7LYTBad0Htd3m7ahH8YkKqGOcB+WCc91r7+7rr76ah901o+YdBz0+Ve9yfqszvmpzldhO7oP29Lj2HNO/Pddqr91tK5Ksu+Jho5H3dr8iwACCCCAAAIIIIAAAggggAACK6NATsd2baOz55WtjG3PyjZrqDllTGiIqNgLN41prIbkC3XErqeLocpq0q+wm1J0gVFZEWpbpot+ua79DfO/JatfAShlMirQGV+UzaJ9jw1ahmVUvy6ahYu04fV07vXrdGUEaOjIdEtzjqP2QVllurgYX5RBpGyBhpw0PJeCCspAUlGdCnSpzkTBFC2jfqF5lXRxWttv6DinaqfqS6coMKasm9igVGPboX6poWbTPbYN9ZNk/VB9SIFF3ZpTktXTUJ8JwwnGHnsNtafAvuYb1Pp6L9YynXam8ki1vvqh5q9M1E/V/zTUrrJCUpX4fpqJc4wuUssh/jhpP5V1E3zS/Sylan+ivqfPjrJQw2cv2frx7Um2nF7XeVf1Jerj8Ybx9Wg/9flIdF6MXTbRZzG8n4ljHepK5177pPNubF8P66Xbt+Src13sHIihjnCvz6KCLvpxS+x8gXo/1TkzfFYT9f1Qd+y9+oSGWgx9L/Y9HR8NH62MfH3HKJtU2YBqT7IfCmj76ufK3ouvMxOfodj26XFD+5uOdXydmXie6hilU7/Wl39DIwWkU5eOm75j9b0Z/x2bqs8mO18l22aic07sson+1snE90TsNniMAAIIIIAAAggggAACCCCAAAIrj0BO966dolN+nbXytLgFt1S/8lcGkTIxVraiAIWGWVR2mOZV09BdlMwKhMCZMu9WZMmWdqxIg3S3HXthNlGwI916WA6BliagIYI11LOKhhddkUUZgCrKWtfQny+++KJvk7ItKQg0V4DvieYKsj4CCCCAAAIIIIAAAggggAACK6+AG5kof+VtfQtruYbbWlmLsk80h9sll1xK8G4ZHcR11lmnWXMBZapZ2dKOTO3PsqxH2Ysa5lDZpRQEEEhfQBl+gwYNSjisaPq1ZGZJzZ04btw4P2+ahnbU0LME7zJjSy3ms9z5nqAnIIAAAggggAACCCCAAAIIINAyBXJ6de8c/XnKjJa59+w1AggggAACCCCAAAIIIIAAAggggAACCCCAAAIIIIAAAlkmEKmtiWZZk2gOAggggAACCCCAAAIIIIAAAggggAACCCCAAAIIIIAAAi1XIBKJ5LTcvWfPEUAAAQQQQAABBBBAAAEEEEAAAQQQQAABBBBAAAEEEMgygUhR69ZZ1iSagwACCCCAAAIIIIAAAggggAACCCCAAAIIIIAAAggggEDLFYhEWu6+s+cIIIAAAggggAACCCCAAAIIIIAAAggggAACCCCAAAIIZJ1AZO680qxrFA1CAAEEEEAAAQQQQAABBBBAAAEEEEAAAQQQQAABBBBAoKUKRGpqqlvqvrPfCCCAAAIIIIAAAggggAACCCCAAAIIIIAAAggggAACCGSdQMRycrKuUTQIAQQQQAABBBBAAAEEEEAAAQQQQAABBBBAAAEEEEAAgZYqEInWkoHXUg8++40AAggggAACCCCAAAIIIIAAAggggAACCCCAAAIIIJB9ApFo9rWJFiGAAAIIIIAAAggggAACCCCAAAIIIIAAAggggAACCCDQYgUi+bmFLXbn2XEEEEAAAQQQQAABBBBAAAEEEEAAAQQQQAABBBBAAAEEsk0gkl+Yn21toj0IIIAAAggggAACCCCAAAIIIIAAAggggAACCCCAAAIItFiBSE5OTovdeXYcAQQQQAABBBBAAAEEEEAAAQQQQAABBBBAAAEEEEAAgWwTiFRVVWdbm2gPAggggAACCCCAAAIIIIAAAggggAACCCCAAAIIIIAAAi1WIBKNRlvszrPjCCCAAAIIIIAAAggggAACCCCAAAIIIIAAAggggAACCGSbQITwXbYdEtqDAAIIIIAAAggggAACCCCAAAIIIIAAAggggAACCCDQkgXcHHgteffZdwQQQAABBBBAAAEEEEAAAQQQQAABBBBAAAEEEEAAAQSyS4AMvOw6HrQGAQQQQAABBBBAAAEEEEAAAQQQQAABBBBAAAEEEECghQtEampqWjgBu48AAggggAACCCCAAAIIIIAAAggggAACCCCAAAIIIIBA9ghEqmsqs6c1tAQBBBBAAAEEEEAAAQQQQAABBBBAAAEEEEAAAQQQQACBFi7AEJotvAOw+wgggAACCCCAAAIIIIAAAggggAACCCCAAAIIIIAAAtklEKmJMoRmdh0SWoMAAggggAACCCCAAAIIIIAAAggggAACCCCAAAIIINCSBSJWG23J+8++I4AAAggggAACCCCAAAIIIIAAAggggAACCCCAAAIIIJBVApGqGjLwsuqI0BgEEEAAAQQQQAABBBBAAAEEEEAAAQQQQAABBBBAAIEWLRBp0XvPziOAAAIIIIAAAggggAACCCCAAAIIIIAAAggggAACCCCQZQKRgty8LGsSzUEAAQQQQAABBBBAAAEEEEAAAQQQQAABBBBAAAEEEECg5QpEciO5LXfv2XMEEEAAAQQQQAABBBBAAAEEEEAAAQQQQAABBBBAAAEEskwgYsyBl2WHhOYggAACCCCAAAIIIIAAAggggAACCCCAAAIIIIAAAgi0ZIFINBptyfvPviOAAAIIIIAAAggggAACCCCAAAIIIIAAAggggAACCCCQVQKRaA0BvKw6IjQGAQQQQAABBBBAAAEEEEAAAQQQQAABBBBAAAEEEECgRQtEciItev/ZeQQQQAABBBBAAAEEEEAAAQQQQAABBBBAAAEEEEAAAQSySiCSk1XNoTEIIIAAAggggAACCCCAAAIIIIAAAggggAACCCCAAAIItGyBSA4peC27B7D3CCCAAAIIIIAAAggggAACCCCAAAIIIIAAAggggAACWSUQcSWrGkRjEEAAAQQQQAABBBBAAAEEEEAAAQQQQAABBBBAAAEEEGjJAi56xyCaLbkDsO8IIIAAAggggAACCCCAAAIIIIAAAggggAACCCCAAALZJRCJRqPZ1SJagwACCCCAAAIIIIAAAggggAACCCCAAAIIIIAAAggggEALFnBz4JGB14KPP7uOAAIIIIAAAggggAACCCCAAAIIIIAAAggggAACCCCQZQKRqJGBl2XHhOYggAACCCCAAAIIIIAAAggggAACCCCAAAIIIIAAAgi0YAE3Bx4FAQQQQAABBBBAAAEEEEAAAQQQQAABBBBAAAEEEEAAAQSyRSBSG63JlrbQDgQQQAABBBBAAAEEEEAAAQQQQAABBBBAAAEEEEAAAQRavEAkWksAr8X3AgAQQAABBBBAAAEEEEAAAQQQQAABBBBAAAEEEEAAAQSyRiBSXcMceFlzNGgIAggggAACCCCAAAIIIIAAAggggAACCCCAAAIIIIBAixeIRHNzWjwCAAgggAACCCCAAAIIIIAAAggggAACCCCAAAIIIIAAAghki0AkEiGAly0Hg3YggAACCCCAAAIIIIAAAggggAACCCCAAAIIIIAAAgggEMnJIYBHN0AAAQQQQAABBBBAAAEEEEAAAQQQQAABBBBAAAEEEEAgWwQiUabAy5ZjQTsQQAABBBBAAAEEEEAAAQQQQAABBBBAAAEEEEAAAQQQsIgZETz6AQIIIIAAAggggAACCCCAAAIIIIAAAggggAACCCCAAALZIuACeAyhmS0Hg3YggAACCCCAAAIIIIAAAggggAACCCCAAAIIIIAAAgggEMnNzUUBAQQQQAABBBBAAAEEEEAAAQQQQAABBBBAAAEEEEAAAQSyRCCSQwJelhwKmoEAAggggAACCCCAAAIIIIAAAggggAACCCCAAAIIIICAWSQarcUBAQQQQAABBBBAAAEEEEAAAQQQQAABBBBAAAEEEEAAAQSyRCBSUxPNkqbQDAQQQAABBBBAAAEEEEAAAQQQQAABBBBAAAEEEEAAAQQQcHPgMYYm3QABBBBAAAEEEEAAAQQQQAABBBBAAAEEEEAAAQQQQACBbBFwc+DlZktbaAcCCCCAAAIIIIAAAggggAACCCCAAAIIIIAAAggggAACLV7ABfAiLR4BAAQQQAABBBBAAAEEEEAAAQQQQAABBBBAAAEEEEAAAQSyRSCSY8yBly0Hg3YggAACCCCAAAIIIIAAAggggAACCCCAAAIIIIAAAggg4NLvmAOPboAAAggggAACCCCAAAIIIIAAAggggAACCCCAAAIIIIBAtghEjCE0s+VY0A4EEEAAAQQQQAABBBBAAAEEEEAAAQQQQAABBBBAAAEELMIAmvQCBBBAAAEEEEAAAQQQQAABBBBAAAEEEEAAAQQQQAABBLJHIFJbW509rVkJWlJbW7sStHLVbmImj0Em61q11Vfc3nGMVpw9W0YAAQQQQAABBBBAAAEEEEAAAQQQQAABBBBYMQJ5ZuTgpUM/v2yBzS9baOXlFVZZWZnOKiyzjAQKCgqsVatCKylu425tm7QVjmeT2FbISpk43iuk4WwUAQQQQAABBBBAAAEEEEAAAQQQQAABBBBAAIEmCuTl5OQ0cdWWs9qiRYttxsw51qlDO+verbNFIpGWs/NZuKfKyCotLfPHJC8311q3LmpUKzmejeJa4Qs393iv8B2gAQgggAACCCCAAAIIIIAAAggggAACCCCAAAIINFLAZeARjEplFo1Gbc68+T5418EF8CgrXkAB1HAsdGwaE8DjeK7449fYFjTneDd2WyyPAAIIIIAAAggggAACCCCAAAIIIIAAAggggEA2CEQsypxuqQ6EAj7z55dZu3bFqRbjvRUgoGOiY9OYwvFsjFZ2LduU451de0BrEEAAAQQQQAABBBBAAAEEEEAAAQQQQAABBBBIT8Cl3zEHXiqqMFxmuE+1LO8tX4GmHJOwTrhfvi1ma80R4Jg1R491EUAAAQQQQAABBBBAAAEEEEAAAQQQQAABBFYmAcbPXJmOFm1FAAEEEEAAAQQQQAABBBBAAAEEEEAAAQQQQAABBBBY5QUI4K3yh5gdRAABBBBAAAEEEEAAAQQQQAABBBBAAAEEEEAAAQQQWJkE3Bx4K1NzaSsCCCCAAAIIIIAAAggggAACCCCAAAIIIIAAAggggAACq7YAGXir9vFl7xBAAAEEEEAAAQQQQAABBBBAAAEEEEAAAQQQQAABBFYygYjV1KxkTaa5CCCAAAIIIIAAAggggAACCCCAAAIIIIAAAggggAACCKy6AhHLyVl19449QwABBBBAAAEEEEAAAQQQQAABBBBAAAEEEEAAAQQQQGAlE4jk5OauZE2muQhkp8Do0aOzs2G0CgEEEEAAAQQQQAABBBBAAAEEEEAAAQQQQAABBFYqgUhODtPgregjtqwCP9Fo1Kqqqupver4siraxrOpeFu1dVnU+8sgjlqljWeOGto09duHxyupMH1lWvY56EUAAAQQQQAABBBBAAAEEEEAAAQQQQAABBFZFgbzaaO2quF8rzT4p4KPAz9FHH53xNr/2xni79fa76utt07rI1hw0yI456gjr3Hm1+teb82DGzJl20qln+jp33nH75lS1SqyrY6nS3ON5yuln2cyZs39jcsk//maDBq7xm9ez+QUFIw8+/Gjbf9+RdsB+I7O5qbQNAQQQQAABBBBAAAEEEEAAAQQQQAABBBBAAIGsEMirsWWTlZUVe5fljQjBu2XdTAVNOnXqZGVlC2z8m2/aeRdcaNdfc5UVtWq1rDe9ytW/4447NrhPmQri9evb23bacYeltteta9elnvMEAQQQQAABBBBAAAEEEEAAAQQQQAABBBBAAAEEVj2BvFVvl1aOPYoP3o0dO9aGDBliffv2tZycnIzuxEbDN7S+fXr7Ont0X92uuPpa+/zzL2z4hsP80JePPfGkvfPue7a4vNyGujYcdsjB1rZta7/8g488bosWLrRBg9awp5951hYvLrdhwzawIw49yAoLC5dq548//mSj773PdtlpR9t8s03r37tj9L02b+48O/us0+pfW9UfZCKIp6DrDtttk5DqB2f95NNj7YsvvnTZlJ1txCYb21577la/7NXX3mBrDV7T5pXOt9ffeMO23mpL69Shg731zrv257PO9Me3trbWLrr0CuvapYsdf1xdBujX33xrDzz0iB00an9bc81Bdt8DD9mHH35spfPnW/9+/ezIIw61Pr17+e088eQzNm36dBs2dD177IkxVlxcYhdfeL4pK/PBhx+zzz773Lq4ug89eFTG+3T9jvIAAQQQQAABBBBAAAEEEEAAAQQQQAABBBBAAIFVUCASscwGi1ZBo4zvUnzwThu48cYb7bjjjrODDz7Y7rnnHistLc34djUP2fgJb1peXp6tvdZgX/+/7n/Inh47znr06GGbbLyR/e/9D+zqa683BXdUfvnlF5vw1tt2x133Wvfu3f3tlVdfs+tvvPU38971cUHCWbNn27gXXvLr6p+5LnD36n9et65dO9e/1lIeKIinY93UUl1V7QNnCp7ptmjRIl/VjBkz7ZLLr7TPv/jC1ltviOXm5toDDz9qjz7+ZP2mJk36wR3XZ+3ZZ8dZr569LD8v3wXTOttXX39rn37+uV/uq6+/sc8+/9Je/+8EF5hd7F/73wcf2rfffm+9evW0J8Y8Za+8+roNHTrEttpyc/vp55/ssiuutoqKCr/s1KlT7QO3/M233WmtW7exkpJiK3dB4Muvusb1ow9tsAsgKstTAWM32WZ923iAAAIIIIAAAggggAACCCCAAAIIIIAAAggggAACqQXIwEvtk/F3EwXvYjcya9Yse+ihh1zg5Vkf0Ntll11i327S4xtvvtUKCgptxowZNt8No7nHbru6gEtr93ymD7btO3JPO/CA/Xzdw9bfwC6+7ApTJpYyuFQWLVpsp596om02oi6r7pHHnrAxT421b779zjp0aO+X0T/KHNxum61dNtZT9osL7vR0Ab/X/zveB/p23mnpoSDrV1rFHzQnE+/jTz61Y/5wcr2Q5r7THHjyr3LBvcsuvtC6r97Nv3+TC6I98eTTtvNO21v7du38a6WlZXbFpf+wfn37+OeVlZWuHxT4zLgRm2xkH7jMuk6dOticOfPs44mf2ohNN3aZmV/aGmsMsOK2bW2/ffa2TV1mX8i469+/v93qtvP1N9/bekPW9nUuXLjIDnfZmOpTKi+9/KpNnjxlqf6iLE5lb1IQQAABBBBAAAEEEEAAAQQQQAABBBBAAAEEEEAgPYFIDhl46Ukt56XKysrsn//8p912223N3rKy6WbOmumDdyf84RgfcFGlX33zja/78y++ckG7K/1t7HPj/GvffT/J3+ufdu2K64N3er7rLjvpzmKX8S+4f3bcflufEfaf/7zhX5rw5ls2ZN21jbnbglD69926dbHdf7dL/W2LzUf4leU+ZN116oN3enG3nevm5vvyq7pjqtcUuAvBOz1X8G6dtQfbF19+qaf2yaef2uYuKNu3Ty/76OOJfgjVH3740YatP9S/r37zn9ffsDPOPsf+eMaf7L333vevz5kz29/rH2X/bb/t1vXPv3Vta9+uZKn+stuudf2lfiEeIIAAAggggAACCCCAAAIIIIAAAggggAACCCCAQEoBMvBS8mT+zaOPrptrLGRmNbSFMWPq5hY7xM1L19Tyx1NOMpcGZ3/5699tosvq2m6brXxVpfPL/L3mxVNwJxQ9D5ldek3ZWLGldVGR5brBVxVkjC/t27e3YRsMdcNuvmUKOP3ssrH233ff+MVazPMDDzzQwjFv7E73dMOaHnHYb4/7ggULrKS4eKnqNP+cSpkbajOUrl27hIf198M2WN9G33Ofab7Cn37+xY76/eGWn5/v5skb7+dFrHFBu+HDh/nlb7r1DnvfDZG5resvvVxbJn76mX+9bnDVuipLStr6bM6wgYWubW3btglP/X0bl+2p/kJBAAEEEEAAAQQQQAABBBBAAAEEEEAAAQQQQACB9ATyyMBLDyqTS4WATmwQb+TIkW6+uLl+7rvJkyebhtIM5b77/mUbuMDL2mvXDVsYXm/MfV+XjaVMqLHPvWBbbbGZbThsAxvkhkpUGdC/n+24w3b+sQI4U36ZYr179/LP9c/UadPdMItzrWPHDv61z7/40rTcADekYqKy847b+znQbrntDrdOe9t4o7qAUKJlV+XXmhO8S+XS3x2vL7/6ys9TGFkSGFNgVmXQoIGpVnXHvS6Ad/9Dj1ibNkU2eM1BVuDmx9OQqC+89LJ17tzJerv571SUlbfR8A3tmCOP8M87d+7sj6t/kuSf/v362ocfTbQ5ri937FDXXz77/AvfX5KswssIIIAAAggggAACCCCAAAIIIIAAAggggAACCCAQJ5AXjcbm08S9y9NlJhAfxDvxxBOX2tb3331v4yeMt7Fjx/pMt5tvvtl0a04Ztf++9u7/3rc7777XBQPXMgVbevXsbk889bQPBvXp09vGPf+SfegCN9dceamFDC4NpXjplVfbgfvvZ+Xl5Xbfgw/5wNxagwfbosULf9Ok9Yas64bM7OIzvDSPWggy/WbBVfiFZRW8E9m2W29l1990q11z3U2204472PQZ0+3+Bx/2gdgwX10y2s6rreYCdD3c8Jmf22ZuzjvNW9h/QD9r377EvxYCuVpf8xv+9PPP9uuv0628osLue+DBZNXWv77xRsPt6bHj7NIr6vrL4sWL3XoP1b/PAwQQQAABBBBAAAEEEEAAAQQQQAABBBBAAAEEEGhYwA2hydB2DTMtmyXig3ixWxngsuN0U2be7bffbq+88oopqKfXmlo0TOaxRx3l5rq7wgV8HrHjjv69/e28v9hV19xgo++9342yGbXVVutop558fH3wTtvq5QI+Gs7xyn9e55dZvVtXO+v0U91Qia0TBvAUFFIgZ9wLL7nMvm2b2tysXO/ll19O2q4dd6ybh25ZBu+08c0329QWLFxoj4950gdkNQ/dWoMH2RmnneIDckkbuOSN9YcO9UObKgtTRcdrqHvtDTeM5vAlr+n13x92qF17w012yul/sry8PNt9t11tyjPP6q2kRQHE00450e4YfbddcfW1fo68kXvt4frCi0nX4Q0EEEAAAQQQQAABBBBAAAEEEEAAAQQQQAABBBBYWiCnQ7u20TnzfjuX2dKLtexnX3z1na09eI1lhjB69OgG50l7+umnbfbs2Q0u19RGLliwyBYuXLBU4E51KQgzdepUu/6aq3wm4GKXgdfFDaXYUDnj7HOsW5eudvZZpzW0aLPeb8qxaco66TRSAbxlHbyLb8fUab/6TLmiVq3i38rI8zCkateuXa2w8P/nSUyn8qlTp/lhV1tlsG3L6tilsz8sgwACCCCAAAIIIIAAAggggAACCCCAAAIIIIDA8hKIRGuqlte22E4SgZCJl+Rt//Lee+/t5jcblGqRZr2nbLowZGayioqLi9MK3mkOtMmTp9jOO22frKpV8vXlHbwTYvfVu9myCt6p/lw3x57mQ2xs8M63rfvqlsngneqkIIAAAggggAACCCCAAAIIIIAAAggggAACCCDQEgQiVZUE8FaWA73llluuFE0d+9w469ati2kuvJZU0gnEtiQP9hUBBBBAAAEEEEAAAQQQQAABBBBAAAEEEEAAAQSaJpAXra1t2pqs1SIEzjrjj+YmvmvUvp5/7p/9vGqaW42CAAIIIIAAAggggAACCCCAAAIIIIAAAggggAACCCDQOIE8QiyNA2tpS2sIxcaW3Nzcxq7C8ggggAACCCCAAAIIIIAAAggggAACCCCAAAIIIIAAAksEIrmRPDAQQAABBBBAAAEEEEAAAQQQQAABBBBAAAEEEEAAAQQQQCBLBCLRKENoZsmxoBkIIIAAAggggAACCCCAAAIIIIAAAggggAACCCCAAAIIWKSWAB7dAAEEEEAAAQQQQAABBBBAAAEEEEAAAQQQQAABBBBAAIGsEYgYk+BlzcGgIQgggAACCCCAAAIIIIAAAggggAACCCCAAAIIIIAAAghE8vJyUUghUFtbN8RouE+xKG8tZ4GmHJOwTrhfzk1mc80Q4Jg1A49VEUAAAQQQQAABBBBAAAEEEEAAAQQQQAABBFYqgUivHn1WqgYv78bm5ORYSUmxlZaWLe9Ns70GBHRMdGwaUziejdHKrmWbcryzaw9oDQIIIIAAAggggAACCCCAAAIIIIAAAggggAAC6QlEfv5pUnpLttClFPDp2L7EZs8ttbnuRhbQiu8IOgY6FjomOjaNKRzPxmhlx7LNOd7ZsQe0AgEEEEAAAQQQQAABBBBAAAEEEEAAAQQQQACBxgnkdGidH52zsLJxa7XApeeXLbD5ZQutvLzCKivxWpFdoKCgwFq1KrSS4jbu1rZJTeF4NolthayUieO9QhrORhFAAAEEEEAAAQQQQAABBBBAAAEEEEAAAQQQaKJATqeSouis0kVNXJ3VEEAAAQQQQAABBBBAAAEEEEAAAQQQQAABBBBAAAEEEEAgkwIRy8lkddSFAAIIIIAAAggggAACCCCAAAIIIIAAAggggAACCCCAAALNEYjk5uY1Z33WRQABBBBAAAEEEEAAAQQQQAABBBBAAAEEEEAAAQQQQACBDAoQwMsgJlUhgAACCCCAAAIIIIAAAggggAACCCCAAAIIIIAAAggg0FyBiIvgNbcO1kcAAQQQQAABBBBAAAEEEEAAAQQQQAABBBBAAAEEEEAAgQwJMAdehiCpBgEEEEAAAQQQQAABBBBAAAEEEEAAAQQQQAABBBBAAIFMCESqa2oyUQ91IIAAAggggAACCCCAAAIIIIB9H+i+AAAyoklEQVQAAggggAACCCCAAAIIIIBABgQiNdXVGaiGKhBAAAEEEEAAAQQQQAABBBBAAAEEEEAAAQQQQAABBBBAIBMCEYvkZKIe6kAAAQQQQAABBBBAAAEEEEAAAQQQQAABBBBAAAEEEEAAgQwIRDJQB1UggAACCCCAAAIIIIAAAggggAACCCCAAAIIIIAAAggggECGBCK1VpuhqqgGAQQQQAABBBBAAAEEEEAAAQQQQAABBBBAAAEEEEAAAQSaKxCJ1hLAay4i6yOAAAIIIIAAAggggAACCCCAAAIIIIAAAggggAACCCCQKYGIRaOZqot6EEAAAQQQQAABBBBAAAEEEEAAAQQQQAABBBBAAAEEEECgmQJuDjwCeM00ZHUEEEAAAQQQQAABBBBAAAEEEEAAAQQQQAABBBBAAAEEMiYQybGcjFVGRQgggAACCCCAAAIIIIAAAggggAACCCCAAAIIIIAAAggg0DwBl4FHQQABBBBAAAEEEEAAAQQQQAABBBBAAAEEEEAAAQQQQACBbBGI5OQQw8uWg0E7EEAAAQQQQAABBBBAAAEEEEAAAQQQQAABBBBAAAEEEIgwBR6dAAEEEEAAAQQQQAABBBBAAAEEEEAAAQQQQAABBBBAAIHsEYhYTjR7WkNLEEAAAQQQQAABBBBAAAEEEEAAAQQQQAABBBBAAAEEEGjhApFotLaFE7D7CCCAAAIIIIAAAggggAACCCCAAAIIIIAAAggggAACCGSPABPgZc+xoCUIIIAAAggggAACCCCAAAIIIIAAAv/X3rn9SJYc9znrXn2ZO2dnd7kkRZEWRcmyCcGALxBoW34wBAN+9F/qJ8EPhiATsAEtbFK0QdOUuCSXS+7cuqevdff3RVbt2tabnxro3+mprqpz8mRGfhEZEZnnnJ4QCIEQCIEQCIEQCIEQaMNd/hO8mEEIhEAIhEAIhEAIhEAIhEAIhEAIhEAIhEAIhEAIhEAIhEAIhEAI3BkCw8FgdGeEiSAhEAIhEAIhEAIhEAIhEAIhEAIhEAIhEAIhEAIhEAIhEAIhEAIhcN8JDNvgviNI/0MgBEIgBEIgBEIgBEIgBEIgBEIgBEIgBEIgBEIgBEIgBEIgBELg7hDgCbxcwbs76ogkIRACIRACIRACIRACIRACIRACIRACIRACIRACIRACIRACIRAC953AcLvd3XcG6X8IhEAIhEAIhEAIhEAIhEAIhEAIhEAIhEAIhEAIhEAIhEAIhEAI3BkCw+0uF/DujDYiSAiEQAiEQAiEQAiEQAiEQAiEQAiEQAiEQAiEQAiEQAiEQAiEwL0nMGy77b2HEAAhEAIhEAIhEAIhEAIhEAIhEAIhEAIhEAIhEAIhEAIhEAIhEAIhcFcIDFvL/4F3V5QROUIgBEIgBEIgBEIgBEIgBEIgBEIgBEIgBEIgBEIgBEIgBEIgBEJgmOt3MYIQCIEQCIEQCIEQCIEQCIEQCIEQCIEQCIEQCIEQCIEQCIEQCIEQuDsEhsPB6O5IE0lCIARCIARCIARCIARCIARCIARCIARCIARCIARCIARCIARCIARC4J4T4Am8/AnNe24D6X4IhEAIhEAIhEAIhEAIhEAIhEAIhEAIhEAIhEAIhEAIhEAIhMAdIsATePw3eNlCIARCIARCIARCIARCIARCIARCIARCIARCIARCIARCIARCIARCIATuBIHhbre9E4JEiBAIgRAIgRAIgRAIgRAIgRAIgRAIgRAIgRAIgRAIgRAIgRAIgRAIgdaGu+06HEIgBEIgBEIgBEIgBEIgBEIgBEIgBEIgBEIgBEIgBEIgBEIgBEIgBO4IgeF2u7ojokSMEAiBEAiBEAiBEAiBEAiBEAiBEAiBEAiBEAiBEAiBEAiBEAiBEAgB/gO8USiEQAiEQAiEQAiEQAiEQAiEQAiEQAiEQAiEQAiEQAiEQAiEQAiEQAjcEQLDwWBwR0SJGCEQAiEQAiEQAiEQAiEQAiEQAiEQAiEQAiEQAiEQAiEQAiEQAiEQAjyBtwuFEAiBEAiBEAiBEAiBEAiBEAiBEAiBEAiBEAiBEAiBEAiBEAiBEAiBO0JguNtt7ogoESMEQiAEQiAEQiAEQiAEQiAEQiAEQiAEQiAEQiAEQiAEQiAEQiAEQmCY5+9iBCEQAiEQAiEQAiEQAiEQAiEQAiEQAiEQAiEQAiEQAiEQAiEQAiFwdwgMBy3/B97dUUckCYEQCIEQCIEQCIEQCIEQCIEQCIEQCIEQCIEQCIEQCIEQCIEQuO8EhoPB+L4zSP9DIARCIARCIARCIARCIARCIARCIARCIARCIARCIARCIARCIARC4M4Q4ALe6M4IE0FCIARCIARCIARCIARCIARCIARCIARCIARCIARCIARCIARCIARC4L4TGLa2ve8M0v8QCIEQCIEQCIEQCIEQCIEQCIEQCIEQCIEQCIEQCIEQCIEQCIEQuDMEhm23uzPCRJAQCIEQCIEQCIEQCIEQCIEQCIEQCIEQCIEQCIEQCIEQCIEQCIEQuO8EhqPh5L4zSP9DIARCIARCIARCIARCIARCIARCIARCIARCIARCIARCIARCIARC4M4QGLLdGWEiSAiEQAiEQAiEQAiEQAiEQAiEQAiEQAiEQAiEQAiEQAiEQAiEQAjcdwLDXf6E5n23gfQ/BEIgBEIgBEIgBEIgBEIgBEIgBEIgBEIgBEIgBEIgBEIgBELgDhEYbjerOyRORAmBEAiBEAiBEAiBEAiBEAiBEAiBEAiBEAiBEAiBEAiBEAiBEAiB+01gONjdbwDpfQiEQAiEQAiEQAiEQAiEQAiEQAiEQAiEQAiEQAiEQAiEQAiEQAjcJQL8F3ijuyRPZAmBEAiBEAiBEAiBEAiBEAiBEAiBEAiBEAiBEAiBEAiBEAiBEAiBe01gOBgM7zWAdD4EQiAEQiAEQiAEQiAEQiAEQiAEQiAEQiAEQiAEQiAEQiAEQiAE7hIBnsDLBby7pJDIEgIhEAIhEAIhEAIhEAIhEAIhEAIhEAIhEAIhEAIhEAIhEAIhcL8JDMf5E5r32wLS+xAIgRAIgRAIgRAIgRAIgRAIgRAIgRAIgRAIgRAIgRAIgRAIgTtFYDgYDu6UQBEmBEIgBEIgBEIgBEIgBEIgBEIgBEIgBEIgBEIgBEIgBEIgBEIgBO4zAf4PvFzAu88GkL6HQAiEQAiEQAiEQAiEQAiEQAiEQAiEQAiEQAiEQAiEQAiEQAjcLQLD7XZ7tySKNCEQAiEQAiEQAiEQAiEQAiEQAiEQAiEQAiEQAiEQAiEQAiEQAiFwjwkMvvqVp7s2bI1H8dpuD6Iu6u12bbPdtN1u27Zt3UbjeRuMR221XLXJaNImg1Ebc+1vQLmnjx627/2DP2xnF2/bdDZu3/veH7RXL3/TnpyetgcPTtunn3/eNjzo993f/712w/k/++Tn7Re/+qz9/BeftpvbFW0M2s3Nsr27vmmDwbDttrs2RpaT8bTdXp63f/2n/6J9/59/v728vmz//s//Q/vZ33zS5vMj2h62G85ZrjdtuVw2Tmyz2ZRz6QsXJsfjYZsfHSH/oF1S7vzNq6q/0d5oOGS/Pbbf9JV+TCZjOLS23tDH6aQNh+O2Wd3y3Y7CiP5Pp0dtPGI/ZcajaTs+7t9vb27b0XTG8Un7zW9+1SbIPqF9/4/B0aa1Ryen7YP3n7c//uM/gsdn7Uf/8yftHSyWVH3+7qaNBrRHfwaIxGnwHrYNPze39G9x09YUHKGjEW2cHJ+0xWLRZUJ5lxfncJ+2zWKFjGP6vmkj+rLm+2g8oQ/rtlqvqswEbvId0P/V8rbKnZ6eNF9nZ29hCUfIjOjjmP7ab+1hSPn1aln9HqH/AWz6d8sjMHobYBP9nT0cd1OW7frKavqL/tnHByeP2pMHDyg3aPPpvB3Np+3l67ftva88q3bfnJ23b3z9a22LXtbbZTt7d44crV1f37bbW+RA14vFkjZpgwpn8xllG/ZwW/akTY1G6As9rFcL7GVWOn/w8EG7vVlgJ/SBk61jvV4jNrZN/zxnpM54l/0W3a+o+Bg7ktvN7W2bTadlM4PqUWunJye0ueP8Vb022OPx8XFbLBfY1KTGkPY4RYbr6+t2NJu3MfqZoKvOdVU1rTbrau+Lp2KpczAaUo6xRtkrzrWeEd+VRRu+vcUOkMZz7Ef1GRtcYltjzl2h++lkWjJfXF3WOWiLDZ3aV8ostRvHA8xWa/pLPYulNkNbtHOKLv/dv/lX7c/+7T9p/+njv2w/+Pi/tZ9+8rK9ertoy9W0bQfYApy2W8YyvgJLQKRd2Y3jeY1NbTUA9qkwx5vW4Lu7p5MjxNkg66LGyxDbWzOevvHNb9X4XmO77z1/jo3Mq+/qfj6b0faqbZB1Oh0Xtxv4yNQ+jcu+e78myD+awEzDo8H1btOu0OOQsaHNffrpp/Cir/Rjs0Yq5eQ1Z0xtKatPGI6VdIQtM5jZ4RiQX++Sx6prpQf1YR0Q4B2jtTo4btGvrHUnI+pwDKrPof8PKf33u4Pj0ZOn7TE+9eLygq+cR//V2YcvnrcP3nvWzt6+aZ988jcl42x21L72tY+adv346bP2H3/wn9vFzWXbIZ+OfQf43QZPgs2XIPwGL37xpP3+d77Tnj170v7rj37cXr/6LbbmuJ6gN+0JHdBuCUv3dsje5ev11Z9eRm5trg9/+SoS0QJGvqt7j23p03iCfcKYbrbj+TH18g+fPUVf3/zmN9tnv/l1l4/zNhvH4RS9zrDbSbu5vG5/+i+/3/7ed7/d/svHf9V++Nc/oR74Ojbxg+vldflm/fxuS4OjWfkQPfwGubWyNbayxZ41AGXXLw2xiRqfbYX/e1gsXmEP11fXZbubFTYJg90Q/3I0wcec1DjpOoMttelbqRK7gRW27Tg0NgCAskYidKvdIO+zZ+j1yeN2dYk/tBycePP0+qWvkac+Qt/hptxu+h3565OrXTjNKt7M67jjfoI9H3RkH61fXfju5hgvUysfYpxARuKOfnuHfBSg3/ggbJ4dtLNBB0N0NGwnR4w96tQXOZb4iE5HFXcdcyts7Pz8EnNh3FB2qB3RH+OisdRYUbkDn5VnOLLj9Ic6ZDHD/+vL1AeNM7bxGSWS3gSdEhtvYTCmn0PHN/7T2KB/Mx6vaV92+kmZbfg+rro4lYocj1t0rp/SL3rMfZ5j7NBWV8sN3JfFVTmsW9lkox3obx2r6sztYOfGR8vrD2SsDO6ruIn0egL7o448NqLvVqH/sozbhJii/uzjCLs5+BY/rymjLPI07pvj9Bo0OXQCQzfrPPTVtkp2+mgs0GbMEWQwwpfp4+VcddGnDXVX7sUgXjNOyjbQ4YCxS+8pik3AiL+5Xtyt0Di50W7YxviONTI6ZpS9ukXbI3xzG1EG4daMRcfjhHjU9Uy1lLHPcjg9fVD508XFBf1dVY53jG5sq+KT45f2reP6ipwIO6r+oP/50Ywc8oZ4QQyYjujXrHSlncrO8Wmb2vYW2+g+gDhyTCzGHmbElqlxnWO3MJaZm7HINrfEhQ0yalelW+TuPXec6WPsorqfwLf7hoNu1UPn1vMoBKv+TJFRmzJ3LX9KHerBNrQxbXQMK9/VvWW0Edu6JpY7QJTZeuq4+6+v2sW7C3LKc8qO2xF5y6j0ho1RT9k6khpD9fOOJWWTtyztw3bvu7Uhj7u5Tx061vRtMiwfj/yHzX5SpPjIxP5XHMSmrKd0bsfY9AH64DnxS5u2rt7vXtbG9LPqelr5DvLuy1jW12HzY/dZnEX1zlvc7PspOSYAYbxut8wBZKl/ME+239UO52iT9lcmttk3DlB572KP08qtHhwr5ozK7jg+6EE7dS5R+uB0y5RvpV63AW34yb5SrHhZn5IoQ3GAnf3wJb8leah2oc6NiXNs9Qv/gC/R5pTZnF8dLCt2DEomNbJExlPmDG4PyRMWi9t2cf4WTuvyy9qH+bC+3/mU3JbkxdZT/o4c+tHjJ+0hLM1BzUvKLtGpdR/k1Jb1djJz7uWc8tYcnfgnW6gwRq+w+QH59Lz3jbG52M9TtC3nK7atbBUDsIER8UnbmRMjJvC07jF11DwHGRyzxpEZOnU+pg/XF5R9U+7k+LSYO9eQ44r4jAW1BXozbozgfoMMt8xFb4kBjx4/5Vz9M3wob5xRn3Ss+qavNv/UN06RS1n0beZqT4jvtzfXFS/0h+MJ8g3MEegHvvyEucLJycMab+fv3lXf+7xpBPfj9u7dZfmrBf6n5hPM/c7PXtN+z4kqfqBnbVcb0j8dkU85T7Bv+lKtyfmxMVVb0/Ts5yF3tQ5tpub8HHPc15ixi2WzWs2gxptxoI9bjtVGgf1mmdq+3FW24D7tsN79XD/4SziYE22J5cbzITneZmc+zFxFTgprvoQc64ojZG6ypeyaOKOdTtR3zTHkSRvke7stPok+25825OShsUr5GQ/UyaguvVm/RXzXFt26lNVw5TUWME/xgPMIbdl5945x77hGIA6ZJ9EfYon9dIwOjOn7uvsx23KfOx3r3adbtnIf2tZHjtCF9m2Mr3qw79vlDZ9pFz07d3Odw9x1hQz6f+cellW+rjvqYewZkXpuRW5XcXlYuezDByc1/5OpeaQ5WpeD8ymnfobGLOr0R+Z+lsFE58dn/YvxtvJLZNfeD5t2qP/T93lc27TbjhvXTJwXmB86J6tjVHyY9+j3ZDyGgf2hKJ/55fmc0wbY/XTV3v/qUfv7//AD4hpzn7991ZZX5AfjWXv2+ASf5rrUdXv/xVPWMC7brz87a0+ePm+nD58yT/oc3pN2fDJplzcv2x/+0dfbyemsvXl13X74V79kTYi+rfCnzfzhivhGkyPHvesr8HZ8T+YwgwXsu4+Wj7rtdqCwji3zXHVq5ytu0n/HsMcr3+Td8WR+5XH16edrcuRr/K5j3jWHFbHKdSvXYC4uL0s3rh3o89VF5QXGL/Tkq+ZptKm5ls2pM1st28OPkVerY7eDjrX4elGf8tkXx4+n6PvwehZnYx9FHHtVBjunJGPMGq2T/uhPAVS2wz771mOrNmAswB5pp+SpOr/85f4ed7v9mzMskFcO+k+le/DgYfm3ig8wcP2jy6q8xBj7hyg1loy31CkXx6rjyGPmbnwpG/O9/J3fsTvt1nPcb3881e/9tefxxXfKAMT2D3buu/Wrh/LJZefYhPsYJ7IZYxsT9CmPnlvLE3uwvS/ap3n7QR8cg3a+8hzGgSODZqRb5yhr9zP0ofKjPm5l7XnWY/tlj7SpvFNi/ANi+Clrkc5nrohTyqO9KYM+xBPFYH4o/yVtV4yHe+mRytWNuWXVz3HfbdJ+GctmrOfpD9ycX23wfdqEPCvvqTHQdVv5DLG09EN5xK4xY9/8Zt6Oa2Jcdp625esBa8snrLGdEO/NA27oi/5lRu6vb5mSDxgf3l0SP68WzGSphDG7oE8T5Hv56k216Ti2r3I+Yi5gXVCjf5bHB9PPCWu+l8w31MslaxGu++oL5XGYf5Re1YzsaN+x++jRE/zQV2hzQT3MJ83z97ZSTJHXXNT8vxiatwJAXWi/2i3fKueu9Q5yInVU8wv1Qpwwl3N9yLL2u87Q7vefXY9WRo5+oWPn0M55tFvtotjXZ/rsuZT2dENIjQG+a6v+dD+gr1E+x4A5FXSRa8xcT7vV77uV7/MzHI2P1sUJtI1982Mb1VdkcT4qz1qvp9hh3UMO11cXFQusV/t3M87ZrtyF7jF1Z/329f0XL2qsF/M6T704/9funM+73mju0ceGuZM50YK1ZXVlDmwurMzmZaUP5KS7pSNjVddTXw+gWM0hnc+cnZ+Ts51zXF/U0BFrDM7RaN/5QnGD18E31RinWut0DVrbNk/nVK6jvCI3ZU2b8eAa9BF5s2PadRjjkev2b16/ofwp8o/a27MzlVVrpZxOLsGaKlwdhxPW4B6ezts3vvEB9YxZR3xNnjhhDM2p423131x5hr3/+rOXjJGz9oh6R5xnv0/g8MH776OBQXv9+gw9Mpcifr1+e45PWNLWql0wTs4vroj3+D3KeR1EX2AsN5fRbjzfHOvWeQ16UIf2yxzWeVmtuSF72QRjDY/CtQzXZpzzc72BXPr0wRGqhhCfj46m9Nd5t7a4Zhyzboivc53+o/eetK9T9pjQeQI/Y+ycOVTNMTCXq6tb6hjW/o2JCnpZYVKVxyCL41X/KD/HPKJXHDafvmSdUL+gq/LlvKCvUbtuvGNN83N4sOaOvZt3Ocb1C7XeW4bU54rOV2oMqVPyDb2paxDazoi8eL3DZumn57ke6hqLdlTzi0pkTRARjH/10lhrwkINPZBriAhPIUOOW5VlLK3pnJOWb3/7d9tf/OAvKd8XHF68eJ/8xwVQkxUmLqdMMoCh8T5/70WbYAxejPrpT3+O8WgALDIBH4npKAEFxblA66RnMplVq0JTqSpamLqacpzI6Y8DqiS052x+75vf+z46gfCA47t98Dw3F9UcSJWk20vaJoQxwK2nJ5c6fh2iTkoDMRBqlK8JBiZJJvnLBRMxFnqPWCxbaWxU31vvk72TkyOU0xdjlV2n4YRU3jq0KaxckDOI6MRWXEBEgprgbA2oTEwrkGIxJowaxUyWKN8LBLIzwRuxiD2Ym43SPsr3gqvy7K5phO3k0aO2uDbZ3GGEV+XYvLhQ5ZEY91gGpAV0B8MnL9DYGQcOn2vRBJYVIOhLDzpypE3kq0GgDtBpBR4vCixJkhkYt4urdk45HZt6mMPThRrZTLYYKfW/u3inqG1MP55z4eLl52+KzWzORTgm+equEiQYOMBs7xi+OocFA165a+EUm/NnjDNRV0cE/T6R9DwCMcy1y93+XWfj4Nhgu31CYtLC4jJyHy7eqS+PWe526EXDnhR2Pi6iMCi1Uep1EmNgcZ9tqTMvHBpA/eymwzOgGCB1ePbNQb/kdYyDla2bjoHrCcXTPnm+PNWBfTAI1OIj5VxYMmn0zJ7k0V/2OwlWrh5gtW2T2J74VCP/xy/rdLOdD99/0f7pP/5HbYFN/PzXf8G+62pPJ70m2FmPSax+UB5OaurCF/KWUfSqShfVH+v2mJuyw2loQs1n2zXgOkYMVC6Y1EU766dujx/Y+V6JalXTOU9J7uRCBZU86jhdFDKRGKI77U4WXc5+8X7NIi1DrSbLiqRjPSyOm1A6tiw/9mI7fa3BAov+7hn/nxt1Uy26R7byWR2Ki+uXLGbvXLyhnb7Q2Sc88/kptnfbnjx+3F5w0fvh06ftgsW1737n99rHP/prbgww2Ohv6ZI+dUwijL/d0Yc1wfarH33U/uRP/hkTxKv2k5/+rPqlECZBXnxRHnVTC5D6/hLJX12JX37qfXasGZrrHD5BvcravgtdJqBu2rc6cbOvJprXTJxNTs7PXrHXiwr6s263enTH3BmJyS9/yYT7XJ9AfY5tgpj1uVixY+HGmwpqNHFs64XL+tF2HRvYPLp3vO8Y1wwBytsXxy3JBHWdUff15btKtDEUDmGHlDGpdALmeKV4jRX9mTJs3MfOYswYNsHQRsRU8Qw/ytSp4oT2iBSU9zC09uNQ+63xwHnyUm5tbV9J3aDiBStt3rFdfse42lwc1Wa+nFwBtPpoG47Hg+9Wbv01S3cV4+RqzPfit/3c4lT6mOMz6nbhUln6ghH7qPfkiIVQkgk3F5GVURudMj7X2J6m6wUCj5nYOZyMd/L3wuq4JkhoiHhn7LIB46m+26TeBUd5e9HPftZFd4VE+FnJycUczrFPNcGDlzfIKKfnV0KP3G4y8czKOUjsZNwnAP3c8s205XkmaF4EmdBGT9SM+8Q9qlI+YyGNVpvaTTW49yte2FHdB//gRTI3612Y9HkQQdSFfNVzXXyk/tG2Lx4Yw5xoVKwoe6oq6nufcFAB9SABB7qNWP/B/2nTffKtjrELGfHjVr5SxdCePEzy5WWZfpx9tolcxmzr1w95HbwA8NlFjp3v2jwiMIyqT056/KA9eh5k6S+TzP34ts7KqyivL9dWvaHGrSZW7qFtF75dCFdq++kNSu+4AOX42e3Io4iVbqKsMagsKEJdVV+x65rUMEZW+nxZ8XIyVIlxtby3G2SuGMo+fYw9dqF+u7ut3NJ2jPv7nu0RlGR2sWSwe8pSID1BXsWCProwzY/9UkaaqfNqrOPFK4HfAyz/p6xWUS9ZYiOMR+u3D+YiG/urP5QVx71pwcUEXYn5sLHIxP+wGGAcdRLops5k48RI+3MR1zr8bJuOA1xCyWp75cc5YL6vHyh7Kfup6upXP5OP1OFm/dZX/pD6auGVuip3Qk4XHJzcmPvUOR7jvAor/NJGFGNfXR0rvdIuPed4z5+8wajio0bo1pvnXP3LXkfu9m5BqPYxwWcU5s15Iya7srq+0ucbL7pNmPPLjHS/9lt1bZzqhSpvKNEXuG2Lm3YMb9tln3X63hdmOcl/NSY8w89K06k5/rUfeZWSLSAP7fawj8asz/3msvJVNxvyubGLVvRDf6Ntm29p57LXvx/81xHl3Lzo5xzjmgUu46hlr7kR8oI4pw9RnuMTb84g977xpi3mc95ghq707ebJE/KGp8+eVf7hRb2+iO346hcg6AmyICNMteYVZXBnZZPG6AkL4IgPB2KIubfjgrLmMzeMbeUr/7i3VevQFynDaIafw2aPiCv6CIeO9lILSLwjPjfGeYMaiy/EjSv66+YNe7JwgfCUuacym3+7IC67ZfmWHudW6wX9Jpaz39y7xhI5xRC+A2zOSOJc01xIQ3ChsORAZy6kqLYpnLRZFxprQZ3+mdMMiKvmIvrxGTJ4s6K+wnlDz3WZM5Z+GQC00+OU+QkXX2DjPME5jDlUXUiilGyM19484eL5bmceri/rc5zKM7Tnqq9olk+iI5KtNpSxxyT9g4OPf3bK+lGWP/rawT521vH6tbdkO/3/bH93z76A80U2SSI6m37RcWBMcGNwOb40Ej6MvQELni7ealeovfbvq4FDX9T03LVxxfHlmGGeW3XYiLL7RhnHojWXh6Bdy8rOY+aEarc2gx7HldMTdvgRRVKvineIt9ZlzoQldk6OI8pYoXu3XPjxREzAb5X7mTc5/6hciGMVD4qtvtm6jUHsr3zRizzsVxxspmyCysyhu8fpvVFSz5hwIUtf1tvUV6E96tKn6b9dANRv4pkRm37TZ3Nm84aSEB4TL4IqfG12pPMRjfVt+G4eJEmqRtaeT3iSdTu2XBhzDWLH+DZWlf3QjrJM7YyfXUPgp3IgLpIZ18y/KYwtezFBf8ENY1zofvjkmIXJJ/SNRbmTXXvzhoVcZUSWp88fca12UO+DnRd7IEETLt5Z90sWNfWpuyE8hqv27MUHbfNy0r76tQ/b1YUXxd+0v/3556z/ka+Skmy5SXiH3sbms/iA4+OHdcPTDF9oPkt3u87wAdqL+aU25MUmtVFjEh2Z5+hnZeLNDvpoddTtB5uAhXrsvs+bIa7wx7d8149rH3DFnvQbcjEO2zYWxg0K3lBlTHbNqN88ucY/1M2DSNXNF+n2tlixsvRDWfSivRgH3WzLzXmN/fGYp6lXftMhYLKJW/31rdu049Y5VPdVHOMcdVp1oMeqh9Mrxu3Pr3zDA/vvxYvzrENb97istKOyfeyncmmqd6wccp99FVVPr8t4YI6ATvCB1mMc6rL1tYLeCftVZ/Tf1Ku89qzyFd573cjozv2mxHXxumKtY7TbvWxl6fyomHFOzUkob/xQnppj8O44sx5jq3V5bq118C5bx4lzHbe+rtTnRcYH696hK89X3iqDfsy9B/qZcqiMHZM1uqhN+mP80EZlon3UzSpw8TvGVWVcQ7tlPdF1oppDIrc5gfJqH4e8cs76ojHIhfWKLc6NlYZ6brnBRF6OGb6WXBX/6JcYNR3XgKp+xqOMe/1e9LXv5LNw6Ztzv35RyrqrMOevi1O3E2XQTq65GXjOhbmjI244ItbLzQcd9O3HDOh+8zo36NCPa8ZWX+9j/sx3/tUYc16zoF+H+CdT1/i8maDbHLLTtnKUXSFL5d30wf3q5qCH3luL2teuX1mp19P5wxpnlR/SL89x/Gu32vo1669+rxvd1SPkzEX06YZkb15xhJbuEKc8M8fGez9T52lb5c/7ODQ88Y86PEHb39s6CtFHuZmrqKPDrxrFjG3Llll5kBejiV97BvglPaD+odZeKKI/8GLM0ZA1t71/kY37ZaG+xztsRoGo2Bvoe4yCJ37MOGtDlnPubw+MkxUPOVRrCeSA5Rvhp07NY7XPWo8l7o/lzjUDe1S6g49xwrmHN4nbgnq0DeNh6cLASxm3DXHHvHJGzqZderOf+X09/MDagOfWWNSuGUd10Re0Kkg5XEsdj8kr+fFmG8fqwpvm7T/y6mMO5/e8yyqdT3ddqOta7yff9+az45Oev3fldEW4tv2Mm/S9Qax8BnV7s6ZlZLMkBspswZrxwb/alnbh2r95KBEUXflZn4t9stbnQwvX1wsuej6GgWvzXhDWv7HmBbuj+bj8MghqrLleUjf3kZtr9940ZvyyPnP24k8wkoEX7x2z+iP770MS2qYv52By7Mfwm+jDHMLztEXIYr+0ISOeFjO9M/cun4k5mXtTKQ9O4f+p54i88QhGPgzkfMD5yzH98xqS51xzjUn90zLyYpP4bg6iO2/iozwvDKb7CGRzc6wYO+va00FX1KWvN0574dGxsuaXY/aG+LXiwp5rx96Ef7y/NvPw4aO9zze24wOo3xtPbhj3Xo+wNX2kmq68YcsFP/wECHreRgnXJbzGZDnXr4092H0HUmeiIZVUdP3Ay6fCIFkGst1w4UnnDSykqJeJhAPcIKAgKsvA8OTRg7bC0N4xYTqquw5PONYdnk7/nIVpjfbx40ft3fkVTu26FKZheqGlL/QSGBD0kjreMTHzaqYDRcVqqN55qShGCcXWWVR/AF3fdcTs7xfl+kD1t+ahkUjH3xaqJJ/KHLzKpTKgZeFCM+YJRBfzDBAa4fPnDqQlC8rnNaCcIHrx6Zg7H7/1zd9pT7mo+eP/8d/bJcdPp8c4Au++nLdfffpZKffrX/+otd+8bEuaOT+/rsE79aIbbXfjUDL1waI0CwjK4+Dwgp5PM/iESk2aOd87UTxvTrL55tXLcmaV+NHPKcm9gWQz4a4u2HrOshZIuSuF/o1HJqcEFIxpzRN5PmXZkyAY4tzKyOVSTrcnAB73xRAqGXc7r4rzHf4GSqyFl2oxybAXOFGesnLyPp8848InFzG5cu2AqQFJ+3UxCT1oR0vuWOmLI9yhzQD57ecv2wueXvzW7/5O+5wLcGfc3eDdMjolQjX6wWkxYNTUlCvx1R/uepCjFx2nJOAK4kIIoDSXuuPNxQsdVl9QZScJked03fPdje86mLooBhsnHNoo6TZlGVCyY6DK2HoNyJZ305HZnxnvXpn3jg4vPluz5bQXHUstamzYT1tLHKtt1NOgcKsJAGVu0Fm1sW+TL3WuDtrNcrI2OahzKKfjPnqofl1sMZktDBX0qjznuHhQd0Y4jr1+y92r9ksHUw4XPiO8rYsg3t18ujhpz3hCzCdy3vvKjKfF3m9vzm5wOjc1/tS/Y1Ab0Em7+GKfu2tCQx1NyVwgLEnDh/HoAZl4zICmLEc8XaG9OY69W9GgrL4t53GfnDERlI9cMbviUP4AHbv1hIADmID2YqLmRXcnDG6O3wERwnN1CBWk8SPdmk2glMtfHnfr9fZ3dx6+9yJV9IuyHFaOHqs9+f/alK3sCrtxQeby/Kx0aHAwOdswwXPBysneOQF7is6f4Ddvrifo4nH7g+9+p73/IRNT/O7HP/xxPcnyljvsizX9kZN+W1tf4D8WOJ2n6PAJL+s7wmdhdojIeEVXX/YF/6i9okOZdR19iWDQYRWzUvkBDlUYbN2nXsoO/M5nx4QBGWkIlrzwR92unRRqK51jLS4aa9j8bIL4mkm5NxvYn0pQELrsjTLqy02d+6kWyDi9Fkyxf/1jCcIx/ZKLwb12Eyfv6DOZkX+3q0pt6cAY/2tsKL9gEsS5jv8DBZPqQxs+Qarf0rZEsXJAkTR5h/6AxMSNluvYVkCUUa7iApviof1q17wLUJu3b9p82TA2NOJcJagkAJ+tPC6QO4k6+CTb0tzsKxVUH2xCPdpPdeAh95nE1hMNtOUO9TEkqTNWOBG1jHesmVh4IU3f5DHv/tOH47FtiCc0uHuLGHTwWcYj44c3Ijx6dFp5gQm6N/bIrMdrbaTL4b56YkP57ICiI5tJ1JQdlRgijJZonJa1MVEO2qa2ZoKmfHLo4x9SlLVCJ18jniiUb232FdvyHBfKTVhNjPT13qGFVKVLF7v0abJwwlETcfQjp4NNi7EWEznH+r2Jxkmw/GWuTG51DmVMzrocfVyZJNaiojA8vpdfzo5d2ZjMbjc9PqsT7UJ7rPFjK9i554ENOfFZe476DlKvzkDbLX2bRHrhy+Sa+qkQU6VlmKDjbu9wYp93JHqy2FyIdGGhb9gS/N3kUBvVK4HfOn/P8QjjDXmqHWSsfbaJDLJVj2XnyDLjrzgYq/vEh4k7DDzBO/66zF6owH7peyW9vHeb652s8eokmTzJ85zkVUymvXrSgzbldvA12s8GfddNNcjYY7yLJ93GqKR0U5MwPnedE9E4Lm9jcH2ml74bd4c8dei4dHJXvfedsi4YKzOVlEw1SS09URcyqUN5qCaqop8u/LIo6A642mdtVRl8eVybRaz6rDzePepd6y6k+ITwYuvTSH1xTHm04ZKJOpX9cGewDap/ZbO8sUhG2vJBv2Wz6tP2rYRzjKHFkz3q1zrto8d70SpZ8nmzmv3TzEdMsNS7+h3B7KBn7cYTZdEr8YuyaVP8kgVfugTs5+uWRQBlsP/6VM9Vr/ZtxA2A9sELPbI031syyTIAdNtTf9Zr/eYZvW77UZztC404YRtRsOvavxrCHaS047ynTi4JqcOyvBwHllVuO+Qnv3/xKjp9nMjNnF07rhuNlKX04E0hxBFlQjZ9qjXpi+qvbqz70zg+eanf0q9rU87DbLjKAs1JPS0gM75cfdmOghEHtSFWWIpdLcIrB7FVho4XfZdPttaTsZxbFzU9h82Lc84NHKKdQb/xzPHmIrwcdiYiyORfbnGB3fnLGfM/x5v9nXJRy7wVddWYqDyd2rQDn7gb4A/m6M/eaC8uPDk38YYu/aM+vF/k7Pm7/tD2F9R9TO6oHM5TjVf2VTb6N29KMLMzB/bmH77W2LeMd+YbX9aONVou388H+zNnHlh/eYXFucoFsDsX4OopRvrhTSUuBBlPrPOKO8i9kc75nTd8LLiJ0boZBchOfGQe6SL+dAZE6td/2I7v6rQ/fYa8+BR6WJyxMGR3c6ya33PhwwU92inbY98l+aIC6M8O/qLGMScaf2TvGNIeD7ZujTXurBl701/oC/aN1bs2pT57+5ZzULrR2S929g/+dmGsNvqEsZRPQSpiknOdrmPjiqzkTrMlszeserfxaExMd6xyTj1Z1hE4QEpWL3aYcGLBNOOLr/t6qG3vF7o8jqlqqArZe+r0h8OYca3naROdiwKhB2yt+sVb2Q3nelOmcspmaI5Y1dI/3jnCOcjBv4pRxk+Cq/5NVupqQED2ZqcF+dtqjQ6701Fy6uJ8y7K/xgXHbPfQRsV1+mcO640L/YK6/e52ow90qxwLOZfa/bwvgCu3dVbeWaUoZz3VRzqI/DLq/ggu7mcBXr15N7iLSNqum4xcJLOIi5V+d6/9tz8u3o0ZowPzYAC7aKgf0u68acBY4M2p/hWRGYuE3iix2brOMuIp2AfMTx5VmZe/fc2TBe/am3fX3LzAUzD4IlvaMZZGrzbt8QMX4hnTAtdm7SN+6pNf/ao940KfT9zOjjY8kTdv/+unv0COYfvss3fYJRfr8T3Ov/tFsWH78MP3GJPDerLBC8kVy1GreVL5bdqtOTZj09G4T+vwKyobNvT17O270i1FkZOxiS7NiHyKzs2nPC7wCUt075PDrofUXA8u5tmuGVQMwFZOHxxz4c6/RMKCHf6k/BBjUlnW6MmLpVxhrHq1Y21Eu9RGyk6wJdRLfXsb34/bKQm1PxiCqkF2q+gxE8tSg0hsHZxc5sQ7/6ocJ2xMFt2Mt8jjps1o34eLHIecQd+ivNql770ty1M/8jsu/OxfOrGs55cPR48lm51SGmSxTvc52vtBu9D3O2asv2yXM+oz8pTYdV51sk7zmPWoQ+23y+o+X+qydkrgIK5dpC79LfEOXR3qsH77Zlw1t3AepqweN9caj1wfZWGXV+UnyoI+DnNA/+rVbMBfY6CsPL7YqLj8/J7vId/33BKPo97NXRcTlM16S5Z9H4ypyAkCIdW4dQ5nfiBn469PzVhG/+n+DftdoPdY2Ru6ME5qAocLzBUP+K4M6s28q2KJsZqfmh8ho/YjYW/k1i7MIw52WRde9nW6NlU5KGWMvdpqXZzUcGnbp+Ptl/3bkLSsvRjEnP1mxRMwHJvN+Atb5kX46mLDxT1vVDYmF2c4DF3bs3+86ulaOmRsG+98CAJe6M9Y4w2G5mH+xQYv/HBi+QA7q9/TNyuM/bDfbtqL8tFhvmiLnUuVZac3U/mwig+F2AfXG8yhXID3PC+Qml/5BLA2Yt5dOVlvqGRzRHoDj5tY5D7Bf5lDt91R8TdXqZwf3vot7Y8mS3d1Jo3VegL7+Veb6+xlNzBw/dP466F+uH/ufWWfenYMc5wsrPrpL5Fo3+tLn25kHcKYQINLfKbr3vosN+ds5h2H+Q9ooeN4gste95V7sV/5yy/Q7+rHPga6Jq+tSd5ztTJfrs17A7D8lPNmwV9ioW3Xl839zBG9mcuban0Ksw36DcICUh5jqTeqeTF4iX++JlGmhzWWZUalJb8+5mD/zuW8OFR86MOIG0WueOLTeYF99TVkfJYPpS7LuZWfFBqSdx+idrEn6rDPMvDGNzn73TIHpt5kPJ9xoY26ihFjx3qMGY7ZmgNwot9dP/VGadtVb/qKFc2+fPWW+DbnGs0Jsi7aE9bWP/rquJ4unc38S0de8B6yZvOgdKf8pzzFb17r/Kn7sO63XZvwu4jqpjrO60y6v695Ose38HfTLrQBZXNsmb+YKzsWS06OGev69QDq4JwR+X8jB1RX9defiiU+DJ8lxjnj9IgHgJ6TLzzixlU9tjbg+D1GPxsubC4Y0/oz/ceKvIGaqu6pa1QMoYqPtFVjmjrN12WmDVNb3Yjt+o46GTBW9AX1V0rQFcJTr/4TMem//u+CJ3Xtw7P9mpjzcX2uFztd41Jn9tkc0Px+xzleWPaYOlRdtd7De/dZxEjO2lD/nCciveCo//jfIqPTz9dlUVoAAAAASUVORK5CYII=\n",
      "text/plain": [
       "<IPython.core.display.Image object>"
      ]
     },
     "execution_count": 116,
     "metadata": {},
     "output_type": "execute_result"
    }
   ],
   "source": [
    "from IPython.display import Image\n",
    "Image(filename='/Users/davidgomez/Desktop/Python Web Scraping/Email confirming headphone deal.png')"
   ]
  },
  {
   "cell_type": "code",
   "execution_count": 118,
   "id": "b9a73a8b",
   "metadata": {
    "scrolled": true
   },
   "outputs": [
    {
     "name": "stdout",
     "output_type": "stream",
     "text": [
      "             Title  Price          Seller  Rating\n",
      "0  Jabra Elite 45h   49.9           Jabra     4.3\n",
      "1    JBL Tune500BT   39.9             JBL     4.5\n",
      "2    Sony Wh-CH510   49.0  Amazon Renewed     4.4\n",
      "3    Sony Wh-CH510   49.0  Amazon Renewed     4.4\n",
      "4  Jabra Elite 45h   49.9           Jabra     4.3\n",
      "5    JBL Tune500BT   39.9             JBL     4.5\n",
      "6    Sony  Wh-CH51   49.0  Amazon Renewed     4.4\n",
      "7  Jabra Elite 45h   49.9           Jabra     4.3\n",
      "8    JBL Tune500BT   39.9             JBL     4.5\n",
      "9    Sony  Wh-CH51   49.0  Amazon Renewed     4.4\n"
     ]
    }
   ],
   "source": [
    "# Printing the final result of the CSV.\n",
    "\n",
    "df = pd.read_csv('/Users/davidgomez/PycharmProjects/pythonProject/AmazonScrapedData.csv')\n",
    "\n",
    "print(df)"
   ]
  }
 ],
 "metadata": {
  "kernelspec": {
   "display_name": "Python 3 (ipykernel)",
   "language": "python",
   "name": "python3"
  },
  "language_info": {
   "codemirror_mode": {
    "name": "ipython",
    "version": 3
   },
   "file_extension": ".py",
   "mimetype": "text/x-python",
   "name": "python",
   "nbconvert_exporter": "python",
   "pygments_lexer": "ipython3",
   "version": "3.9.7"
  }
 },
 "nbformat": 4,
 "nbformat_minor": 5
}
